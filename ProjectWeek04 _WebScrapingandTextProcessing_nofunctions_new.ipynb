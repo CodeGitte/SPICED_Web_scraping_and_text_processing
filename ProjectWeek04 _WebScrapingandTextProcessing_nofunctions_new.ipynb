{
 "cells": [
  {
   "cell_type": "markdown",
   "id": "12d24d89",
   "metadata": {},
   "source": [
    "# SPICED Academy ///  Project Week 04 /// Web Scraping and Text Processing"
   ]
  },
  {
   "cell_type": "markdown",
   "id": "7bea6033",
   "metadata": {},
   "source": [
    "***"
   ]
  },
  {
   "cell_type": "markdown",
   "id": "a94e741f",
   "metadata": {},
   "source": [
    "## I. Define goal\n",
    "\n",
    "The goal of this project is to develop a text classifier that predicts the probability of a song being rightously classified to a certain artist, in this case MacMiller and James Blake. Those two artist were picked because they are my current favourite musicians. In concrete, the albums \"Friends that break your heart\" (by James Blake) and \"Circles\" (by Mac Miller) were compared. "
   ]
  },
  {
   "cell_type": "markdown",
   "id": "b6ff42ef",
   "metadata": {},
   "source": [
    "***"
   ]
  },
  {
   "cell_type": "markdown",
   "id": "8acc7910",
   "metadata": {},
   "source": [
    "## II. Import libraries "
   ]
  },
  {
   "cell_type": "code",
   "execution_count": 1,
   "id": "6f59e032",
   "metadata": {},
   "outputs": [],
   "source": [
    "#data processing and general\n",
    "import pandas as pd\n",
    "import json\n",
    "import pprint\n",
    "\n",
    "#web scraping\n",
    "import api_key\n",
    "import lyricsgenius as genius\n",
    "import re\n",
    "\n",
    "#feature engineering\n",
    "import nltk \n",
    "from nltk.tokenize import TreebankWordTokenizer \n",
    "from nltk.tokenize import word_tokenize\n",
    "from nltk.stem import WordNetLemmatizer\n",
    "from nltk.corpus import stopwords\n",
    "from sklearn.feature_extraction.text import TfidfVectorizer\n",
    "from sklearn.model_selection import train_test_split\n",
    "from sklearn.pipeline import Pipeline\n",
    "\n",
    "#machine learning models\n",
    "from sklearn.naive_bayes import MultinomialNB\n",
    "\n",
    "#metrics\n",
    "import sklearn.metrics as metrics"
   ]
  },
  {
   "cell_type": "markdown",
   "id": "535b7049",
   "metadata": {},
   "source": [
    "***"
   ]
  },
  {
   "cell_type": "markdown",
   "id": "e419b309",
   "metadata": {},
   "source": [
    "## III. Import and transform data"
   ]
  },
  {
   "cell_type": "markdown",
   "id": "4c627e22",
   "metadata": {},
   "source": [
    "*Requesting access from Genius*"
   ]
  },
  {
   "cell_type": "code",
   "execution_count": 2,
   "id": "8256e4e2",
   "metadata": {},
   "outputs": [],
   "source": [
    "#access token from Genius\n",
    "client_access_token = api_key.your_client_access_token\n",
    "genius = genius.Genius(client_access_token)"
   ]
  },
  {
   "cell_type": "markdown",
   "id": "0414643f",
   "metadata": {},
   "source": [
    "***"
   ]
  },
  {
   "cell_type": "markdown",
   "id": "8352c06e",
   "metadata": {},
   "source": [
    "*Understanding the functionalities of LyricsGenius*"
   ]
  },
  {
   "cell_type": "code",
   "execution_count": null,
   "id": "ea6f3b12",
   "metadata": {},
   "outputs": [],
   "source": [
    "#accessing a couple of songs from James Blake\n",
    "#JamesBlake = genius.search_artist(\"James Blake\", 6)"
   ]
  },
  {
   "cell_type": "code",
   "execution_count": null,
   "id": "cdefe4a3",
   "metadata": {},
   "outputs": [],
   "source": [
    "#printing the song lyrics\n",
    "#for song in JamesBlake.songs:\n",
    "    #print(song.lyrics)"
   ]
  },
  {
   "cell_type": "code",
   "execution_count": 3,
   "id": "97f4f988",
   "metadata": {},
   "outputs": [
    {
     "name": "stdout",
     "output_type": "stream",
     "text": [
      "Searching for \"James Blake\" by Famous last words...\n",
      "Done.\n"
     ]
    }
   ],
   "source": [
    "#searching for one specific song\n",
    "song = genius.search_song(\"James Blake\", \"Famous last words\")"
   ]
  },
  {
   "cell_type": "code",
   "execution_count": null,
   "id": "00f2a76e",
   "metadata": {},
   "outputs": [],
   "source": [
    "#printing the lyrics of \"Limit to your love\" by \"James Blake\"\n",
    "#song.lyrics"
   ]
  },
  {
   "cell_type": "markdown",
   "id": "6c670125",
   "metadata": {},
   "source": [
    "<font color = 'blue'> Summary of LyricsGenius </font> In order to use the lyrics for the machine learning model, the text has to be cleaned. In concrete, `\\n` and word phrases like `[Verse 1]` have to be filtered out."
   ]
  },
  {
   "cell_type": "markdown",
   "id": "2a8b5f48",
   "metadata": {},
   "source": [
    "***"
   ]
  },
  {
   "cell_type": "markdown",
   "id": "46b57e92",
   "metadata": {},
   "source": [
    "*Accessing the albums \"Friends that break your heart\" by James Blake and \"Circles\" by Mac Miller*"
   ]
  },
  {
   "cell_type": "code",
   "execution_count": null,
   "id": "5b507cc1",
   "metadata": {},
   "outputs": [],
   "source": [
    "#saving the lyrics of the album \"Friends that break your heart\" by \"James Blake\" as json file\n",
    "#album = genius.search_album(\"Friends that break your heart\", \"James Blake\")\n",
    "#album.save_lyrics"
   ]
  },
  {
   "cell_type": "code",
   "execution_count": null,
   "id": "e3a120bc",
   "metadata": {},
   "outputs": [],
   "source": [
    "#saving the lyrics of the album \"Circles\" by \"Mac Miller\" as json file\n",
    "#album = genius.search_album(\"Circles\", \"Mac Miller\")\n",
    "#album.save_lyrics"
   ]
  },
  {
   "cell_type": "markdown",
   "id": "87fcaada",
   "metadata": {},
   "source": [
    "***"
   ]
  },
  {
   "cell_type": "markdown",
   "id": "da7ff68b",
   "metadata": {},
   "source": [
    "*Converting the json files into dataframes (James Blake)*"
   ]
  },
  {
   "cell_type": "code",
   "execution_count": 5,
   "id": "ffa7ac24",
   "metadata": {},
   "outputs": [],
   "source": [
    "#opening the json files\n",
    "with open('Lyrics_FriendsThatBreakYourHeart.json', 'r') as read_file:\n",
    "    jamesblake_json = json.load(read_file)"
   ]
  },
  {
   "cell_type": "code",
   "execution_count": null,
   "id": "1ee5d620",
   "metadata": {},
   "outputs": [],
   "source": [
    "#understanding the structure of the json file\n",
    "#pprint.pprint(jamesblake_json['tracks'][0]['song']['lyrics'])"
   ]
  },
  {
   "cell_type": "code",
   "execution_count": null,
   "id": "9ced0f87",
   "metadata": {},
   "outputs": [],
   "source": [
    "#understanding the structure of the json file\n",
    "#pprint.pprint(jamesblake_json['tracks'][0])"
   ]
  },
  {
   "cell_type": "code",
   "execution_count": 6,
   "id": "ef894a11",
   "metadata": {},
   "outputs": [],
   "source": [
    "#writing an empty list\n",
    "list_jamesblake = []"
   ]
  },
  {
   "cell_type": "code",
   "execution_count": 7,
   "id": "0c923939",
   "metadata": {},
   "outputs": [],
   "source": [
    "#slicing out the lyrics and the artist's name and fill them into the empty list\n",
    "for track in jamesblake_json['tracks']:\n",
    "    X = track['song']['lyrics']\n",
    "    y = track['song']['artist']\n",
    "    list_jamesblake.append([X,y])"
   ]
  },
  {
   "cell_type": "code",
   "execution_count": null,
   "id": "97e9d273",
   "metadata": {},
   "outputs": [],
   "source": [
    "#inspecting the filled list\n",
    "#list_jamesblake"
   ]
  },
  {
   "cell_type": "code",
   "execution_count": 8,
   "id": "2490cbc7",
   "metadata": {},
   "outputs": [
    {
     "data": {
      "text/html": [
       "<div>\n",
       "<style scoped>\n",
       "    .dataframe tbody tr th:only-of-type {\n",
       "        vertical-align: middle;\n",
       "    }\n",
       "\n",
       "    .dataframe tbody tr th {\n",
       "        vertical-align: top;\n",
       "    }\n",
       "\n",
       "    .dataframe thead th {\n",
       "        text-align: right;\n",
       "    }\n",
       "</style>\n",
       "<table border=\"1\" class=\"dataframe\">\n",
       "  <thead>\n",
       "    <tr style=\"text-align: right;\">\n",
       "      <th></th>\n",
       "      <th>X</th>\n",
       "      <th>y</th>\n",
       "    </tr>\n",
       "  </thead>\n",
       "  <tbody>\n",
       "    <tr>\n",
       "      <th>0</th>\n",
       "      <td>[Verse 1]\\nAnd I can't believe I'm still talki...</td>\n",
       "      <td>James Blake</td>\n",
       "    </tr>\n",
       "    <tr>\n",
       "      <th>1</th>\n",
       "      <td>[Intro]\\nDaytrip took it to ten (Hey)\\n\\n[Vers...</td>\n",
       "      <td>James Blake</td>\n",
       "    </tr>\n",
       "    <tr>\n",
       "      <th>2</th>\n",
       "      <td>[Intro: James Blake]\\nCan't stick to that\\nCan...</td>\n",
       "      <td>James Blake</td>\n",
       "    </tr>\n",
       "    <tr>\n",
       "      <th>3</th>\n",
       "      <td>[Verse 1]\\nI hold my ear to a shell\\nI hear so...</td>\n",
       "      <td>James Blake</td>\n",
       "    </tr>\n",
       "    <tr>\n",
       "      <th>4</th>\n",
       "      <td>[Intro: James Blake]\\nI've been losing all of ...</td>\n",
       "      <td>James Blake</td>\n",
       "    </tr>\n",
       "    <tr>\n",
       "      <th>5</th>\n",
       "      <td>[Pre-Chorus]\\nLover, is it alright, the way it...</td>\n",
       "      <td>James Blake</td>\n",
       "    </tr>\n",
       "    <tr>\n",
       "      <th>6</th>\n",
       "      <td>[Intro]\\nMetro\\n\\n[Verse 1]\\nIt was built, in ...</td>\n",
       "      <td>James Blake</td>\n",
       "    </tr>\n",
       "    <tr>\n",
       "      <th>7</th>\n",
       "      <td>[Chorus]\\nShow me\\nI wish you'd show me\\nShow ...</td>\n",
       "      <td>James Blake</td>\n",
       "    </tr>\n",
       "    <tr>\n",
       "      <th>8</th>\n",
       "      <td>[Intro]\\nYeah, alright (Woo-hoo)\\nTwo, three\\n...</td>\n",
       "      <td>James Blake</td>\n",
       "    </tr>\n",
       "    <tr>\n",
       "      <th>9</th>\n",
       "      <td>[Intro]\\nWhatever makes you\\nWhatever makes yo...</td>\n",
       "      <td>James Blake</td>\n",
       "    </tr>\n",
       "    <tr>\n",
       "      <th>10</th>\n",
       "      <td>[Chorus]\\nI have haunted many photographs\\nIn ...</td>\n",
       "      <td>James Blake</td>\n",
       "    </tr>\n",
       "    <tr>\n",
       "      <th>11</th>\n",
       "      <td>[Verse 1]\\nIf I'm so happy\\nHow am I losing al...</td>\n",
       "      <td>James Blake</td>\n",
       "    </tr>\n",
       "  </tbody>\n",
       "</table>\n",
       "</div>"
      ],
      "text/plain": [
       "                                                    X            y\n",
       "0   [Verse 1]\\nAnd I can't believe I'm still talki...  James Blake\n",
       "1   [Intro]\\nDaytrip took it to ten (Hey)\\n\\n[Vers...  James Blake\n",
       "2   [Intro: James Blake]\\nCan't stick to that\\nCan...  James Blake\n",
       "3   [Verse 1]\\nI hold my ear to a shell\\nI hear so...  James Blake\n",
       "4   [Intro: James Blake]\\nI've been losing all of ...  James Blake\n",
       "5   [Pre-Chorus]\\nLover, is it alright, the way it...  James Blake\n",
       "6   [Intro]\\nMetro\\n\\n[Verse 1]\\nIt was built, in ...  James Blake\n",
       "7   [Chorus]\\nShow me\\nI wish you'd show me\\nShow ...  James Blake\n",
       "8   [Intro]\\nYeah, alright (Woo-hoo)\\nTwo, three\\n...  James Blake\n",
       "9   [Intro]\\nWhatever makes you\\nWhatever makes yo...  James Blake\n",
       "10  [Chorus]\\nI have haunted many photographs\\nIn ...  James Blake\n",
       "11  [Verse 1]\\nIf I'm so happy\\nHow am I losing al...  James Blake"
      ]
     },
     "execution_count": 8,
     "metadata": {},
     "output_type": "execute_result"
    }
   ],
   "source": [
    "#creating a dataframe from the list\n",
    "df_jamesblake = pd.DataFrame(list_jamesblake, columns=['X', 'y'])\n",
    "df_jamesblake"
   ]
  },
  {
   "cell_type": "markdown",
   "id": "00ed82a0",
   "metadata": {},
   "source": [
    "***"
   ]
  },
  {
   "cell_type": "markdown",
   "id": "7c61e2d7",
   "metadata": {},
   "source": [
    "*Converting the json files into dataframes (Mac Miller)*"
   ]
  },
  {
   "cell_type": "code",
   "execution_count": 9,
   "id": "3f75e617",
   "metadata": {},
   "outputs": [],
   "source": [
    "#opening the json files\n",
    "with open('Lyrics_Circles.json', 'r') as read_file:\n",
    "    macmiller_json = json.load(read_file)"
   ]
  },
  {
   "cell_type": "code",
   "execution_count": null,
   "id": "5129fca2",
   "metadata": {},
   "outputs": [],
   "source": [
    "#understanding the structure of the json file\n",
    "#pprint.pprint(macmiller_json['tracks'][0]['song']['lyrics'])"
   ]
  },
  {
   "cell_type": "code",
   "execution_count": null,
   "id": "6f921964",
   "metadata": {},
   "outputs": [],
   "source": [
    "#understanding the structure of the json file\n",
    "#pprint.pprint(macmiller_json['tracks'][0])"
   ]
  },
  {
   "cell_type": "code",
   "execution_count": 10,
   "id": "a9c5a215",
   "metadata": {},
   "outputs": [],
   "source": [
    "#writing an empty list\n",
    "list_macmiller = []"
   ]
  },
  {
   "cell_type": "code",
   "execution_count": 11,
   "id": "35b95749",
   "metadata": {},
   "outputs": [],
   "source": [
    "#slicing out the lyrics and the artist's name and fill them into the empty list\n",
    "for track in macmiller_json['tracks']:\n",
    "    X = track['song']['lyrics']\n",
    "    y = track['song']['artist']\n",
    "    list_macmiller.append([X,y])"
   ]
  },
  {
   "cell_type": "code",
   "execution_count": 12,
   "id": "9b1968e2",
   "metadata": {},
   "outputs": [],
   "source": [
    "#inspecting the filled list\n",
    "#list_macmiller"
   ]
  },
  {
   "cell_type": "code",
   "execution_count": 13,
   "id": "835fa74e",
   "metadata": {},
   "outputs": [],
   "source": [
    "#creating a dataframe from the list\n",
    "df_macmiller = pd.DataFrame(list_macmiller, columns=['X', 'y'])"
   ]
  },
  {
   "cell_type": "markdown",
   "id": "a7f8b33c",
   "metadata": {},
   "source": [
    "***"
   ]
  },
  {
   "cell_type": "code",
   "execution_count": 14,
   "id": "f8f39944",
   "metadata": {},
   "outputs": [
    {
     "data": {
      "text/html": [
       "<div>\n",
       "<style scoped>\n",
       "    .dataframe tbody tr th:only-of-type {\n",
       "        vertical-align: middle;\n",
       "    }\n",
       "\n",
       "    .dataframe tbody tr th {\n",
       "        vertical-align: top;\n",
       "    }\n",
       "\n",
       "    .dataframe thead th {\n",
       "        text-align: right;\n",
       "    }\n",
       "</style>\n",
       "<table border=\"1\" class=\"dataframe\">\n",
       "  <thead>\n",
       "    <tr style=\"text-align: right;\">\n",
       "      <th></th>\n",
       "      <th>X</th>\n",
       "      <th>y</th>\n",
       "    </tr>\n",
       "  </thead>\n",
       "  <tbody>\n",
       "    <tr>\n",
       "      <th>0</th>\n",
       "      <td>[Verse 1]\\nAnd I can't believe I'm still talki...</td>\n",
       "      <td>James Blake</td>\n",
       "    </tr>\n",
       "    <tr>\n",
       "      <th>1</th>\n",
       "      <td>[Intro]\\nDaytrip took it to ten (Hey)\\n\\n[Vers...</td>\n",
       "      <td>James Blake</td>\n",
       "    </tr>\n",
       "    <tr>\n",
       "      <th>2</th>\n",
       "      <td>[Intro: James Blake]\\nCan't stick to that\\nCan...</td>\n",
       "      <td>James Blake</td>\n",
       "    </tr>\n",
       "    <tr>\n",
       "      <th>3</th>\n",
       "      <td>[Verse 1]\\nI hold my ear to a shell\\nI hear so...</td>\n",
       "      <td>James Blake</td>\n",
       "    </tr>\n",
       "    <tr>\n",
       "      <th>4</th>\n",
       "      <td>[Intro: James Blake]\\nI've been losing all of ...</td>\n",
       "      <td>James Blake</td>\n",
       "    </tr>\n",
       "    <tr>\n",
       "      <th>5</th>\n",
       "      <td>[Pre-Chorus]\\nLover, is it alright, the way it...</td>\n",
       "      <td>James Blake</td>\n",
       "    </tr>\n",
       "    <tr>\n",
       "      <th>6</th>\n",
       "      <td>[Intro]\\nMetro\\n\\n[Verse 1]\\nIt was built, in ...</td>\n",
       "      <td>James Blake</td>\n",
       "    </tr>\n",
       "    <tr>\n",
       "      <th>7</th>\n",
       "      <td>[Chorus]\\nShow me\\nI wish you'd show me\\nShow ...</td>\n",
       "      <td>James Blake</td>\n",
       "    </tr>\n",
       "    <tr>\n",
       "      <th>8</th>\n",
       "      <td>[Intro]\\nYeah, alright (Woo-hoo)\\nTwo, three\\n...</td>\n",
       "      <td>James Blake</td>\n",
       "    </tr>\n",
       "    <tr>\n",
       "      <th>9</th>\n",
       "      <td>[Intro]\\nWhatever makes you\\nWhatever makes yo...</td>\n",
       "      <td>James Blake</td>\n",
       "    </tr>\n",
       "    <tr>\n",
       "      <th>10</th>\n",
       "      <td>[Chorus]\\nI have haunted many photographs\\nIn ...</td>\n",
       "      <td>James Blake</td>\n",
       "    </tr>\n",
       "    <tr>\n",
       "      <th>11</th>\n",
       "      <td>[Verse 1]\\nIf I'm so happy\\nHow am I losing al...</td>\n",
       "      <td>James Blake</td>\n",
       "    </tr>\n",
       "    <tr>\n",
       "      <th>0</th>\n",
       "      <td>[Verse]\\nWell, this is what it look like right...</td>\n",
       "      <td>Mac Miller</td>\n",
       "    </tr>\n",
       "    <tr>\n",
       "      <th>1</th>\n",
       "      <td>[Verse 1]\\nOutside is cloudy, but I like that ...</td>\n",
       "      <td>Mac Miller</td>\n",
       "    </tr>\n",
       "    <tr>\n",
       "      <th>2</th>\n",
       "      <td>[Intro]\\nIt's a blue world without you\\nIt's a...</td>\n",
       "      <td>Mac Miller</td>\n",
       "    </tr>\n",
       "    <tr>\n",
       "      <th>3</th>\n",
       "      <td>[Verse 1]\\nI spent the whole day in my head\\nD...</td>\n",
       "      <td>Mac Miller</td>\n",
       "    </tr>\n",
       "    <tr>\n",
       "      <th>4</th>\n",
       "      <td>[Verse 1]\\nI'm so close I can taste it\\nThe ma...</td>\n",
       "      <td>Mac Miller</td>\n",
       "    </tr>\n",
       "    <tr>\n",
       "      <th>5</th>\n",
       "      <td>[Intro]\\nEverybody's gotta live\\nAnd everybody...</td>\n",
       "      <td>Mac Miller</td>\n",
       "    </tr>\n",
       "    <tr>\n",
       "      <th>6</th>\n",
       "      <td>[Intro]\\nYeah, yeah, yeah, yeah, yeah, yeah\\n\\...</td>\n",
       "      <td>Mac Miller</td>\n",
       "    </tr>\n",
       "    <tr>\n",
       "      <th>7</th>\n",
       "      <td>[Verse 1: Mac Miller]\\nI'm thinkin' maybe I sh...</td>\n",
       "      <td>Mac Miller</td>\n",
       "    </tr>\n",
       "    <tr>\n",
       "      <th>8</th>\n",
       "      <td>[Chorus]\\nThat's on me, that's on me, I know\\n...</td>\n",
       "      <td>Mac Miller</td>\n",
       "    </tr>\n",
       "    <tr>\n",
       "      <th>9</th>\n",
       "      <td>[Intro]\\nYeah, yeah, yeah, yeah, yeah, yeah\\nY...</td>\n",
       "      <td>Mac Miller</td>\n",
       "    </tr>\n",
       "    <tr>\n",
       "      <th>10</th>\n",
       "      <td>[Intro]\\nYeah, yeah\\nHey, hey, hey\\nHey, hey, ...</td>\n",
       "      <td>Mac Miller</td>\n",
       "    </tr>\n",
       "    <tr>\n",
       "      <th>11</th>\n",
       "      <td>[Verse 1]\\nOnce a day, I rise\\nOnce a day, I f...</td>\n",
       "      <td>Mac Miller</td>\n",
       "    </tr>\n",
       "  </tbody>\n",
       "</table>\n",
       "</div>"
      ],
      "text/plain": [
       "                                                    X            y\n",
       "0   [Verse 1]\\nAnd I can't believe I'm still talki...  James Blake\n",
       "1   [Intro]\\nDaytrip took it to ten (Hey)\\n\\n[Vers...  James Blake\n",
       "2   [Intro: James Blake]\\nCan't stick to that\\nCan...  James Blake\n",
       "3   [Verse 1]\\nI hold my ear to a shell\\nI hear so...  James Blake\n",
       "4   [Intro: James Blake]\\nI've been losing all of ...  James Blake\n",
       "5   [Pre-Chorus]\\nLover, is it alright, the way it...  James Blake\n",
       "6   [Intro]\\nMetro\\n\\n[Verse 1]\\nIt was built, in ...  James Blake\n",
       "7   [Chorus]\\nShow me\\nI wish you'd show me\\nShow ...  James Blake\n",
       "8   [Intro]\\nYeah, alright (Woo-hoo)\\nTwo, three\\n...  James Blake\n",
       "9   [Intro]\\nWhatever makes you\\nWhatever makes yo...  James Blake\n",
       "10  [Chorus]\\nI have haunted many photographs\\nIn ...  James Blake\n",
       "11  [Verse 1]\\nIf I'm so happy\\nHow am I losing al...  James Blake\n",
       "0   [Verse]\\nWell, this is what it look like right...   Mac Miller\n",
       "1   [Verse 1]\\nOutside is cloudy, but I like that ...   Mac Miller\n",
       "2   [Intro]\\nIt's a blue world without you\\nIt's a...   Mac Miller\n",
       "3   [Verse 1]\\nI spent the whole day in my head\\nD...   Mac Miller\n",
       "4   [Verse 1]\\nI'm so close I can taste it\\nThe ma...   Mac Miller\n",
       "5   [Intro]\\nEverybody's gotta live\\nAnd everybody...   Mac Miller\n",
       "6   [Intro]\\nYeah, yeah, yeah, yeah, yeah, yeah\\n\\...   Mac Miller\n",
       "7   [Verse 1: Mac Miller]\\nI'm thinkin' maybe I sh...   Mac Miller\n",
       "8   [Chorus]\\nThat's on me, that's on me, I know\\n...   Mac Miller\n",
       "9   [Intro]\\nYeah, yeah, yeah, yeah, yeah, yeah\\nY...   Mac Miller\n",
       "10  [Intro]\\nYeah, yeah\\nHey, hey, hey\\nHey, hey, ...   Mac Miller\n",
       "11  [Verse 1]\\nOnce a day, I rise\\nOnce a day, I f...   Mac Miller"
      ]
     },
     "execution_count": 14,
     "metadata": {},
     "output_type": "execute_result"
    }
   ],
   "source": [
    "#concate both dataframes\n",
    "frames = [df_jamesblake, df_macmiller]\n",
    "df = pd.concat(frames)\n",
    "df"
   ]
  },
  {
   "cell_type": "markdown",
   "id": "34defcf5",
   "metadata": {},
   "source": [
    "***"
   ]
  },
  {
   "cell_type": "markdown",
   "id": "eb36ff0f",
   "metadata": {},
   "source": [
    "## IV. Feature Engineering"
   ]
  },
  {
   "cell_type": "markdown",
   "id": "a137da06",
   "metadata": {},
   "source": [
    "*Cleaning the dataframe*"
   ]
  },
  {
   "cell_type": "code",
   "execution_count": 15,
   "id": "a00ef072",
   "metadata": {},
   "outputs": [
    {
     "name": "stderr",
     "output_type": "stream",
     "text": [
      "/var/folders/n_/f0kktvdx00s93tvvh3xlcch40000gn/T/ipykernel_10066/2621719809.py:4: FutureWarning: The default value of regex will change from True to False in a future version.\n",
      "  df['X'] = df['X'].str.replace(r\"\\(.*\\)\",\" \") #removes brackets and everything that is inside of it\n",
      "/var/folders/n_/f0kktvdx00s93tvvh3xlcch40000gn/T/ipykernel_10066/2621719809.py:5: FutureWarning: The default value of regex will change from True to False in a future version.\n",
      "  df['X'] = df['X'].str.replace(r\"\\[.*\\]\",\" \") #removes squared brackets and everything that is inside of it\n"
     ]
    }
   ],
   "source": [
    "#cleaning the dataframe\n",
    "df['X'] = df['X'].str.replace('\\n',' ', regex = True) #removes all newlines \n",
    "df['X'] = df['X'].str.replace(',',' ', regex = True) #removes all commas\n",
    "df['X'] = df['X'].str.replace(r\"\\(.*\\)\",\" \") #removes brackets and everything that is inside of it\n",
    "df['X'] = df['X'].str.replace(r\"\\[.*\\]\",\" \") #removes squared brackets and everything that is inside of it\n",
    "df['X'] = df['X'].str.lower() #lowers all words in X\n",
    "df['y'] = df['y'].str.lower() #lowers all words in y\n",
    "df['y'] = df['y'].str.replace(' ','', regex = True) #removes the whitespace in y\n",
    "df.reset_index(drop=True, inplace=True) #reseting the index"
   ]
  },
  {
   "cell_type": "markdown",
   "id": "23a2a079",
   "metadata": {},
   "source": [
    "***"
   ]
  },
  {
   "cell_type": "markdown",
   "id": "746e15c2",
   "metadata": {},
   "source": [
    "*Tokenization*"
   ]
  },
  {
   "cell_type": "code",
   "execution_count": 16,
   "id": "6cc94527",
   "metadata": {
    "scrolled": true
   },
   "outputs": [],
   "source": [
    "#instantiate TreebankWordTokenizer\n",
    "nltk = TreebankWordTokenizer() "
   ]
  },
  {
   "cell_type": "code",
   "execution_count": 17,
   "id": "f55d0f1e",
   "metadata": {},
   "outputs": [
    {
     "data": {
      "text/html": [
       "<div>\n",
       "<style scoped>\n",
       "    .dataframe tbody tr th:only-of-type {\n",
       "        vertical-align: middle;\n",
       "    }\n",
       "\n",
       "    .dataframe tbody tr th {\n",
       "        vertical-align: top;\n",
       "    }\n",
       "\n",
       "    .dataframe thead th {\n",
       "        text-align: right;\n",
       "    }\n",
       "</style>\n",
       "<table border=\"1\" class=\"dataframe\">\n",
       "  <thead>\n",
       "    <tr style=\"text-align: right;\">\n",
       "      <th></th>\n",
       "      <th>X</th>\n",
       "      <th>y</th>\n",
       "    </tr>\n",
       "  </thead>\n",
       "  <tbody>\n",
       "    <tr>\n",
       "      <th>0</th>\n",
       "      <td>[ooh, you, 're, the, last, ooh, you, 're, the,...</td>\n",
       "      <td>jamesblake</td>\n",
       "    </tr>\n",
       "    <tr>\n",
       "      <th>1</th>\n",
       "      <td>[life, is, not, the, same, if, we, 're, miles,...</td>\n",
       "      <td>jamesblake</td>\n",
       "    </tr>\n",
       "    <tr>\n",
       "      <th>2</th>\n",
       "      <td>[so, i, 'm, coming, back, coming, back, tail, ...</td>\n",
       "      <td>jamesblake</td>\n",
       "    </tr>\n",
       "    <tr>\n",
       "      <th>3</th>\n",
       "      <td>[and, i, know, this, feeling, too, well, of, b...</td>\n",
       "      <td>jamesblake</td>\n",
       "    </tr>\n",
       "    <tr>\n",
       "      <th>4</th>\n",
       "      <td>[yes, i, wo, n't, lie, just, come, closer, you...</td>\n",
       "      <td>jamesblake</td>\n",
       "    </tr>\n",
       "    <tr>\n",
       "      <th>5</th>\n",
       "      <td>[i, 'm, so, blessed, you, 're, mine, i, 'm, so...</td>\n",
       "      <td>jamesblake</td>\n",
       "    </tr>\n",
       "    <tr>\n",
       "      <th>6</th>\n",
       "      <td>[and, it, 's, okay, i, know, i, 'll, be, repla...</td>\n",
       "      <td>jamesblake</td>\n",
       "    </tr>\n",
       "    <tr>\n",
       "      <th>7</th>\n",
       "      <td>[show, me, i, wish, you, 'd, show, me, show, me]</td>\n",
       "      <td>jamesblake</td>\n",
       "    </tr>\n",
       "    <tr>\n",
       "      <th>8</th>\n",
       "      <td>[yeah, alright]</td>\n",
       "      <td>jamesblake</td>\n",
       "    </tr>\n",
       "    <tr>\n",
       "      <th>9</th>\n",
       "      <td>[i, fell, right, in, i, fell, right, in, with,...</td>\n",
       "      <td>jamesblake</td>\n",
       "    </tr>\n",
       "    <tr>\n",
       "      <th>10</th>\n",
       "      <td>[in, the, end, it, was, friends, in, the, in, ...</td>\n",
       "      <td>jamesblake</td>\n",
       "    </tr>\n",
       "    <tr>\n",
       "      <th>11</th>\n",
       "      <td>[and, if, i, 'm, insecure, how, have, i, been,...</td>\n",
       "      <td>jamesblake</td>\n",
       "    </tr>\n",
       "    <tr>\n",
       "      <th>12</th>\n",
       "      <td>[well, this, is, what, it, look, like, right, ...</td>\n",
       "      <td>macmiller</td>\n",
       "    </tr>\n",
       "    <tr>\n",
       "      <th>13</th>\n",
       "      <td>[outside, is, cloudy, but, i, like, that, bett...</td>\n",
       "      <td>macmiller</td>\n",
       "    </tr>\n",
       "    <tr>\n",
       "      <th>14</th>\n",
       "      <td>[hey, one, of, these, days, we, 'll, all, get,...</td>\n",
       "      <td>macmiller</td>\n",
       "    </tr>\n",
       "    <tr>\n",
       "      <th>15</th>\n",
       "      <td>[no, more, no, more, no, more, no, more, no, m...</td>\n",
       "      <td>macmiller</td>\n",
       "    </tr>\n",
       "    <tr>\n",
       "      <th>16</th>\n",
       "      <td>[and, all, i, know, if, life, is, but, a, drea...</td>\n",
       "      <td>macmiller</td>\n",
       "    </tr>\n",
       "    <tr>\n",
       "      <th>17</th>\n",
       "      <td>[because, everybody, 's, got, ta, live, and, e...</td>\n",
       "      <td>macmiller</td>\n",
       "    </tr>\n",
       "    <tr>\n",
       "      <th>18</th>\n",
       "      <td>[do, i, do, i, do, i, love, ?, can, i, can, i,...</td>\n",
       "      <td>macmiller</td>\n",
       "    </tr>\n",
       "    <tr>\n",
       "      <th>19</th>\n",
       "      <td>[down, down, down, down, down, down, down, dow...</td>\n",
       "      <td>macmiller</td>\n",
       "    </tr>\n",
       "    <tr>\n",
       "      <th>20</th>\n",
       "      <td>[that, 's, on, me, that, 's, on, me, i, know, ...</td>\n",
       "      <td>macmiller</td>\n",
       "    </tr>\n",
       "    <tr>\n",
       "      <th>21</th>\n",
       "      <td>[yeah, yeah, yeah, yeah, yeah, yeah, yeah, yea...</td>\n",
       "      <td>macmiller</td>\n",
       "    </tr>\n",
       "    <tr>\n",
       "      <th>22</th>\n",
       "      <td>[ayy, and, i, know, we, try, days, they, go, b...</td>\n",
       "      <td>macmiller</td>\n",
       "    </tr>\n",
       "    <tr>\n",
       "      <th>23</th>\n",
       "      <td>[once, a, day, i, rise, once, a, day, i, fall,...</td>\n",
       "      <td>macmiller</td>\n",
       "    </tr>\n",
       "  </tbody>\n",
       "</table>\n",
       "</div>"
      ],
      "text/plain": [
       "                                                    X           y\n",
       "0   [ooh, you, 're, the, last, ooh, you, 're, the,...  jamesblake\n",
       "1   [life, is, not, the, same, if, we, 're, miles,...  jamesblake\n",
       "2   [so, i, 'm, coming, back, coming, back, tail, ...  jamesblake\n",
       "3   [and, i, know, this, feeling, too, well, of, b...  jamesblake\n",
       "4   [yes, i, wo, n't, lie, just, come, closer, you...  jamesblake\n",
       "5   [i, 'm, so, blessed, you, 're, mine, i, 'm, so...  jamesblake\n",
       "6   [and, it, 's, okay, i, know, i, 'll, be, repla...  jamesblake\n",
       "7    [show, me, i, wish, you, 'd, show, me, show, me]  jamesblake\n",
       "8                                     [yeah, alright]  jamesblake\n",
       "9   [i, fell, right, in, i, fell, right, in, with,...  jamesblake\n",
       "10  [in, the, end, it, was, friends, in, the, in, ...  jamesblake\n",
       "11  [and, if, i, 'm, insecure, how, have, i, been,...  jamesblake\n",
       "12  [well, this, is, what, it, look, like, right, ...   macmiller\n",
       "13  [outside, is, cloudy, but, i, like, that, bett...   macmiller\n",
       "14  [hey, one, of, these, days, we, 'll, all, get,...   macmiller\n",
       "15  [no, more, no, more, no, more, no, more, no, m...   macmiller\n",
       "16  [and, all, i, know, if, life, is, but, a, drea...   macmiller\n",
       "17  [because, everybody, 's, got, ta, live, and, e...   macmiller\n",
       "18  [do, i, do, i, do, i, love, ?, can, i, can, i,...   macmiller\n",
       "19  [down, down, down, down, down, down, down, dow...   macmiller\n",
       "20  [that, 's, on, me, that, 's, on, me, i, know, ...   macmiller\n",
       "21  [yeah, yeah, yeah, yeah, yeah, yeah, yeah, yea...   macmiller\n",
       "22  [ayy, and, i, know, we, try, days, they, go, b...   macmiller\n",
       "23  [once, a, day, i, rise, once, a, day, i, fall,...   macmiller"
      ]
     },
     "execution_count": 17,
     "metadata": {},
     "output_type": "execute_result"
    }
   ],
   "source": [
    "#transform X into tokens / James Blake\n",
    "df['X'] = df['X'].apply(nltk.tokenize)\n",
    "df"
   ]
  },
  {
   "cell_type": "markdown",
   "id": "111c0f3d",
   "metadata": {},
   "source": [
    "***"
   ]
  },
  {
   "cell_type": "markdown",
   "id": "92ba238c",
   "metadata": {},
   "source": [
    "*Lemmatization*"
   ]
  },
  {
   "cell_type": "code",
   "execution_count": 18,
   "id": "dffd9a3d",
   "metadata": {},
   "outputs": [],
   "source": [
    "#import wordnet\n",
    "#nltk.download()"
   ]
  },
  {
   "cell_type": "code",
   "execution_count": 19,
   "id": "7e05be0c",
   "metadata": {},
   "outputs": [],
   "source": [
    "#define function for lemmatization\n",
    "def lemmatize_text(text):\n",
    "    lemmatizer = WordNetLemmatizer()\n",
    "    return \" \".join(lemmatizer.lemmatize(token) for token in text)"
   ]
  },
  {
   "cell_type": "code",
   "execution_count": 20,
   "id": "d952f25e",
   "metadata": {},
   "outputs": [
    {
     "data": {
      "text/html": [
       "<div>\n",
       "<style scoped>\n",
       "    .dataframe tbody tr th:only-of-type {\n",
       "        vertical-align: middle;\n",
       "    }\n",
       "\n",
       "    .dataframe tbody tr th {\n",
       "        vertical-align: top;\n",
       "    }\n",
       "\n",
       "    .dataframe thead th {\n",
       "        text-align: right;\n",
       "    }\n",
       "</style>\n",
       "<table border=\"1\" class=\"dataframe\">\n",
       "  <thead>\n",
       "    <tr style=\"text-align: right;\">\n",
       "      <th></th>\n",
       "      <th>X</th>\n",
       "      <th>y</th>\n",
       "    </tr>\n",
       "  </thead>\n",
       "  <tbody>\n",
       "    <tr>\n",
       "      <th>0</th>\n",
       "      <td>ooh you 're the last ooh you 're the last of m...</td>\n",
       "      <td>jamesblake</td>\n",
       "    </tr>\n",
       "    <tr>\n",
       "      <th>1</th>\n",
       "      <td>life is not the same if we 're mile away i wa ...</td>\n",
       "      <td>jamesblake</td>\n",
       "    </tr>\n",
       "    <tr>\n",
       "      <th>2</th>\n",
       "      <td>so i 'm coming back coming back tail between m...</td>\n",
       "      <td>jamesblake</td>\n",
       "    </tr>\n",
       "    <tr>\n",
       "      <th>3</th>\n",
       "      <td>and i know this feeling too well of being aliv...</td>\n",
       "      <td>jamesblake</td>\n",
       "    </tr>\n",
       "    <tr>\n",
       "      <th>4</th>\n",
       "      <td>yes i wo n't lie just come closer you 'd think...</td>\n",
       "      <td>jamesblake</td>\n",
       "    </tr>\n",
       "  </tbody>\n",
       "</table>\n",
       "</div>"
      ],
      "text/plain": [
       "                                                   X           y\n",
       "0  ooh you 're the last ooh you 're the last of m...  jamesblake\n",
       "1  life is not the same if we 're mile away i wa ...  jamesblake\n",
       "2  so i 'm coming back coming back tail between m...  jamesblake\n",
       "3  and i know this feeling too well of being aliv...  jamesblake\n",
       "4  yes i wo n't lie just come closer you 'd think...  jamesblake"
      ]
     },
     "execution_count": 20,
     "metadata": {},
     "output_type": "execute_result"
    }
   ],
   "source": [
    "#lematize all colomns of every df_artist\n",
    "df['X'] = df['X'].apply(lemmatize_text)\n",
    "df.head()"
   ]
  },
  {
   "cell_type": "code",
   "execution_count": 21,
   "id": "6275b322",
   "metadata": {},
   "outputs": [],
   "source": [
    "#transform the dataframe series into lists\n",
    "X = df['X'].to_list()\n",
    "y = df['y'].to_list()"
   ]
  },
  {
   "cell_type": "markdown",
   "id": "53b522c9",
   "metadata": {},
   "source": [
    "***"
   ]
  },
  {
   "cell_type": "markdown",
   "id": "d559562a",
   "metadata": {},
   "source": [
    "*TfidfVectorizer*"
   ]
  },
  {
   "cell_type": "code",
   "execution_count": 22,
   "id": "281cad28",
   "metadata": {
    "scrolled": true
   },
   "outputs": [],
   "source": [
    "#defining stopwords\n",
    "stopwords = stopwords.words('english')"
   ]
  },
  {
   "cell_type": "code",
   "execution_count": 23,
   "id": "6693ff41",
   "metadata": {},
   "outputs": [],
   "source": [
    "#instanciate TfidVectorizer\n",
    "vectorizer = TfidfVectorizer(stop_words=stopwords)"
   ]
  },
  {
   "cell_type": "code",
   "execution_count": 24,
   "id": "8a50100f",
   "metadata": {},
   "outputs": [
    {
     "data": {
      "text/plain": [
       "<24x161 sparse matrix of type '<class 'numpy.float64'>'\n",
       "\twith 211 stored elements in Compressed Sparse Row format>"
      ]
     },
     "execution_count": 24,
     "metadata": {},
     "output_type": "execute_result"
    }
   ],
   "source": [
    "#fit & transform X_artist \n",
    "X = vectorizer.fit_transform(X)\n",
    "X"
   ]
  },
  {
   "cell_type": "markdown",
   "id": "b62a3fdf",
   "metadata": {},
   "source": [
    "***"
   ]
  },
  {
   "cell_type": "markdown",
   "id": "3767a2a5",
   "metadata": {},
   "source": [
    "## V. Splitting the data in train, validation and test data"
   ]
  },
  {
   "cell_type": "markdown",
   "id": "c564df4a",
   "metadata": {},
   "source": [
    "*Splitting the data*"
   ]
  },
  {
   "cell_type": "code",
   "execution_count": 25,
   "id": "cd6e614a",
   "metadata": {},
   "outputs": [],
   "source": [
    "#splitting the data \n",
    "X_train, X_test, y_train, y_test = train_test_split(X, y, test_size=0.20, random_state = 25)\n",
    "X_train, X_val, y_train, y_val = train_test_split(X_train, y_train, test_size=0.25, random_state= 25) # 0.25 x 0.8 = 0.2"
   ]
  },
  {
   "cell_type": "code",
   "execution_count": 26,
   "id": "d5260ee2",
   "metadata": {},
   "outputs": [
    {
     "data": {
      "text/plain": [
       "(14, 161)"
      ]
     },
     "execution_count": 26,
     "metadata": {},
     "output_type": "execute_result"
    }
   ],
   "source": [
    "X_train.shape"
   ]
  },
  {
   "cell_type": "code",
   "execution_count": 27,
   "id": "63225ccb",
   "metadata": {},
   "outputs": [
    {
     "data": {
      "text/plain": [
       "['macmiller',\n",
       " 'macmiller',\n",
       " 'jamesblake',\n",
       " 'macmiller',\n",
       " 'jamesblake',\n",
       " 'jamesblake',\n",
       " 'jamesblake',\n",
       " 'macmiller',\n",
       " 'macmiller',\n",
       " 'macmiller',\n",
       " 'jamesblake',\n",
       " 'jamesblake',\n",
       " 'macmiller',\n",
       " 'jamesblake']"
      ]
     },
     "execution_count": 27,
     "metadata": {},
     "output_type": "execute_result"
    }
   ],
   "source": [
    "#checking if the splitting worked\n",
    "y_train"
   ]
  },
  {
   "cell_type": "markdown",
   "id": "20f46fe8",
   "metadata": {},
   "source": [
    "***"
   ]
  },
  {
   "cell_type": "markdown",
   "id": "8bb02bd5",
   "metadata": {},
   "source": [
    "## VI. Classification Model "
   ]
  },
  {
   "cell_type": "markdown",
   "id": "2142d79d",
   "metadata": {},
   "source": [
    "*Applying a Naive Bayes model*"
   ]
  },
  {
   "cell_type": "code",
   "execution_count": 28,
   "id": "ce3e10f2",
   "metadata": {},
   "outputs": [],
   "source": [
    "#applying \n",
    "m = MultinomialNB() "
   ]
  },
  {
   "cell_type": "code",
   "execution_count": 29,
   "id": "8e1584a3",
   "metadata": {},
   "outputs": [
    {
     "data": {
      "text/plain": [
       "MultinomialNB()"
      ]
     },
     "execution_count": 29,
     "metadata": {},
     "output_type": "execute_result"
    }
   ],
   "source": [
    "#train the model \n",
    "m.fit(X_train, y_train)"
   ]
  },
  {
   "cell_type": "code",
   "execution_count": 30,
   "id": "3b46287d",
   "metadata": {},
   "outputs": [
    {
     "data": {
      "text/plain": [
       "0.9285714285714286"
      ]
     },
     "execution_count": 30,
     "metadata": {},
     "output_type": "execute_result"
    }
   ],
   "source": [
    "#test the model score\n",
    "m.score(X_train, y_train)"
   ]
  },
  {
   "cell_type": "code",
   "execution_count": 31,
   "id": "3ff0a0fe",
   "metadata": {},
   "outputs": [
    {
     "data": {
      "text/plain": [
       "0.6"
      ]
     },
     "execution_count": 31,
     "metadata": {},
     "output_type": "execute_result"
    }
   ],
   "source": [
    "#test the model score\n",
    "m.score(X_val, y_val)"
   ]
  },
  {
   "cell_type": "code",
   "execution_count": 32,
   "id": "b90890f1",
   "metadata": {
    "scrolled": false
   },
   "outputs": [],
   "source": [
    "y_pred = m.predict(X_val)"
   ]
  },
  {
   "cell_type": "markdown",
   "id": "ea613ea9",
   "metadata": {},
   "source": [
    "***"
   ]
  },
  {
   "cell_type": "markdown",
   "id": "f0423d13",
   "metadata": {},
   "source": [
    "*Metrics scores*"
   ]
  },
  {
   "cell_type": "code",
   "execution_count": 33,
   "id": "3ab5cfd0",
   "metadata": {},
   "outputs": [
    {
     "data": {
      "text/plain": [
       "0.6"
      ]
     },
     "execution_count": 33,
     "metadata": {},
     "output_type": "execute_result"
    }
   ],
   "source": [
    "#accuracy\n",
    "round(metrics.accuracy_score(y_val, y_pred),2)"
   ]
  },
  {
   "cell_type": "code",
   "execution_count": 34,
   "id": "97ea6a1b",
   "metadata": {},
   "outputs": [
    {
     "data": {
      "text/plain": [
       "0.67"
      ]
     },
     "execution_count": 34,
     "metadata": {},
     "output_type": "execute_result"
    }
   ],
   "source": [
    "#precision\n",
    "round(metrics.precision_score(y_val, y_pred, pos_label='macmiller'), 2)"
   ]
  },
  {
   "cell_type": "code",
   "execution_count": 35,
   "id": "c962c5fc",
   "metadata": {},
   "outputs": [
    {
     "data": {
      "text/plain": [
       "0.67"
      ]
     },
     "execution_count": 35,
     "metadata": {},
     "output_type": "execute_result"
    }
   ],
   "source": [
    "#recall\n",
    "round(metrics.recall_score(y_val, y_pred,pos_label='macmiller'), 2)"
   ]
  },
  {
   "cell_type": "code",
   "execution_count": 36,
   "id": "ac28e6c6",
   "metadata": {},
   "outputs": [
    {
     "data": {
      "text/plain": [
       "0.67"
      ]
     },
     "execution_count": 36,
     "metadata": {},
     "output_type": "execute_result"
    }
   ],
   "source": [
    "#f1\n",
    "round(metrics.f1_score(y_val, y_pred, pos_label='macmiller'), 2)"
   ]
  },
  {
   "cell_type": "code",
   "execution_count": 37,
   "id": "7280488d",
   "metadata": {
    "scrolled": true
   },
   "outputs": [
    {
     "data": {
      "text/plain": [
       "<sklearn.metrics._plot.confusion_matrix.ConfusionMatrixDisplay at 0x7feffa754be0>"
      ]
     },
     "execution_count": 37,
     "metadata": {},
     "output_type": "execute_result"
    },
    {
     "data": {
      "image/png": "[encoded data removed]",
      "text/plain": [
       "<Figure size 432x288 with 2 Axes>"
      ]
     },
     "metadata": {
      "needs_background": "light"
     },
     "output_type": "display_data"
    }
   ],
   "source": [
    "#applying a confusion matrix \n",
    "metrics.confusion_matrix(y_val, y_pred)\n",
    "metrics.plot_confusion_matrix(m, X_val, y_val, cmap='Blues')"
   ]
  },
  {
   "cell_type": "markdown",
   "id": "0a15bd09",
   "metadata": {},
   "source": [
    "***"
   ]
  },
  {
   "cell_type": "markdown",
   "id": "ee5f4326",
   "metadata": {},
   "source": [
    "## VII. Calculate test-score"
   ]
  },
  {
   "cell_type": "markdown",
   "id": "ffe609d0",
   "metadata": {},
   "source": [
    "*Calculating the model scores for all data sets*"
   ]
  },
  {
   "cell_type": "code",
   "execution_count": 38,
   "id": "97a20634",
   "metadata": {
    "scrolled": true
   },
   "outputs": [
    {
     "data": {
      "text/plain": [
       "0.4"
      ]
     },
     "execution_count": 38,
     "metadata": {},
     "output_type": "execute_result"
    }
   ],
   "source": [
    "#calculating the model score using y_test\n",
    "round(m.score(X_test, y_test),2)"
   ]
  },
  {
   "cell_type": "code",
   "execution_count": 39,
   "id": "36ef1f0a",
   "metadata": {
    "scrolled": false
   },
   "outputs": [],
   "source": [
    "y_pred = m.predict(X_test)"
   ]
  },
  {
   "cell_type": "markdown",
   "id": "137f0ce1",
   "metadata": {},
   "source": [
    "***"
   ]
  },
  {
   "cell_type": "markdown",
   "id": "2ba47bbf",
   "metadata": {},
   "source": [
    "*Metrics scores*"
   ]
  },
  {
   "cell_type": "code",
   "execution_count": 40,
   "id": "fc5fe79f",
   "metadata": {},
   "outputs": [
    {
     "data": {
      "text/plain": [
       "0.4"
      ]
     },
     "execution_count": 40,
     "metadata": {},
     "output_type": "execute_result"
    }
   ],
   "source": [
    "#accuracy\n",
    "round(metrics.accuracy_score(y_test, y_pred),2)"
   ]
  },
  {
   "cell_type": "code",
   "execution_count": 41,
   "id": "2275676e",
   "metadata": {},
   "outputs": [
    {
     "data": {
      "text/plain": [
       "0.0"
      ]
     },
     "execution_count": 41,
     "metadata": {},
     "output_type": "execute_result"
    }
   ],
   "source": [
    "#precision\n",
    "round(metrics.precision_score(y_test, y_pred, pos_label='macmiller'), 2)"
   ]
  },
  {
   "cell_type": "code",
   "execution_count": 42,
   "id": "70a9a25e",
   "metadata": {},
   "outputs": [
    {
     "data": {
      "text/plain": [
       "0.0"
      ]
     },
     "execution_count": 42,
     "metadata": {},
     "output_type": "execute_result"
    }
   ],
   "source": [
    "#recall\n",
    "round(metrics.recall_score(y_test, y_pred, pos_label='macmiller'), 2)"
   ]
  },
  {
   "cell_type": "code",
   "execution_count": 43,
   "id": "535db319",
   "metadata": {},
   "outputs": [
    {
     "data": {
      "text/plain": [
       "0.0"
      ]
     },
     "execution_count": 43,
     "metadata": {},
     "output_type": "execute_result"
    }
   ],
   "source": [
    "#f1\n",
    "round(metrics.f1_score(y_test, y_pred, pos_label='macmiller'), 2)"
   ]
  },
  {
   "cell_type": "code",
   "execution_count": 44,
   "id": "6feba511",
   "metadata": {
    "scrolled": false
   },
   "outputs": [
    {
     "data": {
      "text/plain": [
       "<sklearn.metrics._plot.confusion_matrix.ConfusionMatrixDisplay at 0x7ff001165820>"
      ]
     },
     "execution_count": 44,
     "metadata": {},
     "output_type": "execute_result"
    },
    {
     "data": {
      "image/png": "[encoded data removed]",
      "text/plain": [
       "<Figure size 432x288 with 2 Axes>"
      ]
     },
     "metadata": {
      "needs_background": "light"
     },
     "output_type": "display_data"
    }
   ],
   "source": [
    "#applying a confusion matrix \n",
    "metrics.confusion_matrix(y_test, y_pred)\n",
    "metrics.plot_confusion_matrix(m, X_test, y_test, cmap='Blues')"
   ]
  },
  {
   "cell_type": "markdown",
   "id": "c15e16e5",
   "metadata": {},
   "source": [
    "<font color = 'blue'> Summary of Naive Bayes Model </font> Interestingly, the scores of the model always change dramatically depending the random state. As the data sample is so small (approximatley 12 songs for each artists), the high variance is also not surprising. "
   ]
  },
  {
   "cell_type": "markdown",
   "id": "95fa952d",
   "metadata": {},
   "source": [
    "***"
   ]
  },
  {
   "cell_type": "markdown",
   "id": "f646c186",
   "metadata": {},
   "source": [
    "## VIII. Calculating the probability of unseen lyrics"
   ]
  },
  {
   "cell_type": "code",
   "execution_count": 45,
   "id": "e74537a3",
   "metadata": {},
   "outputs": [
    {
     "name": "stdout",
     "output_type": "stream",
     "text": [
      "                                                   0\n",
      "0  There s a limit to your love Like a waterfall ...\n"
     ]
    }
   ],
   "source": [
    "#creating a new dataset //// using the lyrics from 'limit to your love' by James Blake \n",
    "unseen_data = ['There s a limit to your love Like a waterfall in slow motion Like a map with no ocean There s a limit to your love Your love your love your love There s a limit to you care So carelessly there is it truth or dare There s a limit to your care There s a limit to your love Like a waterfall in slow motion Like a map with no ocean There s a limit to your love']\n",
    "unseen_data = pd.DataFrame(unseen_data)\n",
    "print(unseen_data )"
   ]
  },
  {
   "cell_type": "markdown",
   "id": "e2078b22",
   "metadata": {},
   "source": [
    "***"
   ]
  },
  {
   "cell_type": "markdown",
   "id": "44ec765d",
   "metadata": {},
   "source": [
    "*Tokenize*"
   ]
  },
  {
   "cell_type": "code",
   "execution_count": 46,
   "id": "2e230147",
   "metadata": {},
   "outputs": [],
   "source": [
    "#transform unseen_data into tokens \n",
    "unseen_data[0] = unseen_data[0].apply(nltk.tokenize)"
   ]
  },
  {
   "cell_type": "markdown",
   "id": "af07110d",
   "metadata": {},
   "source": [
    "***"
   ]
  },
  {
   "cell_type": "markdown",
   "id": "70e599b2",
   "metadata": {},
   "source": [
    "*Lemmatize and tansform to list*"
   ]
  },
  {
   "cell_type": "code",
   "execution_count": 47,
   "id": "a2127bd9",
   "metadata": {},
   "outputs": [
    {
     "name": "stdout",
     "output_type": "stream",
     "text": [
      "['There s a limit to your love Like a waterfall in slow motion Like a map with no ocean There s a limit to your love Your love your love your love There s a limit to you care So carelessly there is it truth or dare There s a limit to your care There s a limit to your love Like a waterfall in slow motion Like a map with no ocean There s a limit to your love']\n"
     ]
    }
   ],
   "source": [
    "#lematize all colomns of every df_artist\n",
    "unseen_data[0] = unseen_data[0].apply(lemmatize_text)\n",
    "\n",
    "#transform to list \n",
    "unseen_data = unseen_data[0].to_list()\n",
    "print(unseen_data)"
   ]
  },
  {
   "cell_type": "markdown",
   "id": "cfb98e7b",
   "metadata": {},
   "source": [
    "***"
   ]
  },
  {
   "cell_type": "markdown",
   "id": "05a2ba1b",
   "metadata": {},
   "source": [
    "*TfidfVectorizer*"
   ]
  },
  {
   "cell_type": "code",
   "execution_count": 48,
   "id": "03dcfcf3",
   "metadata": {},
   "outputs": [
    {
     "name": "stdout",
     "output_type": "stream",
     "text": [
      "  (0, 90)\t0.836020655820209\n",
      "  (0, 85)\t0.47772608904011943\n",
      "  (0, 19)\t0.26990229138038024\n"
     ]
    }
   ],
   "source": [
    "#fit & transform unseen_data\n",
    "unseen_data = vectorizer.transform(unseen_data)\n",
    "print(unseen_data)"
   ]
  },
  {
   "cell_type": "code",
   "execution_count": 49,
   "id": "8cb29d7c",
   "metadata": {},
   "outputs": [
    {
     "data": {
      "text/plain": [
       "(1, 161)"
      ]
     },
     "execution_count": 49,
     "metadata": {},
     "output_type": "execute_result"
    }
   ],
   "source": [
    "unseen_data.shape"
   ]
  },
  {
   "cell_type": "markdown",
   "id": "dd51b21b",
   "metadata": {},
   "source": [
    "***"
   ]
  },
  {
   "cell_type": "markdown",
   "id": "55577173",
   "metadata": {},
   "source": [
    "*Model prediction*"
   ]
  },
  {
   "cell_type": "code",
   "execution_count": 50,
   "id": "3d6b1444",
   "metadata": {},
   "outputs": [
    {
     "data": {
      "text/plain": [
       "array(['macmiller'], dtype='<U10')"
      ]
     },
     "execution_count": 50,
     "metadata": {},
     "output_type": "execute_result"
    }
   ],
   "source": [
    "#model\n",
    "m.predict(unseen_data)"
   ]
  },
  {
   "cell_type": "code",
   "execution_count": 51,
   "id": "dbafc879",
   "metadata": {},
   "outputs": [
    {
     "data": {
      "text/plain": [
       "array([[0.38635854, 0.61364146]])"
      ]
     },
     "execution_count": 51,
     "metadata": {},
     "output_type": "execute_result"
    }
   ],
   "source": [
    "m.predict_proba(unseen_data)"
   ]
  },
  {
   "cell_type": "markdown",
   "id": "12fc6e12",
   "metadata": {},
   "source": [
    "<font color = 'blue'> Summary </font> The model predicts that there is a 61% probabiliy of the unseen lyrics belonging to MacMiller. Unfortunatly, the inserted lyrics are written by James Blake, not Macmiller. There are three possible reasons; 1) training set is too small; 2) lyrics of the two artists are too similiar and/or 3) the model is not sufficient enough. "
   ]
  },
  {
   "cell_type": "markdown",
   "metadata": {},
   "source": []
  },
  {
   "cell_type": "markdown",
   "metadata": {},
   "source": []
  },
  {
   "cell_type": "markdown",
   "metadata": {},
   "source": []
  }
 ],
 "metadata": {
  "interpreter": {
   "hash": "40d3a090f54c6569ab1632332b64b2c03c39dcf918b08424e98f38b5ae0af88f"
  },
  "kernelspec": {
   "display_name": "Python 3.8.8 64-bit ('base': conda)",
   "name": "python3"
  },
  "language_info": {
   "codemirror_mode": {
    "name": "ipython",
    "version": 3
   },
   "file_extension": ".py",
   "mimetype": "text/x-python",
   "name": "python",
   "nbconvert_exporter": "python",
   "pygments_lexer": "ipython3",
   "version": "3.8.8"
  }
 },
 "nbformat": 4,
 "nbformat_minor": 5
}
