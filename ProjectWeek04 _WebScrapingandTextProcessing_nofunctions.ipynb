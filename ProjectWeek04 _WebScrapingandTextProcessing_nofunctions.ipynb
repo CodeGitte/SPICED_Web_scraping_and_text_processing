{
 "cells": [
  {
   "cell_type": "markdown",
   "source": [
    "# SPICED Academy ///  Project Week 04 /// Web Scraping and Text Processing"
   ],
   "metadata": {}
  },
  {
   "cell_type": "markdown",
   "source": [
    "***"
   ],
   "metadata": {}
  },
  {
   "cell_type": "markdown",
   "source": [
    "## I. Define goal\n",
    "\n",
    "The goal of this project is to develop a text classifier that predicts the probability of a song being rightously classified to a certain artist, in this case MacMiller and James Blake. Those two artist were picked because they are my current favourite musicians. In concrete, the albums \"Friends that break your heart\" (by James Blake) and \"Circles\" (by Mac Miller) were compared. "
   ],
   "metadata": {}
  },
  {
   "cell_type": "markdown",
   "source": [
    "***"
   ],
   "metadata": {}
  },
  {
   "cell_type": "markdown",
   "source": [
    "## II. Import libraries "
   ],
   "metadata": {}
  },
  {
   "cell_type": "code",
   "execution_count": 1,
   "source": [
    "#data processing and general\n",
    "import pandas as pd\n",
    "import json\n",
    "import pprint\n",
    "\n",
    "#web scraping\n",
    "import api_key\n",
    "import lyricsgenius as genius\n",
    "import re\n",
    "\n",
    "#feature engineering\n",
    "import nltk \n",
    "from nltk.tokenize import TreebankWordTokenizer \n",
    "from nltk.tokenize import word_tokenize\n",
    "from nltk.stem import WordNetLemmatizer\n",
    "from nltk.corpus import stopwords\n",
    "from sklearn.feature_extraction.text import TfidfVectorizer\n",
    "from sklearn.model_selection import train_test_split\n",
    "from sklearn.pipeline import Pipeline\n",
    "\n",
    "#machine learning models\n",
    "from sklearn.naive_bayes import MultinomialNB\n",
    "\n",
    "#metrics\n",
    "import sklearn.metrics as metrics"
   ],
   "outputs": [],
   "metadata": {}
  },
  {
   "cell_type": "markdown",
   "source": [
    "***"
   ],
   "metadata": {}
  },
  {
   "cell_type": "markdown",
   "source": [
    "## III. Import and transform data"
   ],
   "metadata": {}
  },
  {
   "cell_type": "markdown",
   "source": [
    "*Requesting access from Genius*"
   ],
   "metadata": {}
  },
  {
   "cell_type": "code",
   "execution_count": 2,
   "source": [
    "#access token from Genius\n",
    "client_access_token = api_key.your_client_access_token\n",
    "genius = genius.Genius(client_access_token)"
   ],
   "outputs": [],
   "metadata": {}
  },
  {
   "cell_type": "markdown",
   "source": [
    "***"
   ],
   "metadata": {}
  },
  {
   "cell_type": "markdown",
   "source": [
    "*Understanding the functionalities of LyricsGenius*"
   ],
   "metadata": {}
  },
  {
   "cell_type": "code",
   "execution_count": 3,
   "source": [
    "#accessing a couple of songs from James Blake\n",
    "JamesBlake = genius.search_artist(\"James Blake\", 6)"
   ],
   "outputs": [
    {
     "output_type": "stream",
     "name": "stdout",
     "text": [
      "Searching for songs by James Blake...\n",
      "\n",
      "Song 1: \"Retrograde\"\n",
      "Song 2: \"Mile High\"\n",
      "Song 3: \"Life Round Here (Remix)\"\n",
      "Song 4: \"Life Round Here\"\n",
      "Song 5: \"Barefoot in the Park\"\n",
      "Song 6: \"Overgrown\"\n",
      "\n",
      "Reached user-specified song limit (6).\n",
      "Done. Found 6 songs.\n"
     ]
    }
   ],
   "metadata": {}
  },
  {
   "cell_type": "code",
   "execution_count": 4,
   "source": [
    "#printing the song lyrics\n",
    "for song in JamesBlake.songs:\n",
    "    print(song.lyrics)"
   ],
   "outputs": [
    {
     "output_type": "stream",
     "name": "stdout",
     "text": [
      "[Intro: Humming]\n",
      "\n",
      "[Verse]\n",
      "You're on your own\n",
      "In a world you've grown\n",
      "Few more years to go\n",
      "Don't let the hurdle fall\n",
      "So be the girl you loved\n",
      "Be the girl you loved\n",
      "\n",
      "[Pre Chorus]\n",
      "I'll wait\n",
      "So show me why you’re strong\n",
      "Ignore everybody else\n",
      "We're alone now\n",
      "I'll wait\n",
      "So show me why you’re strong\n",
      "Ignore everybody else\n",
      "We’re alone now\n",
      "\n",
      "[Chorus]\n",
      "Suddenly I'm hit\n",
      "It's the starkness of the dawn\n",
      "And your friends are gone\n",
      "And your friends won’t come\n",
      "So show me where you fit\n",
      "So show me where you fit\n",
      "[Pre Chorus]\n",
      "I'll wait\n",
      "So show me why you're strong\n",
      "Ignore everybody else\n",
      "We’re alone now (We’re alone now)\n",
      "I'll wait (We’re alone now)\n",
      "(We’re alone now)\n",
      "(We’re alone now)\n",
      "I'll wait (We’re alone now)\n",
      "(We’re alone now)\n",
      "(We’re alone now)\n",
      "(We’re alone now)\n",
      "(We’re alone now)\n",
      "\n",
      "[Chorus]\n",
      "Suddenly I'm hit (uuuuuhhhh)\n",
      "It's the starkness of the dawn\n",
      "And your friends are gone\n",
      "And your friends won’t come\n",
      "So show me where you fit\n",
      "So show me where you fit122EmbedShare URLCopyEmbedCopy\n",
      "[Intro: James Blake]\n",
      "Don't wanna see you by yourself, by yourself\n",
      "By yourself, by yourself, by yourself\n",
      "\n",
      "[Verse 1: Travis Scott]\n",
      "We on a drive, looped in\n",
      "Two seat ride, couped in\n",
      "Who gon' slide? Who's in?\n",
      "Big rocks 'round, new tint\n",
      "Fleetwood down, new sand\n",
      "Two seat ride, couped in\n",
      "Don't leave 'round loose ends\n",
      "Don't be around new friends, yeah\n",
      "\n",
      "[Chorus: Travis Scott]\n",
      "We just be mile high clubbin'\n",
      "I'm on a thousand miles runnin'\n",
      "Hit it, go downtown Sunday\n",
      "Then move it uptown Monday\n",
      "\n",
      "[Post-Chorus: James Blake]\n",
      "Don't wanna see you by yourself, by yourself\n",
      "By yourself, by yourself, by yourself\n",
      "\n",
      "[Verse 2: Travis Scott]\n",
      "If I give it to you, will you leave?\n",
      "Tell it to you, will you speak?\n",
      "Got it tatted on my sleeve\n",
      "Fell in love overseas\n",
      "Ass fatter than a peach, uh\n",
      "Ocean water kinda deep, uh\n",
      "Rollin' up out the reef, uh\n",
      "Put me down, straight to sleep\n",
      "[Refrain: Travis Scott & James Blake]\n",
      "Lasting like Duracell\n",
      "Lasting like Duracell\n",
      "40 days, 40 nights\n",
      "Feel like a holy night\n",
      "The lesson's always there\n",
      "That less is always more\n",
      "And in the back and forth\n",
      "I'm not keeping score\n",
      "Lesson's always there\n",
      "That less is always more\n",
      "When you're alone with me\n",
      "You never come up short\n",
      "You never come up short\n",
      "(Never come up short, never come up short, never come—)\n",
      "\n",
      "[Verse 3: James Blake]\n",
      "Watch the fan as it spins\n",
      "In my arms, wrapped in\n",
      "Don't know where you stop\n",
      "And where I begin\n",
      "Like I found myself an imaginary friend\n",
      "And when we stay in\n",
      "Not missin' anything\n",
      "\n",
      "[Chorus: Travis Scott]\n",
      "We just be mile high clubbin'\n",
      "I'm on a thousand miles runnin'\n",
      "Hit it, go downtown Sunday\n",
      "Then move it uptown Monday\n",
      "[Post-Chorus: James Blake]\n",
      "Don't wanna see you by yourself, by yourself\n",
      "By yourself, by yourself, by yourself\n",
      "\n",
      "[Verse 4: James Blake]\n",
      "Hi-Vis, never seen\n",
      "Low-key as it's been\n",
      "Fell in love overseas\n",
      "Fell in love like it's easy\n",
      "Put to sleep without dreams\n",
      "Under the moonbeam\n",
      "Call you for no reason\n",
      "Hold on like it's greasy\n",
      "\n",
      "[Refrain: Travis Scott, James Blake & Both]\n",
      "Lasting like Duracell\n",
      "Lasting like Duracell\n",
      "40 days, 40 nights\n",
      "Feel like a holy night\n",
      "The lesson's always there\n",
      "That less is always more\n",
      "And in the back and forth\n",
      "I'm not keeping score\n",
      "Lesson's always there\n",
      "That less is always more\n",
      "When you're alone with me\n",
      "You never come up short\n",
      "You never come up short\n",
      "(Never come up short, never come up short, never come—)\n",
      "[Outro: James Blake]\n",
      "Don't wanna see you by yourself, by yourself\n",
      "By yourself, by yourself, by yourself53EmbedShare URLCopyEmbedCopy\n",
      "[Chorus: James Blake & Chance the Rapper]\n",
      "Part time love is the life 'round here\n",
      "We're never done\n",
      "Now we’re at square one\n",
      "Life ain't been 'round here in a minute\n",
      "Here ain't been 'round my whole life\n",
      "And we waited too long\n",
      "Chaos been 'round for a minute\n",
      "Marketed, bottled it up\n",
      "But wear that fake smile like a cape\n",
      "Save yourself first, save yourself first\n",
      "\n",
      "[Verse 1: James Blake]\n",
      "Part time love is the life 'round here\n",
      "We're never done\n",
      "Everything feels like touchdown on a rainy day\n",
      "Part time love is the life 'round here\n",
      "We're never done\n",
      "Everything feels like touchdown on a rainy day\n",
      "Now we’re at square one\n",
      "And we waited too long\n",
      "So we’re back to square one\n",
      "[Verse 2: Chance the Rapper]\n",
      "Why every time I land in London, land of Lincoln all on my mind? (IGH)\n",
      "I plan to plane it back after playin' a packed show in due time\n",
      "I'm 'round about I bought a round of English ale for my pals\n",
      "A bouncer sold a ounce of rubbish weed to me for like 200 pounds\n",
      "I think my English's getting real real bad\n",
      "Cause this dumb bitch said I'm real real bad\n",
      "No sprechen sie Dumb but I'm real, real good\n",
      "Dark skinned Mike but I still feel bad\n",
      "I'm a chill pill addict\n",
      "I wonder if God's still magic\n",
      "I wonder if Nas stillmatic\n",
      "Down under the north it's still havoc\n",
      "Why I run around wonderin', wanderin', ponderin' life\n",
      "Life 'round here, when\n",
      "Life ain't really been 'round here in some times\n",
      "Sometimes it's no one 'round here\n",
      "[Chorus: James Blake & Chance the Rapper]\n",
      "Part time love is the life 'round here\n",
      "We're never done\n",
      "Now we’re at square one\n",
      "Life ain't been 'round here in a minute\n",
      "Here ain't been 'round my whole life\n",
      "And we waited too long\n",
      "Chaos been 'round for a minute\n",
      "Marketed, bottled it up\n",
      "But wear that fake smile like a cape\n",
      "Save yourself first, save yourself first\n",
      "[Outro: Chance the Rapper & James Blake]\n",
      "I ain't been 'round here in a minute\n",
      "But you ain't been 'round a whole lot\n",
      "My flesh went through the peoples in this peephole\n",
      "And sealed the keyhole and kept the door locked\n",
      "Part time love is the life 'round here\n",
      "And wear that fake smile like a cape\n",
      "Save yourself first, save yourself first\n",
      "Part-time love is the life 'round here\n",
      "We're never done...\n",
      "Save yourself first86EmbedShare URLCopyEmbedCopy\n",
      "[Verse]\n",
      "Part time love is the life round here\n",
      "We're never done\n",
      "Everything feels like touchdown on a rainy day\n",
      "Part time love is the life round here\n",
      "We're never done\n",
      "\n",
      "[Chorus]\n",
      "Now we’re at square one\n",
      "And we wait too long\n",
      "'Til we’re at square one\n",
      "We never done...\n",
      "\n",
      "[Verse]\n",
      "Part time love is the life round here\n",
      "We're never done\n",
      "Everything feels like touchdown on a rainy day\n",
      "Part time love is the life round here\n",
      "We're never done\n",
      "Everything feels like touchdown on a rainy day\n",
      "Part time love is the life round here\n",
      "We're never done\n",
      "\n",
      "[Chorus]\n",
      "Now we’re at square one\n",
      "And we wait too long\n",
      "'Til we’re at square one\n",
      "Til we’re at square one\n",
      "[Verse]\n",
      "Part time love is the life round here\n",
      "We're never done\n",
      "Part time love is the life round here\n",
      "We're never done\n",
      "Everything feels like touchdown on a rainy day\n",
      "Part time love is the life round here\n",
      "We're never done\n",
      "Part time love is the life round here\n",
      "We're never done\n",
      "Everything feels like touchdown on a rainy day\n",
      "Part time love is the life round here\n",
      "We're never done40EmbedShare URLCopyEmbedCopy\n",
      "[Verse 1: ROSALÍA]\n",
      "Agujerito del cielo\n",
      "Cuelando el brillo de Dios\n",
      "Un rayo cayó en tus ojo'\n",
      "Y me partió el corazón\n",
      "Agujerito del cielo\n",
      "Díctame por dónde ir\n",
      "Para yo no equivocarme\n",
      "Y así ver mi porvenir\n",
      "\n",
      "[Pre-Chorus: James Blake, Both]\n",
      "When you're done with me\n",
      "I see a negative space\n",
      "What you've done for me\n",
      "Who needs to hallucinate?\n",
      "Who needs to pray? Who?\n",
      "Who needs balance? I'll see you every day\n",
      "\n",
      "[Chorus: James Blake & ROSALÍA]\n",
      "Barefoot in the park\n",
      "You start rubbing off on me\n",
      "Barefoot in the park\n",
      "You start rubbing off on me\n",
      "[Verse 2: ROSALÍA, Both]\n",
      "Ya tengo to' lo que quiero\n",
      "Ya no puedo pedir má'\n",
      "Cuando te tengo a mi la'o\n",
      "Lo pasa'o se queda atrá'\n",
      "Si te apartan de mi vera\n",
      "Y te tuviera que encontrar\n",
      "Hasta allá te encontraría\n",
      "Como el río va a la mar\n",
      "[Chorus: James Blake & ROSALÍA]\n",
      "Barefoot in the park\n",
      "You start rubbing off on me\n",
      "Barefoot in the park\n",
      "You start rubbing off on me\n",
      "\n",
      "[Bridge: James Blake]\n",
      "Saturn starts turning off each ring\n",
      "Sky's locking up I think\n",
      "I call off the chase\n",
      "Who needs balance? I'll see you every day\n",
      "\n",
      "[Chorus: ROSALÍA, Both]\n",
      "Barefoot in the park\n",
      "You start rubbing off on me\n",
      "Barefoot in the park\n",
      "You start rubbing off on me\n",
      "\n",
      "[Outro]\n",
      "You start-you start rubbing off-rubbing off on me-off on me\n",
      "Barefoot in-barefoot in the park-in the park\n",
      "You start-you start rubbing off-rubbing off on me-off on me18EmbedShare URLCopyEmbedCopy\n",
      "[Verse]\n",
      "And I want you to know\n",
      "I took it with me\n",
      "That when things are thrown away like they are daily\n",
      "Time passes and the constants stay\n",
      "\n",
      "[Chorus]\n",
      "So if that is how it is\n",
      "I don’t wanna be a star\n",
      "But a stone on the shore\n",
      "A lone doorframe in a wall\n",
      "When everything’s overgrown\n",
      "But what she really really wanted was my rights and my wrongs\n",
      "And I wouldn’t understand but I would try playing along\n",
      "\n",
      "[Verse]\n",
      "And I want you to know\n",
      "I took it with me\n",
      "That when things are thrown away like they are daily\n",
      "Time passes and the constants stay\n",
      "\n",
      "[Chorus]\n",
      "So if that is how it is\n",
      "I don’t wanna be a star\n",
      "But a stone on the shore\n",
      "A lone doorframe in a wall\n",
      "When everything’s overgrown\n",
      "But what she really really wanted was my rights and my wrongs\n",
      "And I wouldn’t understand but I would try playing along\n",
      "And I wouldn’t understand but I would try playing along\n",
      "And I wouldn’t understand but I would try playing along\n",
      "[Verse]\n",
      "And I want you to know\n",
      "I took it with me\n",
      "That when things are thrown away like they are daily\n",
      "Time passes and the constants stay\n",
      "Time passes and the constants stay\n",
      "Time passes and the constants stay\n",
      "Time passes and the constants stay30EmbedShare URLCopyEmbedCopy\n"
     ]
    }
   ],
   "metadata": {}
  },
  {
   "cell_type": "code",
   "execution_count": 5,
   "source": [
    "#searching for one specific song\n",
    "song = genius.search_song(\"James Blake\", \"Famous last words\")"
   ],
   "outputs": [
    {
     "output_type": "stream",
     "name": "stdout",
     "text": [
      "Searching for \"James Blake\" by Famous last words...\n",
      "Done.\n"
     ]
    }
   ],
   "metadata": {}
  },
  {
   "cell_type": "code",
   "execution_count": 6,
   "source": [
    "#printing the lyrics of \"Limit to your love\" by \"James Blake\"\n",
    "print(song.lyrics)"
   ],
   "outputs": [
    {
     "output_type": "stream",
     "name": "stdout",
     "text": [
      "[Verse 1]\n",
      "And I can't believe I'm still talkin' about you, that feeling\n",
      "I should have lost it, I should have lost it by now\n",
      "I can't believe I'm still holding out and seeing signs\n",
      "I've truly lost it, I've truly lost it this time\n",
      "\n",
      "[Chorus]\n",
      "Ooh, you're the last\n",
      "Ooh, you're the last of my old things\n",
      "Ooh, the cast from my broken limbs\n",
      "\n",
      "[Verse 2]\n",
      "I can't believe I'm still walkin' around a believer\n",
      "I should have lost it, I should have lost it by now\n",
      "And I can't believe I'm still makin' excuses for your crimes\n",
      "I've truly lost it, I've truly lost it this time\n",
      "\n",
      "[Chorus]\n",
      "Ooh, you're the last\n",
      "Ooh, you're the last of my old things\n",
      "Ooh, the cast from my broken limbs\n",
      "\n",
      "[Bridge]\n",
      "You're the famous last words\n",
      "I wish I nеver uttered\n",
      "That I wish I nеver stuttered\n",
      "But I wish I kept tied to me\n",
      "[Chorus]\n",
      "Ooh, you're the last\n",
      "Ooh, you're the last of my old things\n",
      "Ooh, the cast from my broken limbs\n",
      "Ooh, you're the last\n",
      "Ooh, you're the last of my old things\n",
      "Ooh, the cast from my broken limbsEmbedShare URLCopyEmbedCopy\n"
     ]
    }
   ],
   "metadata": {}
  },
  {
   "cell_type": "markdown",
   "source": [
    "<font color = 'blue'> Summary of LyricsGenius </font> In order to use the lyrics for the machine learning model, the text has to be cleaned. In concrete, `\\n` and word phrases like `[Verse 1]` have to be filtered out."
   ],
   "metadata": {}
  },
  {
   "cell_type": "markdown",
   "source": [
    "***"
   ],
   "metadata": {}
  },
  {
   "cell_type": "markdown",
   "source": [
    "*Accessing the albums \"Friends that break your heart\" by James Blake and \"Circles\" by Mac Miller*"
   ],
   "metadata": {}
  },
  {
   "cell_type": "code",
   "execution_count": 7,
   "source": [
    "#saving the lyrics of the album \"Friends that break your heart\" by \"James Blake\" as json file\n",
    "#album = genius.search_album(\"Friends that break your heart\", \"James Blake\")\n",
    "#album.save_lyrics"
   ],
   "outputs": [],
   "metadata": {}
  },
  {
   "cell_type": "code",
   "execution_count": 8,
   "source": [
    "#saving the lyrics of the album \"Circles\" by \"Mac Miller\" as json file\n",
    "#album = genius.search_album(\"Circles\", \"Mac Miller\")\n",
    "#album.save_lyrics"
   ],
   "outputs": [],
   "metadata": {}
  },
  {
   "cell_type": "markdown",
   "source": [
    "***"
   ],
   "metadata": {}
  },
  {
   "cell_type": "markdown",
   "source": [
    "*Converting the json files into dataframes (James Blake)*"
   ],
   "metadata": {}
  },
  {
   "cell_type": "code",
   "execution_count": 9,
   "source": [
    "#opening the json files\n",
    "with open('Lyrics_FriendsThatBreakYourHeart.json', 'r') as read_file:\n",
    "    jamesblake_json = json.load(read_file)"
   ],
   "outputs": [],
   "metadata": {}
  },
  {
   "cell_type": "code",
   "execution_count": 10,
   "source": [
    "#understanding the structure of the json file\n",
    "pprint.pprint(jamesblake_json['tracks'][0]['song']['lyrics'])"
   ],
   "outputs": [
    {
     "output_type": "stream",
     "name": "stdout",
     "text": [
      "('[Verse 1]\\n'\n",
      " \"And I can't believe I'm still talkin' about you, that feeling\\n\"\n",
      " 'I should have lost it, I should have lost it by now\\n'\n",
      " \"I can't believe I'm still holding out and seeing signs\\n\"\n",
      " \"I've truly lost it, I've truly lost it this time\\n\"\n",
      " '\\n'\n",
      " '[Chorus]\\n'\n",
      " \"Ooh, you're the last\\n\"\n",
      " \"Ooh, you're the last of my old things\\n\"\n",
      " 'Ooh, the cast from my broken limbs\\n'\n",
      " '\\n'\n",
      " '[Verse 2]\\n'\n",
      " \"I can't believe I'm still walkin' around a believer\\n\"\n",
      " 'I should have lost it, I should have lost it by now\\n'\n",
      " \"And I can't believe I'm still makin' excuses for your crimes\\n\"\n",
      " \"I've truly lost it, I've truly lost it this time\\n\"\n",
      " '\\n'\n",
      " '[Chorus]\\n'\n",
      " \"Ooh, you're the last\\n\"\n",
      " \"Ooh, you're the last of my old things\\n\"\n",
      " 'Ooh, the cast from my broken limbs\\n'\n",
      " '\\n'\n",
      " '[Bridge]\\n'\n",
      " \"You're the famous last words\\n\"\n",
      " 'I wish I nеver uttered\\n'\n",
      " 'That I wish I nеver stuttered\\n'\n",
      " 'But I wish I kept tied to me\\n'\n",
      " '\\n'\n",
      " '[Chorus]\\n'\n",
      " \"Ooh, you're the last\\n\"\n",
      " \"Ooh, you're the last of my old things\\n\"\n",
      " 'Ooh, the cast from my broken limbs\\n'\n",
      " \"Ooh, you're the last\\n\"\n",
      " \"Ooh, you're the last of my old things\\n\"\n",
      " 'Ooh, the cast from my broken limbs')\n"
     ]
    }
   ],
   "metadata": {}
  },
  {
   "cell_type": "code",
   "execution_count": 11,
   "source": [
    "#understanding the structure of the json file\n",
    "pprint.pprint(jamesblake_json['tracks'][0])"
   ],
   "outputs": [
    {
     "output_type": "stream",
     "name": "stdout",
     "text": [
      "{'number': 1,\n",
      " 'song': {'_type': 'song',\n",
      "          'annotation_count': 8,\n",
      "          'api_path': '/songs/7031975',\n",
      "          'artist': 'James Blake',\n",
      "          'full_title': 'Famous Last Words by\\xa0James\\xa0Blake',\n",
      "          'header_image_thumbnail_url': 'https://images.genius.com/9cf51d99b552cf4c8ca56c13fcbb24b4.300x300x1.png',\n",
      "          'header_image_url': 'https://images.genius.com/9cf51d99b552cf4c8ca56c13fcbb24b4.1000x1000x1.png',\n",
      "          'id': 7031975,\n",
      "          'instrumental': False,\n",
      "          'lyrics': '[Verse 1]\\n'\n",
      "                    \"And I can't believe I'm still talkin' about you, that \"\n",
      "                    'feeling\\n'\n",
      "                    'I should have lost it, I should have lost it by now\\n'\n",
      "                    \"I can't believe I'm still holding out and seeing signs\\n\"\n",
      "                    \"I've truly lost it, I've truly lost it this time\\n\"\n",
      "                    '\\n'\n",
      "                    '[Chorus]\\n'\n",
      "                    \"Ooh, you're the last\\n\"\n",
      "                    \"Ooh, you're the last of my old things\\n\"\n",
      "                    'Ooh, the cast from my broken limbs\\n'\n",
      "                    '\\n'\n",
      "                    '[Verse 2]\\n'\n",
      "                    \"I can't believe I'm still walkin' around a believer\\n\"\n",
      "                    'I should have lost it, I should have lost it by now\\n'\n",
      "                    \"And I can't believe I'm still makin' excuses for your \"\n",
      "                    'crimes\\n'\n",
      "                    \"I've truly lost it, I've truly lost it this time\\n\"\n",
      "                    '\\n'\n",
      "                    '[Chorus]\\n'\n",
      "                    \"Ooh, you're the last\\n\"\n",
      "                    \"Ooh, you're the last of my old things\\n\"\n",
      "                    'Ooh, the cast from my broken limbs\\n'\n",
      "                    '\\n'\n",
      "                    '[Bridge]\\n'\n",
      "                    \"You're the famous last words\\n\"\n",
      "                    'I wish I nеver uttered\\n'\n",
      "                    'That I wish I nеver stuttered\\n'\n",
      "                    'But I wish I kept tied to me\\n'\n",
      "                    '\\n'\n",
      "                    '[Chorus]\\n'\n",
      "                    \"Ooh, you're the last\\n\"\n",
      "                    \"Ooh, you're the last of my old things\\n\"\n",
      "                    'Ooh, the cast from my broken limbs\\n'\n",
      "                    \"Ooh, you're the last\\n\"\n",
      "                    \"Ooh, you're the last of my old things\\n\"\n",
      "                    'Ooh, the cast from my broken limbs',\n",
      "          'lyrics_owner_id': 5748418,\n",
      "          'lyrics_state': 'complete',\n",
      "          'lyrics_updated_at': 1634288644,\n",
      "          'path': '/James-blake-famous-last-words-lyrics',\n",
      "          'primary_artist': {'_type': 'artist',\n",
      "                             'api_path': '/artists/13298',\n",
      "                             'header_image_url': 'https://images.genius.com/395a9a6632b306670a9d47ceed87272e.925x925x1.jpg',\n",
      "                             'id': 13298,\n",
      "                             'image_url': 'https://images.genius.com/99cca98fac2aa8240b9392bc914197e6.820x820x1.jpg',\n",
      "                             'index_character': 'j',\n",
      "                             'iq': 1269,\n",
      "                             'is_meme_verified': False,\n",
      "                             'is_verified': True,\n",
      "                             'name': 'James Blake',\n",
      "                             'slug': 'James-blake',\n",
      "                             'url': 'https://genius.com/artists/James-blake'},\n",
      "          'pyongs_count': None,\n",
      "          'song_art_image_thumbnail_url': 'https://images.genius.com/9cf51d99b552cf4c8ca56c13fcbb24b4.300x300x1.png',\n",
      "          'song_art_image_url': 'https://images.genius.com/9cf51d99b552cf4c8ca56c13fcbb24b4.1000x1000x1.png',\n",
      "          'stats': {'hot': False,\n",
      "                    'pageviews': 13316,\n",
      "                    'unreviewed_annotations': 8},\n",
      "          'title': 'Famous Last Words',\n",
      "          'title_with_featured': 'Famous Last Words',\n",
      "          'updated_by_human_at': 1634288644,\n",
      "          'url': 'https://genius.com/James-blake-famous-last-words-lyrics'}}\n"
     ]
    }
   ],
   "metadata": {}
  },
  {
   "cell_type": "code",
   "execution_count": 12,
   "source": [
    "#writing an empty list\n",
    "list_jamesblake = []"
   ],
   "outputs": [],
   "metadata": {}
  },
  {
   "cell_type": "code",
   "execution_count": 13,
   "source": [
    "#slicing out the lyrics and the artist's name and fill them into the empty list\n",
    "for track in jamesblake_json['tracks']:\n",
    "    X = track['song']['lyrics']\n",
    "    y = track['song']['artist']\n",
    "    list_jamesblake.append([X,y])"
   ],
   "outputs": [],
   "metadata": {}
  },
  {
   "cell_type": "code",
   "execution_count": 14,
   "source": [
    "#inspecting the filled list\n",
    "list_jamesblake"
   ],
   "outputs": [
    {
     "output_type": "execute_result",
     "data": {
      "text/plain": [
       "[[\"[Verse 1]\\nAnd I can't believe I'm still talkin' about you, that feeling\\nI should have lost it, I should have lost it by now\\nI can't believe I'm still holding out and seeing signs\\nI've truly lost it, I've truly lost it this time\\n\\n[Chorus]\\nOoh, you're the last\\nOoh, you're the last of my old things\\nOoh, the cast from my broken limbs\\n\\n[Verse 2]\\nI can't believe I'm still walkin' around a believer\\nI should have lost it, I should have lost it by now\\nAnd I can't believe I'm still makin' excuses for your crimes\\nI've truly lost it, I've truly lost it this time\\n\\n[Chorus]\\nOoh, you're the last\\nOoh, you're the last of my old things\\nOoh, the cast from my broken limbs\\n\\n[Bridge]\\nYou're the famous last words\\nI wish I nеver uttered\\nThat I wish I nеver stuttered\\nBut I wish I kept tied to me\\n\\n[Chorus]\\nOoh, you're the last\\nOoh, you're the last of my old things\\nOoh, the cast from my broken limbs\\nOoh, you're the last\\nOoh, you're the last of my old things\\nOoh, the cast from my broken limbs\",\n",
       "  'James Blake'],\n",
       " [\"[Intro]\\nDaytrip took it to ten (Hey)\\n\\n[Verse 1]\\nI played the ones you know\\nI took you all the way\\nBut that was yesterday\\nI wore your favorite clothes\\nI said the things you'd say\\nThat was yesterday\\n\\n[Pre-Chorus]\\nSo if you loved me so much\\nWhy'd you go? (Why'd you go?)\\nKeep yourself back\\nKeep on lying, oh\\nI can only be what I am\\nDive in, smiling\\n\\n[Chorus]\\nLife is not the same\\nIf we're miles away\\nI was your champion\\nI did everything your way\\n\\n[Verse 2]\\nWe both swim out to sea\\nYou lost me willingly\\nBut that was yesterday\\n(That was yesterday)\\nYou knew it would get dark\\nYou made sure I would need you\\nIn every way\\n\\n[Pre-Chorus]\\nSo if you loved me so much\\nWhy'd you go? (Why'd you go?)\\nKeep yourself back\\nKeep on lying, oh\\nI can only be what I am\\nDive in, smiling\\n\\n[Chorus]\\nLife is not the same\\nIf we're miles away\\nI was your champion\\nI did everything your way\\nLife is not the same\\nIf we're miles away\\nI was your champion\\nI did everything to help you stay\",\n",
       "  'James Blake'],\n",
       " [\"[Intro: James Blake]\\nCan't stick to that\\nCan't fade us to black\\nSo I'm coming back, coming back, coming back, coming back\\n'Cause it hurts, 'cause it hurts like the end of the world\\nAnd like betrayal, like betrayal of the soul I'd never thought of before\\n\\n[Chorus: James Blake]\\nSo I'm coming back, coming back, tail between my legs\\nForget what I said, what I said, what I said, what I said\\nThere's a mile between my heart and my head\\nSo I take it all, take it all, take it all back (Take it all back)\\n\\n[Verse 1: SZA & James Blake]\\nYou're so down\\nSo down you bring me down\\nDon't you have a clue about where my mind is right now?\\nYou say you love me, is it real?\\nWhat do you fantasize about the things you really wanna feel?\\nI know you fantasize about that lifе you really wanna build\\nKnow your eyes arе watching God\\nBut baby, my eyes are hidden in the hills\\nYour first mistake was wanting me when you know I wasn't ready\\nYou put that shit down heavy\\nCouldn't let you regret me\\nWe memorize about the time we spent when you first met me\\nI put my shit down heavy (No)\\nCouldn't let you forget me, mmm (No)\\nI'll never let you forget me (I)\\n\\n[Verse 2: James Blake]\\n(I wish I could take you)\\nYes I love you and it's real\\nI went in too soon for the kill (Ooo)\\nBut I really wanna feel\\nAnd I think wanna be with you (I wish I could take it)\\nI couldn't let you reject me (No)\\nI couldn't let you forget me (No)\\nI wanted you to respect me\\nI wanted you to let me in (I wish I could take it)\\n\\n[Chorus: James Blake]\\nSo I'm coming back, coming back, tail between my legs\\nForget what I said, what I said, what I said, what I said (I wish I could take it)\\nThere's a mile between my heart and my head (No, no)\\nSo I take it all, take it all, take it all back (No)\\n\\n[Outro: James Blake & SZA]\\n(Ah)\\n(Take it all back)\\n(Ah)\\nI wish I could take it\\n(Darlin' breathe, simmer)\\nI wish I could take it\\nYou say you love me, is it real?\\nYou're coming back, coming back, coming back, coming back\\nOr do you fantasize about the things you really wanna feel?\\nI know you fantasize about that life you really wanna build\\nNow your eyes are watching God\\nBut baby, my eyes are hidden in the hills\",\n",
       "  'James Blake'],\n",
       " ['[Verse 1]\\nI hold my ear to a shell\\nI hear somethin\\' that no one can sell\\nY\\'know, I should’ve lived by the sea\\n\\'Cause I feel invisible in every city\\n\\n[Chorus]\\nAnd I know this feeling too well (Too well)\\nOf being alive at your own funeral\\nGoin\\', \"Don\\'t give up on me\"\\nGoin\\', \"Don\\'t give up on me\"\\nPlease, I\\'ll be the best I can be\\nI\\'ll be the best I can be\\nDon\\'t give up on me\\n\\n[Verse 2]\\nI\\'ll come out of my shell\\n\\'Cause I want the cake, and I wanna eat it as well\\nI, I would livе in the leaves that crunch undеr your feet\\nI wanna be heard if I can\\'t be seen\\n\\n[Chorus]\\nAnd I know this feeling too well (Too well)\\nOf being alive at your own funeral\\nGoin\\', \"Don\\'t give up on me\"\\nGoin\\', \"Don\\'t give up on me\"\\nPlease, I\\'ll be the best I can be\\nI\\'ll be the best I can be',\n",
       "  'James Blake'],\n",
       " [\"[Intro: James Blake]\\nI've been losing all of my mind\\nThey tell me I'm too hard to find\\nTell me, am I?\\nHow can that be true if you're mine?\\nHopin' I'll be chosen\\nBody's so stooped, you'd think that I'd been frozen\\nYou'd think that I'd been frozen\\nYou'd think that I'd been\\n\\n[Verse 1: JID]\\nHuh, yeah, hypothermia, my hyperbole\\nFeel like Serbia, I shot Hercules\\nI'm a murderer\\nDirty-thirty, I can make it dirtier\\nUrgent surgery or Hershey hearse\\n.50-cal in the Virgil murse\\nFifty thou', that's a turtle verse\\nWhen I get around (When I get around)\\nIf I find the time, I ain't busy now but (Busy now)\\nA typical day, a temperature drop\\nA flick on a tool, a bitch ass cop\\nGrippin' a tool, but we ain't watchin' Home Improvement\\nCole/JID vid, my influences bought the views in\\nWritin' my woes, send a kite through the institution\\nFighting a cold, he got life, but he twenty-two, shit\\nTwenty-two below, only two-one, sell six buy eight\\nForty-eight square feet\\nGive or take, that's weak\\nThey tried to tell me choose that or the street\\nOr you be dead or somethin' stupid\\nI don't know what they had said\\nTest a nigga, what came first, the chicken or the egg?\\nFuck I care, unless who's splitting the thigh or a leg?\\nKool-Aid red, there's snowin' on the bluff and Bouldercrest\\nLift the pole north at your nose and open gifts\\nCheck a nigga temperature froze\\nBlood tricklin', meltin' the snow\\nI'm numb so I never felt it before\\n\\n[Chorus: James Blake]\\nBy my wall I, I feel it all\\n(You'd think that I'd been frozen)\\nYes, I won't lie, just come closer\\n(You'd think that I'd been frozen)\\n\\n[Verse 2: SwaVay & James Blake]\\nLately, I've been feeling like I might've lost my mind\\nOnly thing that I got in this life is time\\nThe bottom line ain't nothin' worse than time with an idle mind (Yeah, uh)\\nThey talk to me crazy like I ain't that (Uh, yeah)\\nStill watching my pockets like they ain't fat (Uh, yeah)\\nStop calling me crazy, but when in fact I got my hand on the gat the other on rap, before 'rona was wearin' mask\\nMe and JID brought James to Atlanta\\nTook him to JJ's and had him turnt by the end of the day\\nEnd up hittin' the lick for two nights and then went to the banks\\nStop by the Texaco on Gresham, shawty shot up the tank\\nI looked at in the spell, he didn't catch his gun in the air\\nThen he ended my life and shot JID in the back of his head\\nHe killed us both, but did he do it?\\nMaybe I'm the one who had the gun?\\nOr maybe I made it up?\\nOkay, maybe you're right, I am crazy, I'm sorry\\nOr maybe I'm not?\\nMaybe I'm just adolescence that's made in a box?\\n(By my wall I)\\nCobain with the park in Atlanta, stayed in the park\\nAnd I'll kill you, fuck if I'm famous and not crazy\\nAn' I'm feelin' all by frostbite, feet in the snow\\nNow Hotlanta don't feel so hot anymore\\n(I feel it all)\\nNow I'm frozen, neck frozen\\nMy girl bad, my sex frozen, neck open\\n(You'd think that I'd been frozen)\\nIce in my lungs now\\nToo far from the sun now, yeah\\n\\n[Chorus: James Blake]\\nYes, I won't lie\\nJust come closer\\nYou'd think that I'd been frozen\",\n",
       "  'James Blake'],\n",
       " [\"[Pre-Chorus]\\nLover, is it alright, the way it is?\\nLover, I've seen it all now, now I've seen this\\nNever saw you coming, but I saw the smoke\\nYou never saw a life with me, but away we go\\n\\n[Chorus]\\nI'm so blessed you're mine\\nI'm so blessed you're mine (Girl)\\nI'm so blessed you're mine\\nI'm so blessed you're mine\\nI'm so blessed you're mine\\nI'm so blessed you're mine (Girl)\\nI'm so blessed you're mine\\nI'm so blessed you're, I'm so blessed you're\\nI (I'm so blessed you're mine)\\n(I'm so blessed you're mine)\\n(I'm so blessed you're mine)\\nI (I'm so blessed you're mine)\\n(I'm so blessed you're mine)\\n(I'm so blessed you're, I'm so blessed you're)\\n\\n[Pre-Chorus]\\nLover, is it alright, if I try again?\\nLover, if I hit the wall now, it's not the end\\nNever saw you coming, but I saw the smoke\\nYou never saw a life with me, but away we go\\n\\n[Chorus]\\nI'm so blessed you're mine\\nI'm so blessed you're mine (Girl)\\nI'm so blessed you're mine\\nI'm so blessed you're\\nOkay, I'm so blessed you're mine\\nI'm so blessed you're mine (Girl)\\nI'm so blessed you're mine\\nI'm so blessed you're, I'm so blessed you're\\nI'm so blessed you're mine\\nI'm so blessed you're mine\\nI'm so blessed you're mine\\nI'm so blessed you're mine\\nI'm so blessed you're mine\\nI'm so blessed you're mine\\nI'm so blessed you're mine\\nI'm so blessed you're mine (I'm so)\\nGirl\\n(I'm so)\\n\\n[Outro]\\nI'm so blessed you're mine\\nI'm so blessed you're mine (Girl)\",\n",
       "  'James Blake'],\n",
       " [\"[Intro]\\nMetro\\n\\n[Verse 1]\\nIt was built, in a day\\nSo it fell, in a day\\nWhat do you expect?\\nWhat do you expect, what do you expect, what do you expect?\\nAt best, we're a stretch\\nAnd a leash, won't hold my neck\\nI'm a mess\\nWhat do you expect, what do you expect, what do you expect?\\n\\n[Chorus]\\nAnd it's okay, I know I'll be replaced\\nA bitter aftertaste, but it's not that bad\\nIt's okay, there's nothing to explain\\nOnly yesterday, you weren't so sad\\n\\n[Verse 2]\\nKeep your breath, keep my texts\\nWho's next? (Who's next?) Who's next?\\nI hope it connеcts, I'm not at my best\\nBut I put my best foot forward\\nFoot forward, foot forward\\nI put my best foot forward\\nFoot forward, foot forward\\nWhat еlse can I do?\\nFoot forward, foot forward, foot forward\\nI put my best foot forward\\nFoot forward, foot forward\\n\\n[Chorus]\\nAnd it's okay, I know I'll be replaced\\nA bitter aftertaste, but it's not that bad\\nIt's okay, there's nothing to explain\\nOnly yesterday, you weren't so sad\\n\\n[Bridge]\\nWho's next\\nAnd it's okay\\nWho's next? I\\nWho's next? I\\nWho's next? I\\nWho's next? I\\nAnd it's okay\\nWho's next? I\\nWho's next? I\\nWho's next? I\\nWho's next? I\\n\\n[Chorus]\\nAnd it's okay, I know I'll be replaced\\nA bitter after taste, but it's not that bad\\nIt's okay, there's nothing to explain\\nOnly yesterday, you weren't so sad\",\n",
       "  'James Blake'],\n",
       " [\"[Chorus]\\nShow me\\nI wish you'd show me\\nShow me\\nI wish you'd show me\\n\\n[Verse 1: James Blake]\\nI heard you can show love\\nIt's just not come out for me\\nI heard you had a sweet way\\nThat I have yet to see\\nI wish you'd show me\\nI wish you'd show me\\n\\n[Chorus]\\nShow me\\nI wish you'd show me\\nShow me (I wish you'd show)\\nI wish you'd show me\\n\\n[Verse 2: Monica Martin, with James Blake]\\nI heard you know it's over\\nBut you didn't get that from me\\nI heard you're wearing new colours\\nThat no one has ever seen on you\\nI wish you'd show me (Mmm)\\nI wish you'd show me\\n\\n[Bridge: Monica Martin & James Blake]\\n'Cause there was nothing stopping you before\\nAnd nothing I'd have loved more\\nThan seeing you at your best\\nAnd I waited 'til me eyеs were sore\\n'Causе there's nothing I'd have wanted more\\nThan to see you at your best\\n\\n[Chorus: Monica Martin & James Blake]\\nShow me\\nI wish you'd show me (Ah)\\nShow me\\nI wish you'd show me (Ah)\\n\\n[Outro: James Blake]\\nI hope the person after\\nGets all that you held from me\\nThey get to be a fresh start\\nWhile I'm another casualty\\nI wish you'd show me\\nI wish you'd show me (I wish you'd show)\",\n",
       "  'James Blake'],\n",
       " [\"[Intro]\\nYeah, alright (Woo-hoo)\\nTwo, three\\n\\n[Verse 1]\\nWell, I've been normal, I've been ostracised\\nI've watched through a window\\nAs my young self died\\nI've been popular with all the popular guys\\nI gave them punchlines\\nThey gave me warning signs\\nI look okay in the magic hour\\nIn the right light with the right amount of power\\nAnd I'm okay with the life of the sunflower\\nAnd I'm okay with the life of a meteor shower\\n\\n[Chorus]\\nSo, say what you will\\nGo on, say what you will\\nYou're gonna do it anyway\\nGo on, just say what you will\\nYou're gonna do it anyway\\nGo on, just say what you will\\nGo on, you're gonna do it anyway, say what you will\\n\\n[Verse 2]\\nI can find my way with no superpowers\\nI can take my place without becoming sour\\nI might not make all those psychopaths proud\\nAt least I can see the facеs of the smaller crowds\\nAnd I'm okay, no, I can drive mysеlf\\nI've been sobered by my time on the shelf\\nAnd I've been normal\\nAnd I've been ostracised like a comet\\nBlazing through an empty sky\\n\\n[Chorus]\\nSo, say what you will\\nSay what you will (Say what you will)\\nSay what you will\\nSay what you will (Say what you will)\\nSo, say what you will\\nSay what you will (Say what you will)\\nSay what you will (Say what you will)\\n(Say what you will)\\n\\n[Outro]\\n(Say what you will)\\n(Say what you will)\\n(Say what you will)\",\n",
       "  'James Blake'],\n",
       " [\"[Intro]\\nWhatever makes you\\nWhatever makes you feel\\n\\n[Chorus]\\nLost angel nights\\nNever jaded eyes\\nEnvy is no crime\\nAway from me's just fine\\nLost angel nights\\nNever jaded eyes\\nEnvy is no crime\\nAway from me's just fine\\n\\n[Verse 1]\\nYes, I've been in my own way\\nBut in my own way\\nI kept it going, I kept it going for us\\nWe had so much going for us\\nAnd I been losing my place\\nAnd in my place a thousand imitations rose up\\nAnd I hope it's not too late to make up for all those\\n\\n[Chorus]\\nLost angel nights\\nNever jaded eyes\\nEnvy is no crimе\\nAway from me's just fine\\nLost angel nights\\nNеver jaded eyes\\nEnvy is no crime\\nAway from me's just fine\\n\\n[Verse 2]\\nAnd so you slept all day\\nThe world doesn't wait\\nAnd it kept on going, it kept on going around us\\nWe had so much going for us\\nAnd I was losing my place\\nAnd in my place a thousand imitations rose up\\nAnd I hope it's not too late to make up for all those\\n\\n[Chorus]\\nLost angel nights (I know you really had to fight)\\nNever jaded eyes (I know you really had to lift somebody)\\nEnvy is no crime (Over to the other side)\\nAway from me's just fine (Over to the other side)\\nLost angel nights (I know you really had to fight)\\nNever jaded eyes (I know you really had to lift somebody)\\nEnvy is no crime (Over to the other side)\\nAway from me's just fine (Over to the other side)\\n\\n[Outro]\\nI fell right in\\nI fell right in with you\\nI fell right in\\nInto the whirlpool with you\",\n",
       "  'James Blake'],\n",
       " ['[Chorus]\\nI have haunted many photographs\\nIn the background, in the fore\\nAnd as many loves that have crossed my path\\nIn the end, it was friends\\nIn the end, it was friends\\nIn the end, it was friends\\nIt was friends who broke my heart\\n\\n[Verse 1]\\nWell fair do\\'s, nobody prepares you\\nAnd nobody\\'s prepared, nobody\\'s prepared\\nAnd they tell you \"Just you wait\\nIt kills you, and only love can break you\\nMore the more you care\\nAnd all, and all in love is fair\"\\nBut it\\'s not fair\\n\\n[Chorus]\\nI have haunted many photographs\\nIn the background, in the fore\\nAnd as many loves that have crossed my path\\nIn the end, it was friends\\nIn the end, it was friends\\nIn the end, it was friends\\nIt was friends who broke my heart\\n\\n[Bridge]\\nAnd I\\'ve pushed myself to be vulnerable\\nAnd then slept with one eye wide\\nAll that pain and nothing gained in the end\\nIn the end, it was friends\\nIn the end, it was friends\\nIn the end, it was friends\\n\\n[Outro]\\nIn the end, (In the end) it was friends\\nIn the, in the end\\nIn the, in the end\\nIn the, in the end\\nIn the end, it was friends\\nIn the end, it was friends\\nIn the end, it was friends\\nIt was friends who broke my heart',\n",
       "  'James Blake'],\n",
       " [\"[Verse 1]\\nIf I'm so happy\\nHow am I losing all this sleep?\\nIf I'm the only child\\nHow do I feel like the black sheep?\\nIf this is what we always wanted\\nHow's the signal so weak?\\nIf I'm loved unconditionally\\nHow's this condition so unique, so unique?\\n\\n[Pre-Chorus]\\nBut when you're with me\\nI feel like I'm embracing it\\nAnd when you cry\\nI know that you've been saving me\\n\\n[Chorus]\\nAnd if I'm insecure\\nHow have I been so sure\\nThat I'm gonna care for you\\n'Til I am no more\\nBut if I'm insecure\\nHow have I been so sure\\nThat I'm gonna care for you\\n'Til I am no more\\n\\n[Verse 2]\\nBut if this life matters\\nHow am I still wasting it? Hmm\\nIf I'm an animal\\nShouldn't I be embracing it? Hmm\\n\\n[Pre-Chorus]\\nWhen you're with me\\nI feel like I'm embracing it\\nAnd when you cry (When you cry)\\nI know that you've been saving me, from me\\n\\n[Chorus]\\nAnd if I'm insecure\\nHow have I been so sure\\nThat I'm gonna care for you\\n'Til I am no more\\nHow have I been so sure\\nThat I'm gonna care for you\\n'Til I am no more\\nIf I'm insecure\\nHow have I been so sure\\nThat I'm gonna care for you\\n'Til I am no more\\nHow have I been so sure\\nThat I'm gonna care for you\\n'Til I am no more\",\n",
       "  'James Blake']]"
      ]
     },
     "metadata": {},
     "execution_count": 14
    }
   ],
   "metadata": {}
  },
  {
   "cell_type": "code",
   "execution_count": 15,
   "source": [
    "#creating a dataframe from the list\n",
    "df_jamesblake = pd.DataFrame(list_jamesblake, columns=['X', 'y'])\n",
    "df_jamesblake"
   ],
   "outputs": [
    {
     "output_type": "execute_result",
     "data": {
      "text/plain": [
       "                                                    X            y\n",
       "0   [Verse 1]\\nAnd I can't believe I'm still talki...  James Blake\n",
       "1   [Intro]\\nDaytrip took it to ten (Hey)\\n\\n[Vers...  James Blake\n",
       "2   [Intro: James Blake]\\nCan't stick to that\\nCan...  James Blake\n",
       "3   [Verse 1]\\nI hold my ear to a shell\\nI hear so...  James Blake\n",
       "4   [Intro: James Blake]\\nI've been losing all of ...  James Blake\n",
       "5   [Pre-Chorus]\\nLover, is it alright, the way it...  James Blake\n",
       "6   [Intro]\\nMetro\\n\\n[Verse 1]\\nIt was built, in ...  James Blake\n",
       "7   [Chorus]\\nShow me\\nI wish you'd show me\\nShow ...  James Blake\n",
       "8   [Intro]\\nYeah, alright (Woo-hoo)\\nTwo, three\\n...  James Blake\n",
       "9   [Intro]\\nWhatever makes you\\nWhatever makes yo...  James Blake\n",
       "10  [Chorus]\\nI have haunted many photographs\\nIn ...  James Blake\n",
       "11  [Verse 1]\\nIf I'm so happy\\nHow am I losing al...  James Blake"
      ],
      "text/html": [
       "<div>\n",
       "<style scoped>\n",
       "    .dataframe tbody tr th:only-of-type {\n",
       "        vertical-align: middle;\n",
       "    }\n",
       "\n",
       "    .dataframe tbody tr th {\n",
       "        vertical-align: top;\n",
       "    }\n",
       "\n",
       "    .dataframe thead th {\n",
       "        text-align: right;\n",
       "    }\n",
       "</style>\n",
       "<table border=\"1\" class=\"dataframe\">\n",
       "  <thead>\n",
       "    <tr style=\"text-align: right;\">\n",
       "      <th></th>\n",
       "      <th>X</th>\n",
       "      <th>y</th>\n",
       "    </tr>\n",
       "  </thead>\n",
       "  <tbody>\n",
       "    <tr>\n",
       "      <th>0</th>\n",
       "      <td>[Verse 1]\\nAnd I can't believe I'm still talki...</td>\n",
       "      <td>James Blake</td>\n",
       "    </tr>\n",
       "    <tr>\n",
       "      <th>1</th>\n",
       "      <td>[Intro]\\nDaytrip took it to ten (Hey)\\n\\n[Vers...</td>\n",
       "      <td>James Blake</td>\n",
       "    </tr>\n",
       "    <tr>\n",
       "      <th>2</th>\n",
       "      <td>[Intro: James Blake]\\nCan't stick to that\\nCan...</td>\n",
       "      <td>James Blake</td>\n",
       "    </tr>\n",
       "    <tr>\n",
       "      <th>3</th>\n",
       "      <td>[Verse 1]\\nI hold my ear to a shell\\nI hear so...</td>\n",
       "      <td>James Blake</td>\n",
       "    </tr>\n",
       "    <tr>\n",
       "      <th>4</th>\n",
       "      <td>[Intro: James Blake]\\nI've been losing all of ...</td>\n",
       "      <td>James Blake</td>\n",
       "    </tr>\n",
       "    <tr>\n",
       "      <th>5</th>\n",
       "      <td>[Pre-Chorus]\\nLover, is it alright, the way it...</td>\n",
       "      <td>James Blake</td>\n",
       "    </tr>\n",
       "    <tr>\n",
       "      <th>6</th>\n",
       "      <td>[Intro]\\nMetro\\n\\n[Verse 1]\\nIt was built, in ...</td>\n",
       "      <td>James Blake</td>\n",
       "    </tr>\n",
       "    <tr>\n",
       "      <th>7</th>\n",
       "      <td>[Chorus]\\nShow me\\nI wish you'd show me\\nShow ...</td>\n",
       "      <td>James Blake</td>\n",
       "    </tr>\n",
       "    <tr>\n",
       "      <th>8</th>\n",
       "      <td>[Intro]\\nYeah, alright (Woo-hoo)\\nTwo, three\\n...</td>\n",
       "      <td>James Blake</td>\n",
       "    </tr>\n",
       "    <tr>\n",
       "      <th>9</th>\n",
       "      <td>[Intro]\\nWhatever makes you\\nWhatever makes yo...</td>\n",
       "      <td>James Blake</td>\n",
       "    </tr>\n",
       "    <tr>\n",
       "      <th>10</th>\n",
       "      <td>[Chorus]\\nI have haunted many photographs\\nIn ...</td>\n",
       "      <td>James Blake</td>\n",
       "    </tr>\n",
       "    <tr>\n",
       "      <th>11</th>\n",
       "      <td>[Verse 1]\\nIf I'm so happy\\nHow am I losing al...</td>\n",
       "      <td>James Blake</td>\n",
       "    </tr>\n",
       "  </tbody>\n",
       "</table>\n",
       "</div>"
      ]
     },
     "metadata": {},
     "execution_count": 15
    }
   ],
   "metadata": {}
  },
  {
   "cell_type": "markdown",
   "source": [
    "***"
   ],
   "metadata": {}
  },
  {
   "cell_type": "markdown",
   "source": [
    "*Converting the json files into dataframes (Mac Miller)*"
   ],
   "metadata": {}
  },
  {
   "cell_type": "code",
   "execution_count": 16,
   "source": [
    "#opening the json files\n",
    "with open('Lyrics_Circles.json', 'r') as read_file:\n",
    "    macmiller_json = json.load(read_file)"
   ],
   "outputs": [],
   "metadata": {}
  },
  {
   "cell_type": "code",
   "execution_count": 17,
   "source": [
    "#understanding the structure of the json file\n",
    "pprint.pprint(macmiller_json['tracks'][0]['song']['lyrics'])"
   ],
   "outputs": [
    {
     "output_type": "stream",
     "name": "stdout",
     "text": [
      "('[Verse]\\n'\n",
      " 'Well, this is what it look like right before you fall\\n'\n",
      " \"Stumblin' around, you've been guessing\\u2005your\\u2005direction\\n\"\n",
      " \"Next step, you\\u2005can't see at all\\n\"\n",
      " \"And I don't\\u2005have a name, I don't have a name, no\\n\"\n",
      " 'Who am I to blame? Who am I to blame though?\\n'\n",
      " 'And I cannot be changed, I cannot be changed, no\\n'\n",
      " \"Trust me, I've tried\\n\"\n",
      " 'I just end up right at the start of the line\\n'\n",
      " \"Drawin' circles\\n\"\n",
      " 'Mmm\\n'\n",
      " 'Well, I drink my whiskey, and you sip your wine\\n'\n",
      " \"We're doing well, sittin', watchin' the world fallin' down, its decline\\n\"\n",
      " 'And I can keep you safe, I can keep you safe, mmm\\n'\n",
      " 'Do not be afraid, do not be afraid\\n'\n",
      " \"You're feeling sorry, I'm feeling fine\\n\"\n",
      " \"Don't you put any more stress on yourself, it's one day at a time\\n\"\n",
      " \"It's gettin' pretty late, gettin' pretty late\\n\"\n",
      " 'Damn, and I find\\n'\n",
      " \"It goes around like the hands that keep countin' the time\\n\"\n",
      " \"Drawin' circles\")\n"
     ]
    }
   ],
   "metadata": {}
  },
  {
   "cell_type": "code",
   "execution_count": 18,
   "source": [
    "#understanding the structure of the json file\n",
    "pprint.pprint(macmiller_json['tracks'][0])"
   ],
   "outputs": [
    {
     "output_type": "stream",
     "name": "stdout",
     "text": [
      "{'number': 1,\n",
      " 'song': {'_type': 'song',\n",
      "          'annotation_count': 11,\n",
      "          'api_path': '/songs/4844376',\n",
      "          'artist': 'Mac Miller',\n",
      "          'full_title': 'Circles by\\xa0Mac\\xa0Miller',\n",
      "          'header_image_thumbnail_url': 'https://images.genius.com/f5528ff2f79b8c9aaf79f41beaea2379.300x300x1.jpg',\n",
      "          'header_image_url': 'https://images.genius.com/f5528ff2f79b8c9aaf79f41beaea2379.1000x1000x1.jpg',\n",
      "          'id': 4844376,\n",
      "          'instrumental': False,\n",
      "          'lyrics': '[Verse]\\n'\n",
      "                    'Well, this is what it look like right before you fall\\n'\n",
      "                    \"Stumblin' around, you've been guessing\\u2005your\\u2005\"\n",
      "                    'direction\\n'\n",
      "                    \"Next step, you\\u2005can't see at all\\n\"\n",
      "                    \"And I don't\\u2005have a name, I don't have a name, no\\n\"\n",
      "                    'Who am I to blame? Who am I to blame though?\\n'\n",
      "                    'And I cannot be changed, I cannot be changed, no\\n'\n",
      "                    \"Trust me, I've tried\\n\"\n",
      "                    'I just end up right at the start of the line\\n'\n",
      "                    \"Drawin' circles\\n\"\n",
      "                    'Mmm\\n'\n",
      "                    'Well, I drink my whiskey, and you sip your wine\\n'\n",
      "                    \"We're doing well, sittin', watchin' the world fallin' \"\n",
      "                    'down, its decline\\n'\n",
      "                    'And I can keep you safe, I can keep you safe, mmm\\n'\n",
      "                    'Do not be afraid, do not be afraid\\n'\n",
      "                    \"You're feeling sorry, I'm feeling fine\\n\"\n",
      "                    \"Don't you put any more stress on yourself, it's one day \"\n",
      "                    'at a time\\n'\n",
      "                    \"It's gettin' pretty late, gettin' pretty late\\n\"\n",
      "                    'Damn, and I find\\n'\n",
      "                    \"It goes around like the hands that keep countin' the \"\n",
      "                    'time\\n'\n",
      "                    \"Drawin' circles\",\n",
      "          'lyrics_owner_id': 8816915,\n",
      "          'lyrics_state': 'complete',\n",
      "          'lyrics_updated_at': 1621483173,\n",
      "          'path': '/Mac-miller-circles-lyrics',\n",
      "          'primary_artist': {'_type': 'artist',\n",
      "                             'api_path': '/artists/820',\n",
      "                             'header_image_url': 'https://images.genius.com/3886cfd16c6087b2a926997fdaf8cc5d.300x300x1.png',\n",
      "                             'id': 820,\n",
      "                             'image_url': 'https://images.genius.com/904f5ed20e5f3bbf5391f178c55c3d01.700x700x1.jpg',\n",
      "                             'index_character': 'm',\n",
      "                             'iq': 40026,\n",
      "                             'is_meme_verified': True,\n",
      "                             'is_verified': True,\n",
      "                             'name': 'Mac Miller',\n",
      "                             'slug': 'Mac-miller',\n",
      "                             'url': 'https://genius.com/artists/Mac-miller'},\n",
      "          'pyongs_count': 37,\n",
      "          'song_art_image_thumbnail_url': 'https://images.genius.com/f5528ff2f79b8c9aaf79f41beaea2379.300x300x1.jpg',\n",
      "          'song_art_image_url': 'https://images.genius.com/f5528ff2f79b8c9aaf79f41beaea2379.1000x1000x1.jpg',\n",
      "          'stats': {'concurrents': 2,\n",
      "                    'hot': False,\n",
      "                    'pageviews': 474584,\n",
      "                    'unreviewed_annotations': 9},\n",
      "          'title': 'Circles',\n",
      "          'title_with_featured': 'Circles',\n",
      "          'updated_by_human_at': 1634558729,\n",
      "          'url': 'https://genius.com/Mac-miller-circles-lyrics'}}\n"
     ]
    }
   ],
   "metadata": {}
  },
  {
   "cell_type": "code",
   "execution_count": 19,
   "source": [
    "#writing an empty list\n",
    "list_macmiller = []"
   ],
   "outputs": [],
   "metadata": {}
  },
  {
   "cell_type": "code",
   "execution_count": 20,
   "source": [
    "#slicing out the lyrics and the artist's name and fill them into the empty list\n",
    "for track in macmiller_json['tracks']:\n",
    "    X = track['song']['lyrics']\n",
    "    y = track['song']['artist']\n",
    "    list_macmiller.append([X,y])"
   ],
   "outputs": [],
   "metadata": {}
  },
  {
   "cell_type": "code",
   "execution_count": 21,
   "source": [
    "#inspecting the filled list\n",
    "list_macmiller"
   ],
   "outputs": [
    {
     "output_type": "execute_result",
     "data": {
      "text/plain": [
       "[[\"[Verse]\\nWell, this is what it look like right before you fall\\nStumblin' around, you've been guessing\\u2005your\\u2005direction\\nNext step, you\\u2005can't see at all\\nAnd I don't\\u2005have a name, I don't have a name, no\\nWho am I to blame? Who am I to blame though?\\nAnd I cannot be changed, I cannot be changed, no\\nTrust me, I've tried\\nI just end up right at the start of the line\\nDrawin' circles\\nMmm\\nWell, I drink my whiskey, and you sip your wine\\nWe're doing well, sittin', watchin' the world fallin' down, its decline\\nAnd I can keep you safe, I can keep you safe, mmm\\nDo not be afraid, do not be afraid\\nYou're feeling sorry, I'm feeling fine\\nDon't you put any more stress on yourself, it's one day at a time\\nIt's gettin' pretty late, gettin' pretty late\\nDamn, and I find\\nIt goes around like the hands that keep countin' the time\\nDrawin' circles\",\n",
       "  'Mac Miller'],\n",
       " [\"[Verse 1]\\nOutside is cloudy, but I like that better (Better, better)\\nBehind the wheel, but still ain't\\u2005on\\u2005my way\\nSome people\\u2005say they want to live forever\\nThat's\\u2005way too long, I'll just get through today\\n\\n[Chorus]\\nWithout any complications (Ooh, ooh, ooh, ooh)\\nDoes it always gotta, does it always gotta\\nGotta be so complicated? (Ooh, ooh, ooh, ooh)\\nWell, I'm way too young to be gettin' old\\n\\n[Verse 2]\\nAnd all I wanna do is look, but I can't see, baby\\nWho you talkin' to while you talkin' to me, baby?\\nLet me, let me know if I can see you later\\nWe could make it easy\\n\\n[Verse 3]\\nInside my head is getting pretty cluttered (Cluttered, cluttered)\\nI try, but can't clean up this mess I made\\n'Fore I start to think about the future\\nFirst, can I please get through a day?\\n\\n[Chorus]\\nWithout any complications (Ooh, ooh, ooh, ooh)\\nDoes it always gotta, does it always gotta\\nGotta be so complicated? (Ooh, ooh, ooh, ooh)\\nWell, I'm way too young to be gettin' old\\n\\n[Outro]\\nSome people say they want to live forever\\nWithout any complications (Ooh, ooh, ooh, ooh)\\nDoes it always gotta, does it always gotta\\nGotta be so complicated? (Ooh, ooh, ooh, ooh)\\nWell, I'm way too young to be gettin' old\",\n",
       "  'Mac Miller'],\n",
       " [\"[Intro]\\nIt's a blue world without you\\nIt's a blue world alone\\n\\n[Chorus]\\nYeah, well, this a mad world,\\u2005it\\u2005made me crazy\\nMight\\u2005just turn around, do one-eighty\\nI ain't\\u2005politickin', I ain't kissin' no babies\\nThe devil on my doorstep bein' so shady\\nMmm, don't trip, we don't gotta let him in\\nDon't trip\\nYeah, yeah, yeah, I let it go\\nBut I never go with it, mhm, yeah\\n\\n[Verse 1]\\nOkay, cool as fall weather, fuck your bullshit\\nI'm here to make it all better with a little music for you\\nI don't do enough for you\\nWithout you, it's the color blue, ooh, don't trip\\nI was in the city, they was talkin' that shit\\nHad the homies with me, all a sudden, they split\\nWe ain't even worried, we just laughin', that's rich\\nYou know how it goes, it ain't broke, don't fix\\n\\n[Refrain]\\nHey, one of these days\\nWe'll all get by\\nDon't be afraid\\nDon't fall\\n\\n[Verse 2]\\nThink I lost my mind\\nReality's so hard to find\\nWhen the devil tryna call your line, but shit, I always shine\\nEven when the light dim\\nNo, I ain't God, but I'm feelin' just like Him, ooh, don't trip\\nSee, I was in the whip, ridin', me and my bitch\\nWe was listenin' to us, no one else, that's it\\nThat's a flex, just a bit, let me talk my shit\\nSay my head got big, yeah\\n\\n[Chorus]\\nYeah\\nWell, this a mad world, it made me crazy\\nMight just turn around, do one-eighty\\nI ain't politickin', I ain't kissin' no babies\\nThe devil on my doorstep bein' so shady\\nMmm, don't trip, we don't gotta let him in\\nDon't trip\\nYeah, yeah, yeah, I let it go\\nBut I never go with it, mhm\\n\\n[Bridge]\\nDon't trip\\nDon't trip\\nDon't trip\\nWell, if you could see me now\\nLove me and hold me down\\nMy mind, it goes, it goes\\nIt goes, it goes, it goes\\n\\n[Chorus]\\nYeah\\nWell, this a mad world, it made me crazy\\nMight just turn around, do one-eighty\\nI ain't politickin', I ain't kissin' no babies\\nThe devil on my doorstep bein' so shady\\nMmm, don't trip, we don't gotta let him in\\nDon't trip\\nYeah, yeah, yeah, I let it go\\nBut I never go with it, uh\\n\\n[Refrain]\\nHey, one of these days\\nWe'll all get by\\nDon't be afraid\\nDon't fall in line\",\n",
       "  'Mac Miller'],\n",
       " [\"[Verse 1]\\nI spent the whole day in my head\\nDo a little spring cleanin'\\nI'm always too busy\\u2005dreamin'\\nWell,\\u2005maybe I should\\u2005wake up instead\\nA lot of things\\u2005I regret, but I just say I forget\\nWhy can't it just be easy?\\nWhy does everybody need me to stay?\\nOh, I hate the feelin'\\nWhen you're high, but you're underneath the ceilin'\\nGot the cards in my hand, I hate dealin', yeah\\nGet everything I need, then I'm gone, but it ain't stealin'\\nCan I get a break?\\nI wish that I could just get out my goddamn way\\nWhat is there to say?\\nThere ain't a better time than today\\nWell, maybe I'll lay down for a little, yeah\\nInstead of always tryin' to figure everything out\\nAnd all I do is say sorry\\nHalf the time I don't even know what I'm sayin' it about\\n\\n[Chorus]\\nGood news, good news, good news\\nThat's all they wanna hear\\nNo, they don't like it when I'm down\\nBut when I'm flyin', oh\\nIt make 'em so uncomfortable\\nSo different, what's the difference?\\n\\n[Verse 2]\\nWhen it ain't that bad\\nIt could always be worse\\nI'm runnin' out of gas, hardly anything left\\nHope I make it home from work\\nWell, so tired of bein' so tired\\nWhy I gotta build somethin' beautiful just to go set it on fire?\\nI'm no liar, but\\nSometimes the truth don't sound like the truth\\nMaybe 'cause it ain't\\nI just love the way it sound when I say it, yeah\\nIt's what I do\\nIf you know me, it ain't anything new\\nWake up to the moon, haven't seen the sun in a while\\nBut I heard that the sky's still blue, yeah\\nI heard they don't talk about me too much no more\\nAnd that's the problem with a closed door\\n\\n[Chorus]\\nGood news, good news, good news\\nThat's all they wanna hear\\nNo, they don't like it when I'm down\\nBut when I'm flyin', oh\\nIt make 'em so uncomfortable\\nSo different, what's the difference?\\n\\n[Verse 3]\\nThere's a whole lot more for me waitin' on the other side\\nI'm always wonderin' if it feel like summer\\nI know maybe I'm too late, I could make it there some other time\\nI'll finally discover\\nThat there's a whole lot more for me waitin'\\nThat there's a whole lot more for me waitin'\\nI know maybe I'm too late, I could make it there some other time\\nThen I'll finally discover\\nThat it ain't that bad, ain't so bad\\nWell, it ain't that bad, mm\\nAt least it don't gotta be no more\\n\\n[Outro]\\nNo more, no more, no more, no more\\nNo more, no more, no more, no more\\nHey, hey\\nMm, hey, mm, mm, mm\",\n",
       "  'Mac Miller'],\n",
       " [\"[Verse 1]\\nI'm so close I can taste it\\nThe man on the moon keep playing\\nPractical jokes, planting\\u2005the\\u2005mirrors and smoke\\nThat\\u2005I fade away in\\nYou be complaining\\nAnd\\u2005I can't explain it\\nI guess, nothin' compare to the feeling\\nThe feeling amazing\\nNow I'm switchin' location\\n'Cause Heaven too far when you live in the basement\\nI'm lookin' for balance, I'm in an oasis\\nWell, I need somebody to save me, hmm\\nBefore I drive myself crazy\\n\\n[Chorus]\\nAnd all I know if life is but a dream then so are we\\nShow me something, show me something, show me something\\nAnd all I know if life is but a dream then so are we\\nShow me something, show me something, something I can see\\n\\n[Verse 2]\\nYeah, don't tell me to stop\\nLet me keep goin' until I cannot\\nLife is a fantasy until you wake up in shock\\nHittin' the ground, I'm hittin' the ground, I fell from the top\\nYou never expect to drop, so hold on, but\\nThat just the way it goes, your God don't wait for no one\\nAnd when that's all you know, it keep you on your toes\\nYou got so far to go, but look at where you came from\\n\\n[Chorus]\\nAnd all I know if life is but a dream then so are we\\nShow me something, show me something, show me something\\nAnd all I know if life is but a dream then so are we\\nShow me something, show me something, something I can see\",\n",
       "  'Mac Miller'],\n",
       " ['[Intro]\\nEverybody\\'s gotta live\\nAnd everybody\\'s gonna die\\nEverybody just wanna have a good, good time\\nI think you\\u2005know\\u2005the reason why\\nOh,\\u2005oh, oh, oh\\nOh, oh, oh, oh\\n\\n[Verse 1]\\nEverybody\\'s\\u2005gotta live\\nAnd everybody\\'s gonna die\\nEverybody\\'s gotta live\\nI think you know the reason why\\nYeah, sometimes the going gets so good, yeah\\nBut then again it get pretty rough, yeah\\nBut when I have you in my arms, baby\\nYou know I just can\\'t, I just can\\'t get enough\\n\\n[Chorus]\\nEverybody\\'s gotta live\\nAnd everybody\\'s gonna die\\nEverybody’s gonna try to have a good, good time\\nI think you know the reason why\\n\\n[Verse 2]\\nSaw a blind man standin\\' on the corner, baby, yeah\\nAnd he couldn\\'t hardly tie his shoes, yeah\\nHarmonica and guitar strapped around his neck\\nBut he sure could, he sure could play the blues\\n\\n[Chorus]\\nEverybody\\'s gotta live\\nAnd everybody\\'s gonna die\\nEverybody\\'s gonna try to have a good, good time\\nI think you know the reason why, yeah\\n\\n[Verse 3]\\nFeel like I\\'ve seen a million sunsets, yeah\\nIf you\\'re with me I\\'ll never go away\\nThat\\'s when I stopped and I took a look at my baby\\nShe said, \"If you\\'re with me, I won\\'t go away\"\\n\\n[Chorus]\\nBecause everybody\\'s gotta live\\nAnd everybody\\'s gonna die\\nEverybody\\'s gonna try to have a good, good time\\nI think you know the reason why',\n",
       "  'Mac Miller'],\n",
       " [\"[Intro]\\nYeah, yeah, yeah, yeah, yeah, yeah\\n\\n[Verse 1]\\nYeah, things like this ain't built to last\\nI might just\\u2005fade\\u2005like those before\\u2005me\\nWhen will you forget my past?\\nGot\\u2005questions, ask, you know the stories\\nAnd you need to let me know\\nWhen you're leaving, where you go\\nCan I come?\\nDo you believe me, are you close?\\nYeah, even if you don't\\nThat'll get you sprung\\n\\n[Chorus]\\nDo I, do I, do I love?\\nCan I, can I, can I get enough?\\n\\n[Verse 2]\\nYeah, don't run away, love\\nHate love, heartbreak will have you bankrupt\\nToo many days in a daze, better wake up\\nI put your face in a place where the space was\\nNobody makes you feel like you but (Do I?)\\nAnd you don't know what you should do\\nYou just lookin' for someone to make you move, ooh, tell me (Do I?)\\nI make this planet feel like home\\nIt's us versus time, the door is closing\\nSo far beyond all our control\\nYou saved a soul so close to broken\\nIt's so much better when you wait\\nForever and a day, that's all I got\\nPut it together then it break\\nAll the energy it take, it never stop\\n\\n[Chorus]\\nDo I, do I, do I love?\\nCan I, can I, can I get enough?\\n\\n[Bridge]\\nYeah, I never slip, I never fall\\nI tried to tell you 'bout a better life\\nAnd get involved big or small\\nIt's been my fault, I keep it safe, it's in the vault\\nBlindfolded, keep it going 'til we hit a wall, yeah\\nI'm never going through the motions\\nI'm just tryna lay your body down slowly\\nWe can only go up\\nWe can only go up\\n\\n[Chorus]\\nDo I, do I, do I love?\\nCan I, can I, can I get enough?\",\n",
       "  'Mac Miller'],\n",
       " [\"[Verse 1: Mac Miller]\\nI'm thinkin' maybe I should thank you\\nOh, baby, I should buy you another round\\n'Cause you\\u2005care,\\u2005and I swear\\u2005that I'm here, but I'm there\\nIt's\\u2005gettin' harder to hunt me down\\nGet away to a place with a lake, such a great view\\nLeave the bank, couple hunnid thou'\\nI made it, but I hate once I build it, I break it\\nThat might just break me down\\n\\n[Pre-Chorus: Mac Miller]\\nAnd all I ever needed was somebody with some reason who can keep me sane\\nEver since I can remember, I've been keepin' it together, but I'm feelin' strange\\nGet away when it ain't really safe and it don't seem right\\nBut what's new? You get used to the bullshit, the screws, they go missin'\\nIt's likely they might be, but...\\n\\n[Chorus: Baro Sura]\\nYou remind me\\nShit, I need to stay in line\\nYou damn well are a great design\\nYou, despite bein' an only child\\nSay you need more of a family 'round\\nLet's turn these genes into hand me downs\\n\\n[Post-Chorus: Baro Sura]\\nDown, down\\nDown, down, down\\nDown, down\\nDown, down, down\\n\\n[Verse 2: Mac Miller]\\nYeah, well, I'm just being honest, my conscience ain't doin' bad\\nBecause I try to minus the problems that I attract\\nAnd half the time, the wheels that's in the back of my mind\\nJust keep on turnin' 'til the tires flat and burn until the fire crack\\nI do not lie, though, facts may seem a little farfetched\\nThat's only 'cause I may be make-believe and full of darkness\\nWhen I'm stuck between a rock and a hard place\\nWalkin', droppin' change inside your empty guitar case\\nThat's charity, um, I move carelessly, that's why I'm always trippin'\\nI guess it's like electrolytes, you help me go the distance\\nNot too efficient, but the way it's always been\\nUntil the day we have to meet again\\n\\n[Pre-Chorus: Mac Miller]\\nGet away when it ain't really safe and it don't seem right\\nBut what's new? You get used to the bullshit, the screws, they go missin'\\nIt's likely they might be, but...\\n\\n[Chorus: Baro Sura]\\nYou remind me\\nShit, I need to stay in line\\nYou damn well are a great design\\nYou, despite bein' an only child\\nSay you need more of a family 'round\\nLet's turn these genes into hand me downs\\n\\n[Post-Chorus: Baro Sura]\\nDown, down\\nDown, down, down\\nDown, down\\nDown, down, down\",\n",
       "  'Mac Miller'],\n",
       " [\"[Chorus]\\nThat's on me, that's on me, I know\\nThat's on me, that's on me, it's all\\u2005my\\u2005fault\\nThat's on me,\\u2005that's on me, I know\\nThat's on\\u2005me, that's on me, I know\\n\\n[Verse 1]\\nTime moving slowly, I'm bouncing my head off the wall\\nI know nobody that knows where we're going at all\\nDon't, don't, don't, don't let me down\\nAnd I'll pick you up, I'll help you get around\\n\\n[Chorus]\\nThat's on me, that's on me, I know\\nThat's on me, that's on me, it's all my fault\\nThat's on me, that's on me, I know\\nThat's on me, that's on me, I know\\n\\n[Bridge]\\nI'll let it go\\nI'll cut the strings\\nToday I'm fine\\n\\n[Verse 2]\\nI don't know where I've been lately, but I've been alright\\nI said good morning this morning and I'll say good night\\nDon't, don't, don't, don't wait around\\nWe'll take the stairs that gets us into there\\nIt's unfair when I'm being too proud, but\\n\\n[Chorus]\\nThat's on me, that's on me, I know\\nThat's on me, that's on me, it's all my fault\\nThat's on me, that's on me, I know\\nThat's on me, that's on me, I know\",\n",
       "  'Mac Miller'],\n",
       " ['[Intro]\\nYeah, yeah, yeah, yeah, yeah, yeah\\nYeah, yeah, yeah, yeah, yeah, yeah\\nYeah, yeah, yeah, yeah, yeah,\\u2005yeah,\\u2005yeah, yeah, yeah\\nYeah,\\u2005yeah, yeah, yeah, yeah\\nYeah, yeah, yeah,\\u2005yeah, yeah, yeah\\nYeah, yeah, yeah, yeah, yeah, yeah\\n\\n[Chorus]\\nYeah, why don\\'t you wake up from your bad dreams?\\nWhen\\'s the last time you took a little time for yourself?\\nThere\\'s no reason to be so down\\nRather fly around like there\\'s no ground\\nAnd I, I bet you wish you hadn\\'t ate\\n\\'Cause carrying this weight\\'ll break your glass knees\\nYeah, don\\'t need no chauffeur, fuck the backseat\\nNo, I stay behind the wheel and never half-speed\\n\\n[Verse]\\nGet the fuck out of my car, this ain\\'t a taxi\\nThey love to see me lonely, hate to see me happy\\nCall me what you want, she call me \"daddy\"\\nGot a knack for gettin\\' nasty, every day we keepin\\' tally, yeah\\nOoh, it\\'s true I want it badly\\nHit the zoom, I be movin\\' like a athlete\\n(Now concentrate) No reason to be that upset\\nI\\'m busy trippin\\' \\'bout some shit that still ain\\'t even happen yet\\nI keep it honest as honesty gets\\nDon\\'t know why I\\'m always talkin\\' if I\\'m not makin\\' sense\\nI\\'ve spent my life livin\\' with a lot of regrets\\nYou throw me off my high horse, I\\'d probably fall to my death\\n(Bad behavior) It\\'s obvious you\\'re not on your best\\nI might just pull your card if it\\'s on top of the deck\\nGive me, give me what I need and then I\\'m onto the next\\nThat\\'s what we callin\\' cause and effect\\n\\n[Chorus]\\nYeah, why don\\'t you wake up from your bad dreams?\\nWhen\\'s the last time you took a little time for yourself?\\nThere\\'s no reason to be so down\\nRather fly around like there\\'s no ground\\nAnd I, I bet you wish you hadn\\'t ate\\n\\'Cause carrying this weight\\'ll break your glass knees\\nYeah, don\\'t need no chauffeur, fuck the backseat\\nNo, I stay behind the wheel and never half-speed\\n\\n[Outro]\\nYeah, yeah, yeah, yeah, yeah, yeah\\nYeah, yeah, yeah, yeah, yeah, yeah\\nYeah, yeah, yeah, yeah, yeah, yeah, yeah, yeah, yeah\\nYeah, yeah, yeah, yeah, yeah\\nYeah, yeah, yeah, yeah, yeah, yeah\\nYeah, yeah, yeah, yeah, yeah, yeah',\n",
       "  'Mac Miller'],\n",
       " [\"[Intro]\\nYeah, yeah\\nHey, hey, hey\\nHey, hey, hey\\nHey, hey, hey\\nHey, hey\\nSaid\\n\\n[Verse 1]\\nWhere are you goin'? Can I come\\u2005too?\\nThe\\u2005whole world is\\u2005open, a playground for me and\\u2005you\\nAnd we could be fine, shit, who the hell knows?\\nIt's your eyes and your ears and your mouth and your nose\\nHead and your shoulders, your knees and your toes\\nI dream of this moment\\nWill it come true?\\nThe whole world, they know it\\nThey just waitin' for me and you\\nAnd she, just like I\\nGot her head in the clouds\\nDon't need to be lower\\nBefore it's all over, I promise we'll figure it out\\nI ain't comin' down\\nWhy would I need to?\\nSo much of this world is above us, baby\\nThey might tell you that I went crazy\\nI'm just tryna read you\\nOoh, ooh, oohh\\nOoh-ooh-oohh\\n\\n[Chorus]\\nI know we try\\nAnd the days, they go by\\nUntil we get old\\nThere's water in the flowers, let's grow\\nPeople, they lie\\nBut hey, so do I\\nUntil it gets old\\nThere's water in the flowers, let's grow\\n\\n[Post-Chorus]\\nLet it go, let it be\\nWe're all we need today\\nLet it go, let it be\\nMmm, mmm, mmm, mmm\\n\\n[Verse 2]\\nYeah, well\\nSometimes I get lonely\\nNot when I'm alone\\nBut it's more when I'm standin' in crowds\\nThat I'm feelin' the most on my own\\nAnd I know that somebody knows me\\nI know somewhere there's home\\nI'm startin' to see that all I have to do is get up and go\\n\\n[Bridge]\\nGoin', goin', goin' before I'm gone\\nGotta get goin', goin', goin' before I'm gone\\n\\n[Chorus]\\nAyy, and I know we try\\nDays, they go by\\nUntil we get old\\nThere's water in the flowers, let's grow\\nPeople, they lie\\nBut hey, so do I\\nUntil it gets old\\nThere's water in the flowers, let's grow\\n\\n\",\n",
       "  'Mac Miller'],\n",
       " [\"[Verse 1]\\nOnce a day, I rise\\nOnce a day, I fall asleep with you\\nOnce a day, I try but I can't find a single word\\nI wonder what they know\\nI wonder if they ever even cared at all\\nI wonder, do they see their own reflection in the rain\\nAnd look away?\\n\\n[Chorus]\\nEverybody keep rushin'\\nWhy aren't we taking our time?\\nEvery now and again, baby, I get high\\n\\n[Verse 2]\\nDon't ask me what I think\\nIt never really mattered what I had to say\\nI just keep waiting for another open door\\nTo come up soon\\nDon't keep it all in your head\\nThe only place that you know nobody ever can see\\nYou're running low on regret\\nNo tears, that's keeping you wet\\nI think you gettin' it now\\n\\n[Chorus]\\nBut everybody keep rushin'\\nWhy aren't we taking our time?\\nEvery now and again, baby, I get high\\n\\n[Bridge]\\nAnd everybody means something\\nWhen they're stuck on your mind\\nBut every now and again, why can't we just be fine?\\n\\n[Outro]\\nOnce a day, I rise\\nOnce a day, I fall asleep with you\\nOnce a day, I try but I can't find a single word\",\n",
       "  'Mac Miller']]"
      ]
     },
     "metadata": {},
     "execution_count": 21
    }
   ],
   "metadata": {}
  },
  {
   "cell_type": "code",
   "execution_count": 22,
   "source": [
    "#creating a dataframe from the list\n",
    "df_macmiller = pd.DataFrame(list_macmiller, columns=['X', 'y'])"
   ],
   "outputs": [],
   "metadata": {}
  },
  {
   "cell_type": "markdown",
   "source": [
    "***"
   ],
   "metadata": {}
  },
  {
   "cell_type": "code",
   "execution_count": 23,
   "source": [
    "#concate both dataframes\n",
    "frames = [df_jamesblake, df_macmiller]\n",
    "df = pd.concat(frames)\n",
    "df"
   ],
   "outputs": [
    {
     "output_type": "execute_result",
     "data": {
      "text/plain": [
       "                                                    X            y\n",
       "0   [Verse 1]\\nAnd I can't believe I'm still talki...  James Blake\n",
       "1   [Intro]\\nDaytrip took it to ten (Hey)\\n\\n[Vers...  James Blake\n",
       "2   [Intro: James Blake]\\nCan't stick to that\\nCan...  James Blake\n",
       "3   [Verse 1]\\nI hold my ear to a shell\\nI hear so...  James Blake\n",
       "4   [Intro: James Blake]\\nI've been losing all of ...  James Blake\n",
       "5   [Pre-Chorus]\\nLover, is it alright, the way it...  James Blake\n",
       "6   [Intro]\\nMetro\\n\\n[Verse 1]\\nIt was built, in ...  James Blake\n",
       "7   [Chorus]\\nShow me\\nI wish you'd show me\\nShow ...  James Blake\n",
       "8   [Intro]\\nYeah, alright (Woo-hoo)\\nTwo, three\\n...  James Blake\n",
       "9   [Intro]\\nWhatever makes you\\nWhatever makes yo...  James Blake\n",
       "10  [Chorus]\\nI have haunted many photographs\\nIn ...  James Blake\n",
       "11  [Verse 1]\\nIf I'm so happy\\nHow am I losing al...  James Blake\n",
       "0   [Verse]\\nWell, this is what it look like right...   Mac Miller\n",
       "1   [Verse 1]\\nOutside is cloudy, but I like that ...   Mac Miller\n",
       "2   [Intro]\\nIt's a blue world without you\\nIt's a...   Mac Miller\n",
       "3   [Verse 1]\\nI spent the whole day in my head\\nD...   Mac Miller\n",
       "4   [Verse 1]\\nI'm so close I can taste it\\nThe ma...   Mac Miller\n",
       "5   [Intro]\\nEverybody's gotta live\\nAnd everybody...   Mac Miller\n",
       "6   [Intro]\\nYeah, yeah, yeah, yeah, yeah, yeah\\n\\...   Mac Miller\n",
       "7   [Verse 1: Mac Miller]\\nI'm thinkin' maybe I sh...   Mac Miller\n",
       "8   [Chorus]\\nThat's on me, that's on me, I know\\n...   Mac Miller\n",
       "9   [Intro]\\nYeah, yeah, yeah, yeah, yeah, yeah\\nY...   Mac Miller\n",
       "10  [Intro]\\nYeah, yeah\\nHey, hey, hey\\nHey, hey, ...   Mac Miller\n",
       "11  [Verse 1]\\nOnce a day, I rise\\nOnce a day, I f...   Mac Miller"
      ],
      "text/html": [
       "<div>\n",
       "<style scoped>\n",
       "    .dataframe tbody tr th:only-of-type {\n",
       "        vertical-align: middle;\n",
       "    }\n",
       "\n",
       "    .dataframe tbody tr th {\n",
       "        vertical-align: top;\n",
       "    }\n",
       "\n",
       "    .dataframe thead th {\n",
       "        text-align: right;\n",
       "    }\n",
       "</style>\n",
       "<table border=\"1\" class=\"dataframe\">\n",
       "  <thead>\n",
       "    <tr style=\"text-align: right;\">\n",
       "      <th></th>\n",
       "      <th>X</th>\n",
       "      <th>y</th>\n",
       "    </tr>\n",
       "  </thead>\n",
       "  <tbody>\n",
       "    <tr>\n",
       "      <th>0</th>\n",
       "      <td>[Verse 1]\\nAnd I can't believe I'm still talki...</td>\n",
       "      <td>James Blake</td>\n",
       "    </tr>\n",
       "    <tr>\n",
       "      <th>1</th>\n",
       "      <td>[Intro]\\nDaytrip took it to ten (Hey)\\n\\n[Vers...</td>\n",
       "      <td>James Blake</td>\n",
       "    </tr>\n",
       "    <tr>\n",
       "      <th>2</th>\n",
       "      <td>[Intro: James Blake]\\nCan't stick to that\\nCan...</td>\n",
       "      <td>James Blake</td>\n",
       "    </tr>\n",
       "    <tr>\n",
       "      <th>3</th>\n",
       "      <td>[Verse 1]\\nI hold my ear to a shell\\nI hear so...</td>\n",
       "      <td>James Blake</td>\n",
       "    </tr>\n",
       "    <tr>\n",
       "      <th>4</th>\n",
       "      <td>[Intro: James Blake]\\nI've been losing all of ...</td>\n",
       "      <td>James Blake</td>\n",
       "    </tr>\n",
       "    <tr>\n",
       "      <th>5</th>\n",
       "      <td>[Pre-Chorus]\\nLover, is it alright, the way it...</td>\n",
       "      <td>James Blake</td>\n",
       "    </tr>\n",
       "    <tr>\n",
       "      <th>6</th>\n",
       "      <td>[Intro]\\nMetro\\n\\n[Verse 1]\\nIt was built, in ...</td>\n",
       "      <td>James Blake</td>\n",
       "    </tr>\n",
       "    <tr>\n",
       "      <th>7</th>\n",
       "      <td>[Chorus]\\nShow me\\nI wish you'd show me\\nShow ...</td>\n",
       "      <td>James Blake</td>\n",
       "    </tr>\n",
       "    <tr>\n",
       "      <th>8</th>\n",
       "      <td>[Intro]\\nYeah, alright (Woo-hoo)\\nTwo, three\\n...</td>\n",
       "      <td>James Blake</td>\n",
       "    </tr>\n",
       "    <tr>\n",
       "      <th>9</th>\n",
       "      <td>[Intro]\\nWhatever makes you\\nWhatever makes yo...</td>\n",
       "      <td>James Blake</td>\n",
       "    </tr>\n",
       "    <tr>\n",
       "      <th>10</th>\n",
       "      <td>[Chorus]\\nI have haunted many photographs\\nIn ...</td>\n",
       "      <td>James Blake</td>\n",
       "    </tr>\n",
       "    <tr>\n",
       "      <th>11</th>\n",
       "      <td>[Verse 1]\\nIf I'm so happy\\nHow am I losing al...</td>\n",
       "      <td>James Blake</td>\n",
       "    </tr>\n",
       "    <tr>\n",
       "      <th>0</th>\n",
       "      <td>[Verse]\\nWell, this is what it look like right...</td>\n",
       "      <td>Mac Miller</td>\n",
       "    </tr>\n",
       "    <tr>\n",
       "      <th>1</th>\n",
       "      <td>[Verse 1]\\nOutside is cloudy, but I like that ...</td>\n",
       "      <td>Mac Miller</td>\n",
       "    </tr>\n",
       "    <tr>\n",
       "      <th>2</th>\n",
       "      <td>[Intro]\\nIt's a blue world without you\\nIt's a...</td>\n",
       "      <td>Mac Miller</td>\n",
       "    </tr>\n",
       "    <tr>\n",
       "      <th>3</th>\n",
       "      <td>[Verse 1]\\nI spent the whole day in my head\\nD...</td>\n",
       "      <td>Mac Miller</td>\n",
       "    </tr>\n",
       "    <tr>\n",
       "      <th>4</th>\n",
       "      <td>[Verse 1]\\nI'm so close I can taste it\\nThe ma...</td>\n",
       "      <td>Mac Miller</td>\n",
       "    </tr>\n",
       "    <tr>\n",
       "      <th>5</th>\n",
       "      <td>[Intro]\\nEverybody's gotta live\\nAnd everybody...</td>\n",
       "      <td>Mac Miller</td>\n",
       "    </tr>\n",
       "    <tr>\n",
       "      <th>6</th>\n",
       "      <td>[Intro]\\nYeah, yeah, yeah, yeah, yeah, yeah\\n\\...</td>\n",
       "      <td>Mac Miller</td>\n",
       "    </tr>\n",
       "    <tr>\n",
       "      <th>7</th>\n",
       "      <td>[Verse 1: Mac Miller]\\nI'm thinkin' maybe I sh...</td>\n",
       "      <td>Mac Miller</td>\n",
       "    </tr>\n",
       "    <tr>\n",
       "      <th>8</th>\n",
       "      <td>[Chorus]\\nThat's on me, that's on me, I know\\n...</td>\n",
       "      <td>Mac Miller</td>\n",
       "    </tr>\n",
       "    <tr>\n",
       "      <th>9</th>\n",
       "      <td>[Intro]\\nYeah, yeah, yeah, yeah, yeah, yeah\\nY...</td>\n",
       "      <td>Mac Miller</td>\n",
       "    </tr>\n",
       "    <tr>\n",
       "      <th>10</th>\n",
       "      <td>[Intro]\\nYeah, yeah\\nHey, hey, hey\\nHey, hey, ...</td>\n",
       "      <td>Mac Miller</td>\n",
       "    </tr>\n",
       "    <tr>\n",
       "      <th>11</th>\n",
       "      <td>[Verse 1]\\nOnce a day, I rise\\nOnce a day, I f...</td>\n",
       "      <td>Mac Miller</td>\n",
       "    </tr>\n",
       "  </tbody>\n",
       "</table>\n",
       "</div>"
      ]
     },
     "metadata": {},
     "execution_count": 23
    }
   ],
   "metadata": {}
  },
  {
   "cell_type": "markdown",
   "source": [
    "***"
   ],
   "metadata": {}
  },
  {
   "cell_type": "markdown",
   "source": [
    "## IV. Feature Engineering"
   ],
   "metadata": {}
  },
  {
   "cell_type": "markdown",
   "source": [
    "*Cleaning the dataframe*"
   ],
   "metadata": {}
  },
  {
   "cell_type": "code",
   "execution_count": 24,
   "source": [
    "#cleaning the dataframe\n",
    "df['X'] = df['X'].str.replace('\\n',' ', regex = True) #removes all newlines \n",
    "df['X'] = df['X'].str.replace(',',' ', regex = True) #removes all commas\n",
    "df['X'] = df['X'].str.replace(r\"\\(.*\\)\",\" \") #removes brackets and everything that is inside of it\n",
    "df['X'] = df['X'].str.replace(r\"\\[.*\\]\",\" \") #removes squared brackets and everything that is inside of it\n",
    "df['X'] = df['X'].str.lower() #lowers all words in X\n",
    "df['y'] = df['y'].str.lower() #lowers all words in y\n",
    "df['y'] = df['y'].str.replace(' ','', regex = True) #removes the whitespace in y\n",
    "df.reset_index(drop=True, inplace=True) #reseting the index"
   ],
   "outputs": [
    {
     "output_type": "stream",
     "name": "stderr",
     "text": [
      "/var/folders/n_/f0kktvdx00s93tvvh3xlcch40000gn/T/ipykernel_4103/2621719809.py:4: FutureWarning: The default value of regex will change from True to False in a future version.\n",
      "  df['X'] = df['X'].str.replace(r\"\\(.*\\)\",\" \") #removes brackets and everything that is inside of it\n",
      "/var/folders/n_/f0kktvdx00s93tvvh3xlcch40000gn/T/ipykernel_4103/2621719809.py:5: FutureWarning: The default value of regex will change from True to False in a future version.\n",
      "  df['X'] = df['X'].str.replace(r\"\\[.*\\]\",\" \") #removes squared brackets and everything that is inside of it\n"
     ]
    }
   ],
   "metadata": {}
  },
  {
   "cell_type": "markdown",
   "source": [
    "***"
   ],
   "metadata": {}
  },
  {
   "cell_type": "markdown",
   "source": [
    "*Tokenization*"
   ],
   "metadata": {}
  },
  {
   "cell_type": "code",
   "execution_count": 25,
   "source": [
    "#instantiate TreebankWordTokenizer\n",
    "nltk = TreebankWordTokenizer() "
   ],
   "outputs": [],
   "metadata": {
    "scrolled": true
   }
  },
  {
   "cell_type": "code",
   "execution_count": 26,
   "source": [
    "#transform X into tokens / James Blake\n",
    "df['X'] = df['X'].apply(nltk.tokenize)\n",
    "df"
   ],
   "outputs": [
    {
     "output_type": "execute_result",
     "data": {
      "text/plain": [
       "                                                    X           y\n",
       "0   [ooh, you, 're, the, last, ooh, you, 're, the,...  jamesblake\n",
       "1   [life, is, not, the, same, if, we, 're, miles,...  jamesblake\n",
       "2   [so, i, 'm, coming, back, coming, back, tail, ...  jamesblake\n",
       "3   [and, i, know, this, feeling, too, well, of, b...  jamesblake\n",
       "4   [yes, i, wo, n't, lie, just, come, closer, you...  jamesblake\n",
       "5   [i, 'm, so, blessed, you, 're, mine, i, 'm, so...  jamesblake\n",
       "6   [and, it, 's, okay, i, know, i, 'll, be, repla...  jamesblake\n",
       "7    [show, me, i, wish, you, 'd, show, me, show, me]  jamesblake\n",
       "8                                     [yeah, alright]  jamesblake\n",
       "9   [i, fell, right, in, i, fell, right, in, with,...  jamesblake\n",
       "10  [in, the, end, it, was, friends, in, the, in, ...  jamesblake\n",
       "11  [and, if, i, 'm, insecure, how, have, i, been,...  jamesblake\n",
       "12  [well, this, is, what, it, look, like, right, ...   macmiller\n",
       "13  [outside, is, cloudy, but, i, like, that, bett...   macmiller\n",
       "14  [hey, one, of, these, days, we, 'll, all, get,...   macmiller\n",
       "15  [no, more, no, more, no, more, no, more, no, m...   macmiller\n",
       "16  [and, all, i, know, if, life, is, but, a, drea...   macmiller\n",
       "17  [because, everybody, 's, got, ta, live, and, e...   macmiller\n",
       "18  [do, i, do, i, do, i, love, ?, can, i, can, i,...   macmiller\n",
       "19  [down, down, down, down, down, down, down, dow...   macmiller\n",
       "20  [that, 's, on, me, that, 's, on, me, i, know, ...   macmiller\n",
       "21  [yeah, yeah, yeah, yeah, yeah, yeah, yeah, yea...   macmiller\n",
       "22  [ayy, and, i, know, we, try, days, they, go, b...   macmiller\n",
       "23  [once, a, day, i, rise, once, a, day, i, fall,...   macmiller"
      ],
      "text/html": [
       "<div>\n",
       "<style scoped>\n",
       "    .dataframe tbody tr th:only-of-type {\n",
       "        vertical-align: middle;\n",
       "    }\n",
       "\n",
       "    .dataframe tbody tr th {\n",
       "        vertical-align: top;\n",
       "    }\n",
       "\n",
       "    .dataframe thead th {\n",
       "        text-align: right;\n",
       "    }\n",
       "</style>\n",
       "<table border=\"1\" class=\"dataframe\">\n",
       "  <thead>\n",
       "    <tr style=\"text-align: right;\">\n",
       "      <th></th>\n",
       "      <th>X</th>\n",
       "      <th>y</th>\n",
       "    </tr>\n",
       "  </thead>\n",
       "  <tbody>\n",
       "    <tr>\n",
       "      <th>0</th>\n",
       "      <td>[ooh, you, 're, the, last, ooh, you, 're, the,...</td>\n",
       "      <td>jamesblake</td>\n",
       "    </tr>\n",
       "    <tr>\n",
       "      <th>1</th>\n",
       "      <td>[life, is, not, the, same, if, we, 're, miles,...</td>\n",
       "      <td>jamesblake</td>\n",
       "    </tr>\n",
       "    <tr>\n",
       "      <th>2</th>\n",
       "      <td>[so, i, 'm, coming, back, coming, back, tail, ...</td>\n",
       "      <td>jamesblake</td>\n",
       "    </tr>\n",
       "    <tr>\n",
       "      <th>3</th>\n",
       "      <td>[and, i, know, this, feeling, too, well, of, b...</td>\n",
       "      <td>jamesblake</td>\n",
       "    </tr>\n",
       "    <tr>\n",
       "      <th>4</th>\n",
       "      <td>[yes, i, wo, n't, lie, just, come, closer, you...</td>\n",
       "      <td>jamesblake</td>\n",
       "    </tr>\n",
       "    <tr>\n",
       "      <th>5</th>\n",
       "      <td>[i, 'm, so, blessed, you, 're, mine, i, 'm, so...</td>\n",
       "      <td>jamesblake</td>\n",
       "    </tr>\n",
       "    <tr>\n",
       "      <th>6</th>\n",
       "      <td>[and, it, 's, okay, i, know, i, 'll, be, repla...</td>\n",
       "      <td>jamesblake</td>\n",
       "    </tr>\n",
       "    <tr>\n",
       "      <th>7</th>\n",
       "      <td>[show, me, i, wish, you, 'd, show, me, show, me]</td>\n",
       "      <td>jamesblake</td>\n",
       "    </tr>\n",
       "    <tr>\n",
       "      <th>8</th>\n",
       "      <td>[yeah, alright]</td>\n",
       "      <td>jamesblake</td>\n",
       "    </tr>\n",
       "    <tr>\n",
       "      <th>9</th>\n",
       "      <td>[i, fell, right, in, i, fell, right, in, with,...</td>\n",
       "      <td>jamesblake</td>\n",
       "    </tr>\n",
       "    <tr>\n",
       "      <th>10</th>\n",
       "      <td>[in, the, end, it, was, friends, in, the, in, ...</td>\n",
       "      <td>jamesblake</td>\n",
       "    </tr>\n",
       "    <tr>\n",
       "      <th>11</th>\n",
       "      <td>[and, if, i, 'm, insecure, how, have, i, been,...</td>\n",
       "      <td>jamesblake</td>\n",
       "    </tr>\n",
       "    <tr>\n",
       "      <th>12</th>\n",
       "      <td>[well, this, is, what, it, look, like, right, ...</td>\n",
       "      <td>macmiller</td>\n",
       "    </tr>\n",
       "    <tr>\n",
       "      <th>13</th>\n",
       "      <td>[outside, is, cloudy, but, i, like, that, bett...</td>\n",
       "      <td>macmiller</td>\n",
       "    </tr>\n",
       "    <tr>\n",
       "      <th>14</th>\n",
       "      <td>[hey, one, of, these, days, we, 'll, all, get,...</td>\n",
       "      <td>macmiller</td>\n",
       "    </tr>\n",
       "    <tr>\n",
       "      <th>15</th>\n",
       "      <td>[no, more, no, more, no, more, no, more, no, m...</td>\n",
       "      <td>macmiller</td>\n",
       "    </tr>\n",
       "    <tr>\n",
       "      <th>16</th>\n",
       "      <td>[and, all, i, know, if, life, is, but, a, drea...</td>\n",
       "      <td>macmiller</td>\n",
       "    </tr>\n",
       "    <tr>\n",
       "      <th>17</th>\n",
       "      <td>[because, everybody, 's, got, ta, live, and, e...</td>\n",
       "      <td>macmiller</td>\n",
       "    </tr>\n",
       "    <tr>\n",
       "      <th>18</th>\n",
       "      <td>[do, i, do, i, do, i, love, ?, can, i, can, i,...</td>\n",
       "      <td>macmiller</td>\n",
       "    </tr>\n",
       "    <tr>\n",
       "      <th>19</th>\n",
       "      <td>[down, down, down, down, down, down, down, dow...</td>\n",
       "      <td>macmiller</td>\n",
       "    </tr>\n",
       "    <tr>\n",
       "      <th>20</th>\n",
       "      <td>[that, 's, on, me, that, 's, on, me, i, know, ...</td>\n",
       "      <td>macmiller</td>\n",
       "    </tr>\n",
       "    <tr>\n",
       "      <th>21</th>\n",
       "      <td>[yeah, yeah, yeah, yeah, yeah, yeah, yeah, yea...</td>\n",
       "      <td>macmiller</td>\n",
       "    </tr>\n",
       "    <tr>\n",
       "      <th>22</th>\n",
       "      <td>[ayy, and, i, know, we, try, days, they, go, b...</td>\n",
       "      <td>macmiller</td>\n",
       "    </tr>\n",
       "    <tr>\n",
       "      <th>23</th>\n",
       "      <td>[once, a, day, i, rise, once, a, day, i, fall,...</td>\n",
       "      <td>macmiller</td>\n",
       "    </tr>\n",
       "  </tbody>\n",
       "</table>\n",
       "</div>"
      ]
     },
     "metadata": {},
     "execution_count": 26
    }
   ],
   "metadata": {}
  },
  {
   "cell_type": "markdown",
   "source": [
    "***"
   ],
   "metadata": {}
  },
  {
   "cell_type": "markdown",
   "source": [
    "*Lemmatization*"
   ],
   "metadata": {}
  },
  {
   "cell_type": "code",
   "execution_count": 27,
   "source": [
    "#import wordnet\n",
    "nltk.download(\"wordnet\")"
   ],
   "outputs": [
    {
     "output_type": "error",
     "ename": "AttributeError",
     "evalue": "'TreebankWordTokenizer' object has no attribute 'download'",
     "traceback": [
      "\u001b[0;31m---------------------------------------------------------------------------\u001b[0m",
      "\u001b[0;31mAttributeError\u001b[0m                            Traceback (most recent call last)",
      "\u001b[0;32m/var/folders/n_/f0kktvdx00s93tvvh3xlcch40000gn/T/ipykernel_4103/2261144762.py\u001b[0m in \u001b[0;36m<module>\u001b[0;34m\u001b[0m\n\u001b[1;32m      1\u001b[0m \u001b[0;31m#import wordnet\u001b[0m\u001b[0;34m\u001b[0m\u001b[0;34m\u001b[0m\u001b[0;34m\u001b[0m\u001b[0m\n\u001b[0;32m----> 2\u001b[0;31m \u001b[0mnltk\u001b[0m\u001b[0;34m.\u001b[0m\u001b[0mdownload\u001b[0m\u001b[0;34m(\u001b[0m\u001b[0;34m\"wordnet\"\u001b[0m\u001b[0;34m)\u001b[0m\u001b[0;34m\u001b[0m\u001b[0;34m\u001b[0m\u001b[0m\n\u001b[0m",
      "\u001b[0;31mAttributeError\u001b[0m: 'TreebankWordTokenizer' object has no attribute 'download'"
     ]
    }
   ],
   "metadata": {}
  },
  {
   "cell_type": "code",
   "execution_count": null,
   "source": [
    "#define function for lemmatization\n",
    "def lemmatize_text(text):\n",
    "    lemmatizer = WordNetLemmatizer()\n",
    "    return \" \".join(lemmatizer.lemmatize(token) for token in text)"
   ],
   "outputs": [],
   "metadata": {}
  },
  {
   "cell_type": "code",
   "execution_count": null,
   "source": [
    "#lematize all colomns of every df_artist\n",
    "df['X'] = df['X'].apply(lemmatize_text)\n",
    "df"
   ],
   "outputs": [
    {
     "output_type": "execute_result",
     "data": {
      "text/plain": [
       "                                                    X           y\n",
       "0   ooh you 're the last ooh you 're the last of m...  jamesblake\n",
       "1   life is not the same if we 're mile away i wa ...  jamesblake\n",
       "2   so i 'm coming back coming back tail between m...  jamesblake\n",
       "3   and i know this feeling too well of being aliv...  jamesblake\n",
       "4   yes i wo n't lie just come closer you 'd think...  jamesblake\n",
       "5   i 'm so blessed you 're mine i 'm so blessed y...  jamesblake\n",
       "6   and it 's okay i know i 'll be replaced a bitt...  jamesblake\n",
       "7               show me i wish you 'd show me show me  jamesblake\n",
       "8                                        yeah alright  jamesblake\n",
       "9   i fell right in i fell right in with you i fel...  jamesblake\n",
       "10  in the end it wa friend in the in the end in t...  jamesblake\n",
       "11  and if i 'm insecure how have i been so sure t...  jamesblake\n",
       "12  well this is what it look like right before yo...   macmiller\n",
       "13  outside is cloudy but i like that better well ...   macmiller\n",
       "14  hey one of these day we 'll all get by do n't ...   macmiller\n",
       "15  no more no more no more no more no more no mor...   macmiller\n",
       "16  and all i know if life is but a dream then so ...   macmiller\n",
       "17  because everybody 's got ta live and everybody...   macmiller\n",
       "18  do i do i do i love ? can i can i can i get en...   macmiller\n",
       "19  down down down down down down down down down down   macmiller\n",
       "20  that 's on me that 's on me i know that 's on ...   macmiller\n",
       "21  yeah yeah yeah yeah yeah yeah yeah yeah yeah y...   macmiller\n",
       "22  ayy and i know we try day they go by until we ...   macmiller\n",
       "23  once a day i rise once a day i fall asleep wit...   macmiller"
      ],
      "text/html": [
       "<div>\n",
       "<style scoped>\n",
       "    .dataframe tbody tr th:only-of-type {\n",
       "        vertical-align: middle;\n",
       "    }\n",
       "\n",
       "    .dataframe tbody tr th {\n",
       "        vertical-align: top;\n",
       "    }\n",
       "\n",
       "    .dataframe thead th {\n",
       "        text-align: right;\n",
       "    }\n",
       "</style>\n",
       "<table border=\"1\" class=\"dataframe\">\n",
       "  <thead>\n",
       "    <tr style=\"text-align: right;\">\n",
       "      <th></th>\n",
       "      <th>X</th>\n",
       "      <th>y</th>\n",
       "    </tr>\n",
       "  </thead>\n",
       "  <tbody>\n",
       "    <tr>\n",
       "      <th>0</th>\n",
       "      <td>ooh you 're the last ooh you 're the last of m...</td>\n",
       "      <td>jamesblake</td>\n",
       "    </tr>\n",
       "    <tr>\n",
       "      <th>1</th>\n",
       "      <td>life is not the same if we 're mile away i wa ...</td>\n",
       "      <td>jamesblake</td>\n",
       "    </tr>\n",
       "    <tr>\n",
       "      <th>2</th>\n",
       "      <td>so i 'm coming back coming back tail between m...</td>\n",
       "      <td>jamesblake</td>\n",
       "    </tr>\n",
       "    <tr>\n",
       "      <th>3</th>\n",
       "      <td>and i know this feeling too well of being aliv...</td>\n",
       "      <td>jamesblake</td>\n",
       "    </tr>\n",
       "    <tr>\n",
       "      <th>4</th>\n",
       "      <td>yes i wo n't lie just come closer you 'd think...</td>\n",
       "      <td>jamesblake</td>\n",
       "    </tr>\n",
       "    <tr>\n",
       "      <th>5</th>\n",
       "      <td>i 'm so blessed you 're mine i 'm so blessed y...</td>\n",
       "      <td>jamesblake</td>\n",
       "    </tr>\n",
       "    <tr>\n",
       "      <th>6</th>\n",
       "      <td>and it 's okay i know i 'll be replaced a bitt...</td>\n",
       "      <td>jamesblake</td>\n",
       "    </tr>\n",
       "    <tr>\n",
       "      <th>7</th>\n",
       "      <td>show me i wish you 'd show me show me</td>\n",
       "      <td>jamesblake</td>\n",
       "    </tr>\n",
       "    <tr>\n",
       "      <th>8</th>\n",
       "      <td>yeah alright</td>\n",
       "      <td>jamesblake</td>\n",
       "    </tr>\n",
       "    <tr>\n",
       "      <th>9</th>\n",
       "      <td>i fell right in i fell right in with you i fel...</td>\n",
       "      <td>jamesblake</td>\n",
       "    </tr>\n",
       "    <tr>\n",
       "      <th>10</th>\n",
       "      <td>in the end it wa friend in the in the end in t...</td>\n",
       "      <td>jamesblake</td>\n",
       "    </tr>\n",
       "    <tr>\n",
       "      <th>11</th>\n",
       "      <td>and if i 'm insecure how have i been so sure t...</td>\n",
       "      <td>jamesblake</td>\n",
       "    </tr>\n",
       "    <tr>\n",
       "      <th>12</th>\n",
       "      <td>well this is what it look like right before yo...</td>\n",
       "      <td>macmiller</td>\n",
       "    </tr>\n",
       "    <tr>\n",
       "      <th>13</th>\n",
       "      <td>outside is cloudy but i like that better well ...</td>\n",
       "      <td>macmiller</td>\n",
       "    </tr>\n",
       "    <tr>\n",
       "      <th>14</th>\n",
       "      <td>hey one of these day we 'll all get by do n't ...</td>\n",
       "      <td>macmiller</td>\n",
       "    </tr>\n",
       "    <tr>\n",
       "      <th>15</th>\n",
       "      <td>no more no more no more no more no more no mor...</td>\n",
       "      <td>macmiller</td>\n",
       "    </tr>\n",
       "    <tr>\n",
       "      <th>16</th>\n",
       "      <td>and all i know if life is but a dream then so ...</td>\n",
       "      <td>macmiller</td>\n",
       "    </tr>\n",
       "    <tr>\n",
       "      <th>17</th>\n",
       "      <td>because everybody 's got ta live and everybody...</td>\n",
       "      <td>macmiller</td>\n",
       "    </tr>\n",
       "    <tr>\n",
       "      <th>18</th>\n",
       "      <td>do i do i do i love ? can i can i can i get en...</td>\n",
       "      <td>macmiller</td>\n",
       "    </tr>\n",
       "    <tr>\n",
       "      <th>19</th>\n",
       "      <td>down down down down down down down down down down</td>\n",
       "      <td>macmiller</td>\n",
       "    </tr>\n",
       "    <tr>\n",
       "      <th>20</th>\n",
       "      <td>that 's on me that 's on me i know that 's on ...</td>\n",
       "      <td>macmiller</td>\n",
       "    </tr>\n",
       "    <tr>\n",
       "      <th>21</th>\n",
       "      <td>yeah yeah yeah yeah yeah yeah yeah yeah yeah y...</td>\n",
       "      <td>macmiller</td>\n",
       "    </tr>\n",
       "    <tr>\n",
       "      <th>22</th>\n",
       "      <td>ayy and i know we try day they go by until we ...</td>\n",
       "      <td>macmiller</td>\n",
       "    </tr>\n",
       "    <tr>\n",
       "      <th>23</th>\n",
       "      <td>once a day i rise once a day i fall asleep wit...</td>\n",
       "      <td>macmiller</td>\n",
       "    </tr>\n",
       "  </tbody>\n",
       "</table>\n",
       "</div>"
      ]
     },
     "metadata": {},
     "execution_count": 212
    }
   ],
   "metadata": {}
  },
  {
   "cell_type": "code",
   "execution_count": null,
   "source": [
    "#transform the dataframe series into lists\n",
    "X = df['X'].to_list()\n",
    "y = df['y'].to_list()"
   ],
   "outputs": [],
   "metadata": {}
  },
  {
   "cell_type": "markdown",
   "source": [
    "***"
   ],
   "metadata": {}
  },
  {
   "cell_type": "markdown",
   "source": [
    "*TfidfVectorizer*"
   ],
   "metadata": {}
  },
  {
   "cell_type": "code",
   "execution_count": null,
   "source": [
    "#defining stopwords\n",
    "stopwords = stopwords.words('english')"
   ],
   "outputs": [],
   "metadata": {
    "scrolled": true
   }
  },
  {
   "cell_type": "code",
   "execution_count": null,
   "source": [
    "#instanciate TfidVectorizer\n",
    "vectorizer = TfidfVectorizer(stop_words=stopwords)"
   ],
   "outputs": [],
   "metadata": {}
  },
  {
   "cell_type": "code",
   "execution_count": null,
   "source": [
    "#fit & transform X_artist \n",
    "X = vectorizer.fit_transform(X)\n",
    "print(X)"
   ],
   "outputs": [
    {
     "output_type": "stream",
     "name": "stdout",
     "text": [
      "  (0, 86)\t0.23953433345091837\n",
      "  (0, 16)\t0.23953433345091837\n",
      "  (0, 20)\t0.23953433345091837\n",
      "  (0, 135)\t0.21198745613661243\n",
      "  (0, 100)\t0.19244263564063913\n",
      "  (0, 79)\t0.47906866690183675\n",
      "  (0, 102)\t0.7186030003527552\n",
      "  (1, 126)\t0.20571245036388539\n",
      "  (1, 72)\t0.20571245036388539\n",
      "  (1, 148)\t0.18205515017413892\n",
      "  (1, 41)\t0.41142490072777077\n",
      "  (1, 21)\t0.41142490072777077\n",
      "  (1, 143)\t0.36411030034827785\n",
      "  (1, 5)\t0.41142490072777077\n",
      "  (1, 91)\t0.36411030034827785\n",
      "  (1, 84)\t0.33054005713324586\n",
      "  (2, 75)\t0.0804487770716657\n",
      "  (2, 74)\t0.0804487770716657\n",
      "  (2, 7)\t0.0804487770716657\n",
      "  (2, 62)\t0.0804487770716657\n",
      "  (2, 146)\t0.0804487770716657\n",
      "  (2, 43)\t0.1608975541433314\n",
      "  (2, 17)\t0.0804487770716657\n",
      "  (2, 78)\t0.04881682315102512\n",
      "  (2, 48)\t0.0804487770716657\n",
      "  :\t:\n",
      "  (20, 78)\t0.8764659297695732\n",
      "  (21, 157)\t1.0\n",
      "  (22, 104)\t0.19267504085561504\n",
      "  (22, 67)\t0.3853500817112301\n",
      "  (22, 82)\t0.3853500817112301\n",
      "  (22, 53)\t0.3853500817112301\n",
      "  (22, 147)\t0.3853500817112301\n",
      "  (22, 6)\t0.19267504085561504\n",
      "  (22, 142)\t0.15479573282975742\n",
      "  (22, 58)\t0.30959146565951484\n",
      "  (22, 73)\t0.15479573282975742\n",
      "  (22, 61)\t0.1705170661072224\n",
      "  (22, 31)\t0.1426013193613415\n",
      "  (22, 83)\t0.1705170661072224\n",
      "  (22, 78)\t0.11691642480389978\n",
      "  (22, 100)\t0.30959146565951484\n",
      "  (23, 155)\t0.29126849206333194\n",
      "  (23, 120)\t0.29126849206333194\n",
      "  (23, 4)\t0.29126849206333194\n",
      "  (23, 113)\t0.29126849206333194\n",
      "  (23, 142)\t0.23400602111691673\n",
      "  (23, 51)\t0.2577720938610443\n",
      "  (23, 31)\t0.6467148688097831\n",
      "  (23, 18)\t0.2577720938610443\n",
      "  (23, 44)\t0.23400602111691673\n"
     ]
    }
   ],
   "metadata": {}
  },
  {
   "cell_type": "markdown",
   "source": [
    "***"
   ],
   "metadata": {}
  },
  {
   "cell_type": "markdown",
   "source": [
    "## V. Splitting the data in train, validation and test data"
   ],
   "metadata": {}
  },
  {
   "cell_type": "markdown",
   "source": [
    "*Splitting the data*"
   ],
   "metadata": {}
  },
  {
   "cell_type": "code",
   "execution_count": null,
   "source": [
    "#splitting the data \n",
    "X_train, X_test, y_train, y_test = train_test_split(X, y, test_size=0.20, random_state = 25)\n",
    "X_train, X_val, y_train, y_val = train_test_split(X_train, y_train, test_size=0.25, random_state= 25) # 0.25 x 0.8 = 0.2"
   ],
   "outputs": [],
   "metadata": {}
  },
  {
   "cell_type": "code",
   "execution_count": null,
   "source": [
    "X_train.shape"
   ],
   "outputs": [
    {
     "output_type": "execute_result",
     "data": {
      "text/plain": [
       "(14, 161)"
      ]
     },
     "metadata": {},
     "execution_count": 218
    }
   ],
   "metadata": {}
  },
  {
   "cell_type": "code",
   "execution_count": null,
   "source": [
    "#checking if the splitting worked\n",
    "y_train"
   ],
   "outputs": [
    {
     "output_type": "execute_result",
     "data": {
      "text/plain": [
       "['macmiller',\n",
       " 'macmiller',\n",
       " 'jamesblake',\n",
       " 'macmiller',\n",
       " 'jamesblake',\n",
       " 'jamesblake',\n",
       " 'jamesblake',\n",
       " 'macmiller',\n",
       " 'macmiller',\n",
       " 'macmiller',\n",
       " 'jamesblake',\n",
       " 'jamesblake',\n",
       " 'macmiller',\n",
       " 'jamesblake']"
      ]
     },
     "metadata": {},
     "execution_count": 219
    }
   ],
   "metadata": {}
  },
  {
   "cell_type": "markdown",
   "source": [
    "***"
   ],
   "metadata": {}
  },
  {
   "cell_type": "markdown",
   "source": [
    "## VI. Classification Model "
   ],
   "metadata": {}
  },
  {
   "cell_type": "markdown",
   "source": [
    "*Applying a Naive Bayes model*"
   ],
   "metadata": {}
  },
  {
   "cell_type": "code",
   "execution_count": null,
   "source": [
    "#applying \n",
    "m = MultinomialNB() "
   ],
   "outputs": [],
   "metadata": {}
  },
  {
   "cell_type": "code",
   "execution_count": null,
   "source": [
    "#train the model \n",
    "m.fit(X_train, y_train)"
   ],
   "outputs": [
    {
     "output_type": "execute_result",
     "data": {
      "text/plain": [
       "MultinomialNB()"
      ]
     },
     "metadata": {},
     "execution_count": 221
    }
   ],
   "metadata": {}
  },
  {
   "cell_type": "code",
   "execution_count": null,
   "source": [
    "#test the model score\n",
    "m.score(X_train, y_train)"
   ],
   "outputs": [
    {
     "output_type": "execute_result",
     "data": {
      "text/plain": [
       "0.9285714285714286"
      ]
     },
     "metadata": {},
     "execution_count": 222
    }
   ],
   "metadata": {}
  },
  {
   "cell_type": "code",
   "execution_count": null,
   "source": [
    "#test the model score\n",
    "m.score(X_val, y_val)"
   ],
   "outputs": [
    {
     "output_type": "execute_result",
     "data": {
      "text/plain": [
       "0.6"
      ]
     },
     "metadata": {},
     "execution_count": 223
    }
   ],
   "metadata": {}
  },
  {
   "cell_type": "code",
   "execution_count": null,
   "source": [
    "y_pred = m.predict(X_val)"
   ],
   "outputs": [],
   "metadata": {
    "scrolled": false
   }
  },
  {
   "cell_type": "markdown",
   "source": [
    "***"
   ],
   "metadata": {}
  },
  {
   "cell_type": "markdown",
   "source": [
    "*Metrics scores*"
   ],
   "metadata": {}
  },
  {
   "cell_type": "code",
   "execution_count": null,
   "source": [
    "#accuracy\n",
    "round(metrics.accuracy_score(y_val, y_pred),2)"
   ],
   "outputs": [
    {
     "output_type": "execute_result",
     "data": {
      "text/plain": [
       "0.6"
      ]
     },
     "metadata": {},
     "execution_count": 225
    }
   ],
   "metadata": {}
  },
  {
   "cell_type": "code",
   "execution_count": null,
   "source": [
    "#precision\n",
    "round(metrics.precision_score(y_val, y_pred, pos_label='macmiller'), 2)"
   ],
   "outputs": [
    {
     "output_type": "execute_result",
     "data": {
      "text/plain": [
       "0.67"
      ]
     },
     "metadata": {},
     "execution_count": 226
    }
   ],
   "metadata": {}
  },
  {
   "cell_type": "code",
   "execution_count": null,
   "source": [
    "#recall\n",
    "round(metrics.recall_score(y_val, y_pred,pos_label='macmiller'), 2)"
   ],
   "outputs": [
    {
     "output_type": "execute_result",
     "data": {
      "text/plain": [
       "0.67"
      ]
     },
     "metadata": {},
     "execution_count": 227
    }
   ],
   "metadata": {}
  },
  {
   "cell_type": "code",
   "execution_count": null,
   "source": [
    "#f1\n",
    "round(metrics.f1_score(y_val, y_pred, pos_label='macmiller'), 2)"
   ],
   "outputs": [
    {
     "output_type": "execute_result",
     "data": {
      "text/plain": [
       "0.67"
      ]
     },
     "metadata": {},
     "execution_count": 228
    }
   ],
   "metadata": {}
  },
  {
   "cell_type": "code",
   "execution_count": null,
   "source": [
    "#applying a confusion matrix \n",
    "metrics.confusion_matrix(y_val, y_pred)\n",
    "metrics.plot_confusion_matrix(m, X_val, y_val, cmap='Blues')"
   ],
   "outputs": [
    {
     "output_type": "execute_result",
     "data": {
      "text/plain": [
       "<sklearn.metrics._plot.confusion_matrix.ConfusionMatrixDisplay at 0x7f96badf27c0>"
      ]
     },
     "metadata": {},
     "execution_count": 229
    },
    {
     "output_type": "display_data",
     "data": {
      "text/plain": [
       "<Figure size 432x288 with 2 Axes>"
      ],
      "image/png": "[encoded data removed]"
     },
     "metadata": {
      "needs_background": "light"
     }
    }
   ],
   "metadata": {
    "scrolled": true
   }
  },
  {
   "cell_type": "markdown",
   "source": [
    "***"
   ],
   "metadata": {}
  },
  {
   "cell_type": "markdown",
   "source": [
    "## VII. Calculate test-score"
   ],
   "metadata": {}
  },
  {
   "cell_type": "markdown",
   "source": [
    "*Calculating the model scores for all data sets*"
   ],
   "metadata": {}
  },
  {
   "cell_type": "code",
   "execution_count": null,
   "source": [
    "#calculating the model score using y_test\n",
    "round(m.score(X_test, y_test),2)"
   ],
   "outputs": [
    {
     "output_type": "execute_result",
     "data": {
      "text/plain": [
       "0.4"
      ]
     },
     "metadata": {},
     "execution_count": 230
    }
   ],
   "metadata": {
    "scrolled": true
   }
  },
  {
   "cell_type": "code",
   "execution_count": null,
   "source": [
    "y_pred = m.predict(X_test)"
   ],
   "outputs": [],
   "metadata": {
    "scrolled": false
   }
  },
  {
   "cell_type": "markdown",
   "source": [
    "***"
   ],
   "metadata": {}
  },
  {
   "cell_type": "markdown",
   "source": [
    "*Metrics scores*"
   ],
   "metadata": {}
  },
  {
   "cell_type": "code",
   "execution_count": null,
   "source": [
    "#accuracy\n",
    "round(metrics.accuracy_score(y_test, y_pred),2)"
   ],
   "outputs": [
    {
     "output_type": "execute_result",
     "data": {
      "text/plain": [
       "0.4"
      ]
     },
     "metadata": {},
     "execution_count": 232
    }
   ],
   "metadata": {}
  },
  {
   "cell_type": "code",
   "execution_count": null,
   "source": [
    "#precision\n",
    "round(metrics.precision_score(y_test, y_pred, pos_label='macmiller'), 2)"
   ],
   "outputs": [
    {
     "output_type": "execute_result",
     "data": {
      "text/plain": [
       "0.0"
      ]
     },
     "metadata": {},
     "execution_count": 233
    }
   ],
   "metadata": {}
  },
  {
   "cell_type": "code",
   "execution_count": null,
   "source": [
    "#recall\n",
    "round(metrics.recall_score(y_test, y_pred, pos_label='macmiller'), 2)"
   ],
   "outputs": [
    {
     "output_type": "execute_result",
     "data": {
      "text/plain": [
       "0.0"
      ]
     },
     "metadata": {},
     "execution_count": 234
    }
   ],
   "metadata": {}
  },
  {
   "cell_type": "code",
   "execution_count": null,
   "source": [
    "#f1\n",
    "round(metrics.f1_score(y_test, y_pred, pos_label='macmiller'), 2)"
   ],
   "outputs": [
    {
     "output_type": "execute_result",
     "data": {
      "text/plain": [
       "0.0"
      ]
     },
     "metadata": {},
     "execution_count": 235
    }
   ],
   "metadata": {}
  },
  {
   "cell_type": "code",
   "execution_count": null,
   "source": [
    "#applying a confusion matrix \n",
    "metrics.confusion_matrix(y_test, y_pred)\n",
    "metrics.plot_confusion_matrix(m, X_test, y_test, cmap='Blues')"
   ],
   "outputs": [
    {
     "output_type": "execute_result",
     "data": {
      "text/plain": [
       "<sklearn.metrics._plot.confusion_matrix.ConfusionMatrixDisplay at 0x7f96bda8a340>"
      ]
     },
     "metadata": {},
     "execution_count": 236
    },
    {
     "output_type": "display_data",
     "data": {
      "text/plain": [
       "<Figure size 432x288 with 2 Axes>"
      ],
      "image/png": "[encoded data removed]"
     },
     "metadata": {
      "needs_background": "light"
     }
    }
   ],
   "metadata": {
    "scrolled": false
   }
  },
  {
   "cell_type": "markdown",
   "source": [
    "<font color = 'blue'> Summary of Naive Bayes Model </font> Interestingly, the scores of the model always change dramatically depending the random state. As the data sample is so small (approximatley 12 songs for each artists), the high variance is also not surprising. "
   ],
   "metadata": {}
  },
  {
   "cell_type": "markdown",
   "source": [
    "***"
   ],
   "metadata": {}
  },
  {
   "cell_type": "markdown",
   "source": [
    "## VIII. Calculating the probability of unseen lyrics"
   ],
   "metadata": {}
  },
  {
   "cell_type": "code",
   "execution_count": null,
   "source": [
    "#creating a new dataset //// using the lyrics from 'limit to your love' by James Blake \n",
    "unseen_data = ['There s a limit to your love Like a waterfall in slow motion Like a map with no ocean There s a limit to your love Your love your love your love There s a limit to you care So carelessly there is it truth or dare There s a limit to your care There s a limit to your love Like a waterfall in slow motion Like a map with no ocean There s a limit to your love']\n",
    "unseen_data = pd.DataFrame(unseen_data)\n",
    "print(unseen_data )"
   ],
   "outputs": [
    {
     "output_type": "stream",
     "name": "stdout",
     "text": [
      "                                                   0\n",
      "0  There s a limit to your love Like a waterfall ...\n"
     ]
    }
   ],
   "metadata": {}
  },
  {
   "cell_type": "markdown",
   "source": [
    "***"
   ],
   "metadata": {}
  },
  {
   "cell_type": "markdown",
   "source": [
    "*Tokenize*"
   ],
   "metadata": {}
  },
  {
   "cell_type": "code",
   "execution_count": null,
   "source": [
    "#transform unseen_data into tokens \n",
    "unseen_data[0] = unseen_data[0].apply(nltk.tokenize)"
   ],
   "outputs": [],
   "metadata": {}
  },
  {
   "cell_type": "markdown",
   "source": [
    "***"
   ],
   "metadata": {}
  },
  {
   "cell_type": "markdown",
   "source": [
    "*Lemmatize and tansform to list*"
   ],
   "metadata": {}
  },
  {
   "cell_type": "code",
   "execution_count": null,
   "source": [
    "#lematize all colomns of every df_artist\n",
    "unseen_data[0] = unseen_data[0].apply(lemmatize_text)\n",
    "\n",
    "#transform to list \n",
    "unseen_data = unseen_data[0].to_list()\n",
    "print(unseen_data)"
   ],
   "outputs": [
    {
     "output_type": "stream",
     "name": "stdout",
     "text": [
      "['There s a limit to your love Like a waterfall in slow motion Like a map with no ocean There s a limit to your love Your love your love your love There s a limit to you care So carelessly there is it truth or dare There s a limit to your care There s a limit to your love Like a waterfall in slow motion Like a map with no ocean There s a limit to your love']\n"
     ]
    }
   ],
   "metadata": {}
  },
  {
   "cell_type": "markdown",
   "source": [
    "***"
   ],
   "metadata": {}
  },
  {
   "cell_type": "markdown",
   "source": [
    "*TfidfVectorizer*"
   ],
   "metadata": {}
  },
  {
   "cell_type": "code",
   "execution_count": null,
   "source": [
    "#fit & transform unseen_data\n",
    "unseen_data = vectorizer.transform(unseen_data)\n",
    "print(unseen_data)"
   ],
   "outputs": [
    {
     "output_type": "stream",
     "name": "stdout",
     "text": [
      "  (0, 90)\t0.836020655820209\n",
      "  (0, 85)\t0.47772608904011943\n",
      "  (0, 19)\t0.26990229138038024\n"
     ]
    }
   ],
   "metadata": {}
  },
  {
   "cell_type": "code",
   "execution_count": null,
   "source": [
    "unseen_data.shape"
   ],
   "outputs": [
    {
     "output_type": "execute_result",
     "data": {
      "text/plain": [
       "(1, 161)"
      ]
     },
     "metadata": {},
     "execution_count": 241
    }
   ],
   "metadata": {}
  },
  {
   "cell_type": "markdown",
   "source": [
    "***"
   ],
   "metadata": {}
  },
  {
   "cell_type": "markdown",
   "source": [
    "*Model prediction*"
   ],
   "metadata": {}
  },
  {
   "cell_type": "code",
   "execution_count": null,
   "source": [
    "#model\n",
    "m.predict(unseen_data)"
   ],
   "outputs": [
    {
     "output_type": "execute_result",
     "data": {
      "text/plain": [
       "array(['macmiller'], dtype='<U10')"
      ]
     },
     "metadata": {},
     "execution_count": 243
    }
   ],
   "metadata": {}
  },
  {
   "cell_type": "code",
   "execution_count": null,
   "source": [
    "m.predict_proba(unseen_data)"
   ],
   "outputs": [
    {
     "output_type": "execute_result",
     "data": {
      "text/plain": [
       "array([[0.38635854, 0.61364146]])"
      ]
     },
     "metadata": {},
     "execution_count": 244
    }
   ],
   "metadata": {}
  },
  {
   "cell_type": "markdown",
   "source": [
    "<font color = 'blue'> Summary </font> The model predicts that there is a 61% probabiliy of the unseen lyrics belonging to MacMiller. Unfortunatly, the inserted lyrics are written by James Blake, not Macmiller. There are three possible reasons; 1) training set is too small; 2) lyrics of the two artists are too similiar and/or 3) the model is not sufficient enough. "
   ],
   "metadata": {}
  },
  {
   "cell_type": "markdown",
   "source": [],
   "metadata": {}
  }
 ],
 "metadata": {
  "kernelspec": {
   "name": "python3",
   "display_name": "Python 3.8.8 64-bit ('base': conda)"
  },
  "language_info": {
   "codemirror_mode": {
    "name": "ipython",
    "version": 3
   },
   "file_extension": ".py",
   "mimetype": "text/x-python",
   "name": "python",
   "nbconvert_exporter": "python",
   "pygments_lexer": "ipython3",
   "version": "3.8.8"
  },
  "interpreter": {
   "hash": "dca0ade3e726a953b501b15e8e990130d2b7799f14cfd9f4271676035ebe5511"
  }
 },
 "nbformat": 4,
 "nbformat_minor": 5
}