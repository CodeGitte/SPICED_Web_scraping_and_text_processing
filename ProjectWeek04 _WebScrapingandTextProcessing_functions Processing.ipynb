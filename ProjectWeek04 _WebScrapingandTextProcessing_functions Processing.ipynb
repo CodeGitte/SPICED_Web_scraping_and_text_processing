{
 "cells": [
  {
   "cell_type": "markdown",
   "id": "b4af2e6f",
   "metadata": {
    "slideshow": {
     "slide_type": "slide"
    }
   },
   "source": [
    "# SPICED Academy ///  Project Week 04 /// Web Scraping and Text Processing"
   ]
  },
  {
   "cell_type": "markdown",
   "id": "4df946ff",
   "metadata": {},
   "source": [
    "***"
   ]
  },
  {
   "cell_type": "markdown",
   "id": "a3c13c60",
   "metadata": {},
   "source": [
    "## I. Define goal\n",
    "\n",
    "The goal of this project is to develop a text classifier that predicts the probability of a song being rightously classified to a certain artist, in this case MacMiller and James Blake. Those two artist were picked because they are my current favourite musicians. In concrete, the albums \"Friends that break your heart\" (by James Blake) and \"Circles\" (by Mac Miller) were compared. "
   ]
  },
  {
   "cell_type": "markdown",
   "id": "5495f9c4",
   "metadata": {},
   "source": [
    "***"
   ]
  },
  {
   "cell_type": "markdown",
   "id": "3e8393bf",
   "metadata": {},
   "source": [
    "## II. Import libraries "
   ]
  },
  {
   "cell_type": "code",
   "execution_count": 2,
   "id": "bfe689c5",
   "metadata": {},
   "outputs": [
    {
     "ename": "ModuleNotFoundError",
     "evalue": "No module named 'lyricsgenius'",
     "output_type": "error",
     "traceback": [
      "\u001b[0;31m---------------------------------------------------------------------------\u001b[0m",
      "\u001b[0;31mModuleNotFoundError\u001b[0m                       Traceback (most recent call last)",
      "\u001b[0;32m<ipython-input-2-853cfca41ea7>\u001b[0m in \u001b[0;36m<module>\u001b[0;34m\u001b[0m\n\u001b[1;32m      5\u001b[0m \u001b[0;34m\u001b[0m\u001b[0m\n\u001b[1;32m      6\u001b[0m \u001b[0;31m#web scraping\u001b[0m\u001b[0;34m\u001b[0m\u001b[0;34m\u001b[0m\u001b[0;34m\u001b[0m\u001b[0m\n\u001b[0;32m----> 7\u001b[0;31m \u001b[0;32mimport\u001b[0m \u001b[0mlyricsgenius\u001b[0m \u001b[0;32mas\u001b[0m \u001b[0mgenius\u001b[0m\u001b[0;34m\u001b[0m\u001b[0;34m\u001b[0m\u001b[0m\n\u001b[0m\u001b[1;32m      8\u001b[0m \u001b[0;32mimport\u001b[0m \u001b[0mapi_key\u001b[0m\u001b[0;34m\u001b[0m\u001b[0;34m\u001b[0m\u001b[0m\n\u001b[1;32m      9\u001b[0m \u001b[0;32mimport\u001b[0m \u001b[0mre\u001b[0m\u001b[0;34m\u001b[0m\u001b[0;34m\u001b[0m\u001b[0m\n",
      "\u001b[0;31mModuleNotFoundError\u001b[0m: No module named 'lyricsgenius'"
     ]
    }
   ],
   "source": [
    "#data processing and general\n",
    "import pandas as pd\n",
    "import json\n",
    "import pprint\n",
    "\n",
    "#web scraping\n",
    "import lyricsgenius as genius\n",
    "import api_key\n",
    "import re\n",
    "\n",
    "#feature engineering\n",
    "from functions import FeatureEngineeringLyrics\n",
    "import nltk \n",
    "from nltk.tokenize import TreebankWordTokenizer \n",
    "from nltk.tokenize import word_tokenize\n",
    "from nltk.stem import WordNetLemmatizer\n",
    "from nltk.corpus import stopwords\n",
    "from sklearn.feature_extraction.text import TfidfVectorizer\n",
    "from sklearn.model_selection import train_test_split\n",
    "from sklearn.pipeline import Pipeline\n",
    "\n",
    "#machine learning models\n",
    "from sklearn.naive_bayes import MultinomialNB\n",
    "\n",
    "#metrics\n",
    "import sklearn.metrics as metrics"
   ]
  },
  {
   "cell_type": "markdown",
   "id": "7d13a987",
   "metadata": {},
   "source": [
    "***"
   ]
  },
  {
   "cell_type": "markdown",
   "id": "ad20089d",
   "metadata": {},
   "source": [
    "## III. Import and transform data"
   ]
  },
  {
   "cell_type": "markdown",
   "id": "421acf57",
   "metadata": {},
   "source": [
    "*Requesting access from Genius*"
   ]
  },
  {
   "cell_type": "code",
   "execution_count": null,
   "id": "aea0dbb8",
   "metadata": {},
   "outputs": [],
   "source": [
    "#access token from Genius\n",
    "client_access_token = api_key.your_client_access_token\n",
    "genius = genius.Genius(client_access_token)"
   ]
  },
  {
   "cell_type": "markdown",
   "id": "0746c41f",
   "metadata": {},
   "source": [
    "***"
   ]
  },
  {
   "cell_type": "markdown",
   "id": "5c70b844",
   "metadata": {},
   "source": [
    "*Understanding the functionalities of LyricsGenius*"
   ]
  },
  {
   "cell_type": "code",
   "execution_count": null,
   "id": "f97a5111",
   "metadata": {},
   "outputs": [],
   "source": [
    "#accessing a couple of songs from James Blake\n",
    "#JamesBlake = genius.search_artist(\"James Blake\", 6)"
   ]
  },
  {
   "cell_type": "code",
   "execution_count": null,
   "id": "21e91bd3",
   "metadata": {},
   "outputs": [],
   "source": [
    "#printing the song lyrics\n",
    "#for song in JamesBlake.songs:\n",
    "    #print(song.lyrics)"
   ]
  },
  {
   "cell_type": "code",
   "execution_count": null,
   "id": "2bd2c875",
   "metadata": {},
   "outputs": [],
   "source": [
    "#searching for one specific song\n",
    "#song = genius.search_song(\"James Blake\", \"Famous last words\")"
   ]
  },
  {
   "cell_type": "code",
   "execution_count": null,
   "id": "c23fe331",
   "metadata": {},
   "outputs": [],
   "source": [
    "#printing the lyrics of \"Limit to your love\" by \"James Blake\"\n",
    "#print(song.lyrics)"
   ]
  },
  {
   "cell_type": "markdown",
   "id": "2127aea2",
   "metadata": {},
   "source": [
    "<font color = 'blue'> Summary of LyricsGenius </font> In order to use the lyrics for the machine learning model, the text has to be cleaned. In concrete, `\\n` and word phrases like `[Verse 1]` have to be filtered out."
   ]
  },
  {
   "cell_type": "markdown",
   "id": "ef5d6110",
   "metadata": {},
   "source": [
    "***"
   ]
  },
  {
   "cell_type": "markdown",
   "id": "ed283a50",
   "metadata": {},
   "source": [
    "*Accessing the albums \"Friends that break your heart\" by James Blake and \"Circles\" by Mac Miller*"
   ]
  },
  {
   "cell_type": "code",
   "execution_count": null,
   "id": "603b21d1",
   "metadata": {},
   "outputs": [],
   "source": [
    "#saving the lyrics of the album \"Friends that break your heart\" by \"James Blake\" as json file\n",
    "#album = genius.search_album(\"Friends that break your heart\", \"James Blake\")\n",
    "#album.save_lyrics"
   ]
  },
  {
   "cell_type": "code",
   "execution_count": null,
   "id": "dd7241b2",
   "metadata": {},
   "outputs": [],
   "source": [
    "#saving the lyrics of the album \"Circles\" by \"Mac Miller\" as json file\n",
    "#album = genius.search_album(\"Circles\", \"Mac Miller\")\n",
    "#album.save_lyrics"
   ]
  },
  {
   "cell_type": "markdown",
   "id": "899c1855",
   "metadata": {},
   "source": [
    "***"
   ]
  },
  {
   "cell_type": "markdown",
   "id": "9bb55e0e",
   "metadata": {},
   "source": [
    "*Converting the json files into dataframes (James Blake)*"
   ]
  },
  {
   "cell_type": "code",
   "execution_count": null,
   "id": "b5e04364",
   "metadata": {},
   "outputs": [],
   "source": [
    "#opening the json files\n",
    "with open('Lyrics_FriendsThatBreakYourHeart.json', 'r') as read_file:\n",
    "    jamesblake_json = json.load(read_file)"
   ]
  },
  {
   "cell_type": "code",
   "execution_count": null,
   "id": "26eed7e3",
   "metadata": {},
   "outputs": [],
   "source": [
    "#understanding the structure of the json file\n",
    "#pprint.pprint(jamesblake_json['tracks'][0]['song']['lyrics'])"
   ]
  },
  {
   "cell_type": "code",
   "execution_count": null,
   "id": "7273968e",
   "metadata": {},
   "outputs": [],
   "source": [
    "#understanding the structure of the json file\n",
    "#pprint.pprint(jamesblake_json['tracks'][0])"
   ]
  },
  {
   "cell_type": "code",
   "execution_count": null,
   "id": "faaa1e63",
   "metadata": {},
   "outputs": [],
   "source": [
    "#writing an empty list\n",
    "list_jamesblake = []"
   ]
  },
  {
   "cell_type": "code",
   "execution_count": null,
   "id": "dc0178a6",
   "metadata": {},
   "outputs": [],
   "source": [
    "#slicing out the lyrics and the artist's name and fill them into the empty list\n",
    "for track in jamesblake_json['tracks']:\n",
    "    X = track['song']['lyrics']\n",
    "    y = track['song']['artist']\n",
    "    list_jamesblake.append([X,y])"
   ]
  },
  {
   "cell_type": "code",
   "execution_count": null,
   "id": "2a2bda33",
   "metadata": {},
   "outputs": [],
   "source": [
    "#inspecting the filled list\n",
    "#list_jamesblake"
   ]
  },
  {
   "cell_type": "code",
   "execution_count": null,
   "id": "783274d4",
   "metadata": {},
   "outputs": [],
   "source": [
    "#creating a dataframe from the list\n",
    "df_jamesblake = pd.DataFrame(list_jamesblake, columns=['X', 'y'])\n",
    "df_jamesblake"
   ]
  },
  {
   "cell_type": "markdown",
   "id": "91bb4c33",
   "metadata": {},
   "source": [
    "***"
   ]
  },
  {
   "cell_type": "markdown",
   "id": "b0458dee",
   "metadata": {},
   "source": [
    "*Converting the json files into dataframes (Mac Miller)*"
   ]
  },
  {
   "cell_type": "code",
   "execution_count": null,
   "id": "91cb2473",
   "metadata": {},
   "outputs": [],
   "source": [
    "#opening the json files\n",
    "with open('Lyrics_Circles.json', 'r') as read_file:\n",
    "    macmiller_json = json.load(read_file)"
   ]
  },
  {
   "cell_type": "code",
   "execution_count": null,
   "id": "ec499ef0",
   "metadata": {},
   "outputs": [],
   "source": [
    "#understanding the structure of the json file\n",
    "#pprint.pprint(macmiller_json['tracks'][0]['song']['lyrics'])"
   ]
  },
  {
   "cell_type": "code",
   "execution_count": null,
   "id": "fd11fe78",
   "metadata": {},
   "outputs": [],
   "source": [
    "#understanding the structure of the json file\n",
    "#pprint.pprint(macmiller_json['tracks'][0])"
   ]
  },
  {
   "cell_type": "code",
   "execution_count": null,
   "id": "f73f1361",
   "metadata": {},
   "outputs": [],
   "source": [
    "#writing an empty list\n",
    "list_macmiller = []"
   ]
  },
  {
   "cell_type": "code",
   "execution_count": null,
   "id": "156e1d37",
   "metadata": {},
   "outputs": [],
   "source": [
    "#slicing out the lyrics and the artist's name and fill them into the empty list\n",
    "for track in macmiller_json['tracks']:\n",
    "    X = track['song']['lyrics']\n",
    "    y = track['song']['artist']\n",
    "    list_macmiller.append([X,y])"
   ]
  },
  {
   "cell_type": "code",
   "execution_count": null,
   "id": "9993eb9a",
   "metadata": {},
   "outputs": [],
   "source": [
    "#inspecting the filled list\n",
    "#list_macmiller"
   ]
  },
  {
   "cell_type": "code",
   "execution_count": null,
   "id": "4bbdd470",
   "metadata": {},
   "outputs": [],
   "source": [
    "#creating a dataframe from the list\n",
    "df_macmiller = pd.DataFrame(list_macmiller, columns=['X', 'y'])"
   ]
  },
  {
   "cell_type": "markdown",
   "id": "a0be522f",
   "metadata": {},
   "source": [
    "***"
   ]
  },
  {
   "cell_type": "code",
   "execution_count": null,
   "id": "a7885817",
   "metadata": {
    "scrolled": true
   },
   "outputs": [],
   "source": [
    "#concate both dataframes\n",
    "frames = [df_jamesblake, df_macmiller]\n",
    "df = pd.concat(frames)\n",
    "df"
   ]
  },
  {
   "cell_type": "markdown",
   "id": "2c70a59a",
   "metadata": {},
   "source": [
    "***"
   ]
  },
  {
   "cell_type": "markdown",
   "id": "645ed702",
   "metadata": {},
   "source": [
    "## IV. Feature Engineering"
   ]
  },
  {
   "cell_type": "code",
   "execution_count": null,
   "id": "44fb5034",
   "metadata": {},
   "outputs": [],
   "source": [
    "fel = FeatureEngineeringLyrics(df)\n",
    "fel.clean_dataframe(df['X'], df['y'])"
   ]
  },
  {
   "cell_type": "markdown",
   "id": "f87e76d0",
   "metadata": {},
   "source": [
    "***"
   ]
  },
  {
   "cell_type": "markdown",
   "id": "2c07c42f",
   "metadata": {},
   "source": [
    "## V. Splitting the data in train, validation and test data"
   ]
  },
  {
   "cell_type": "markdown",
   "id": "998c2e37",
   "metadata": {},
   "source": [
    "*Splitting the data*"
   ]
  },
  {
   "cell_type": "code",
   "execution_count": null,
   "id": "68d0c7e6",
   "metadata": {},
   "outputs": [],
   "source": [
    "#splitting the data \n",
    "X_train, X_test, y_train, y_test = train_test_split(X, y, test_size=0.20, random_state = 25)\n",
    "X_train, X_val, y_train, y_val = train_test_split(X_train, y_train, test_size=0.25, random_state= 25) # 0.25 x 0.8 = 0.2"
   ]
  },
  {
   "cell_type": "code",
   "execution_count": null,
   "id": "f753d0a9",
   "metadata": {},
   "outputs": [],
   "source": [
    "#checking if the splitting worked\n",
    "y_train"
   ]
  },
  {
   "cell_type": "markdown",
   "id": "3e6f499a",
   "metadata": {},
   "source": [
    "***"
   ]
  },
  {
   "cell_type": "markdown",
   "id": "74b177f9",
   "metadata": {},
   "source": [
    "## VI. Classification Model "
   ]
  },
  {
   "cell_type": "markdown",
   "id": "641cc60a",
   "metadata": {},
   "source": [
    "*Applying a Naive Bayes model*"
   ]
  },
  {
   "cell_type": "code",
   "execution_count": null,
   "id": "17e6ea7b",
   "metadata": {},
   "outputs": [],
   "source": [
    "#applying \n",
    "m = MultinomialNB() "
   ]
  },
  {
   "cell_type": "code",
   "execution_count": null,
   "id": "30fc5de8",
   "metadata": {},
   "outputs": [],
   "source": [
    "#train the model \n",
    "m.fit(X_train, y_train)"
   ]
  },
  {
   "cell_type": "code",
   "execution_count": null,
   "id": "b4f6eb58",
   "metadata": {},
   "outputs": [],
   "source": [
    "#test the model score\n",
    "m.score(X_train, y_train)"
   ]
  },
  {
   "cell_type": "code",
   "execution_count": null,
   "id": "be3b52c7",
   "metadata": {},
   "outputs": [],
   "source": [
    "#test the model score\n",
    "m.score(X_val, y_val)"
   ]
  },
  {
   "cell_type": "code",
   "execution_count": null,
   "id": "88aed95c",
   "metadata": {
    "scrolled": false
   },
   "outputs": [],
   "source": [
    "y_pred = m.predict(X_val)"
   ]
  },
  {
   "cell_type": "markdown",
   "id": "d44ae213",
   "metadata": {},
   "source": [
    "***"
   ]
  },
  {
   "cell_type": "markdown",
   "id": "e6242827",
   "metadata": {},
   "source": [
    "*Metrics scores*"
   ]
  },
  {
   "cell_type": "code",
   "execution_count": null,
   "id": "b19e60d5",
   "metadata": {},
   "outputs": [],
   "source": [
    "#accuracy\n",
    "round(metrics.accuracy_score(y_val, y_pred),2)"
   ]
  },
  {
   "cell_type": "code",
   "execution_count": null,
   "id": "59068540",
   "metadata": {},
   "outputs": [],
   "source": [
    "#precision\n",
    "round(metrics.precision_score(y_val, y_pred, pos_label='macmiller'), 2)"
   ]
  },
  {
   "cell_type": "code",
   "execution_count": null,
   "id": "ebeb4d00",
   "metadata": {},
   "outputs": [],
   "source": [
    "#recall\n",
    "round(metrics.recall_score(y_val, y_pred,pos_label='macmiller'), 2)"
   ]
  },
  {
   "cell_type": "code",
   "execution_count": null,
   "id": "beab91c2",
   "metadata": {},
   "outputs": [],
   "source": [
    "#f1\n",
    "round(metrics.f1_score(y_val, y_pred, pos_label='macmiller'), 2)"
   ]
  },
  {
   "cell_type": "code",
   "execution_count": null,
   "id": "24efb8fd",
   "metadata": {
    "scrolled": true
   },
   "outputs": [],
   "source": [
    "#applying a confusion matrix \n",
    "metrics.confusion_matrix(y_val, y_pred)\n",
    "metrics.plot_confusion_matrix(m, X_val, y_val, cmap='Blues')"
   ]
  },
  {
   "cell_type": "markdown",
   "id": "d7a7dd84",
   "metadata": {},
   "source": [
    "***"
   ]
  },
  {
   "cell_type": "markdown",
   "id": "115fed6b",
   "metadata": {},
   "source": [
    "## VII. Calculate test-score"
   ]
  },
  {
   "cell_type": "markdown",
   "id": "4c6d2f66",
   "metadata": {},
   "source": [
    "*Calculating the model scores for all data sets*"
   ]
  },
  {
   "cell_type": "code",
   "execution_count": null,
   "id": "dd01be1c",
   "metadata": {
    "scrolled": true
   },
   "outputs": [],
   "source": [
    "#calculating the model score using y_test\n",
    "round(m.score(X_test, y_test),2)"
   ]
  },
  {
   "cell_type": "code",
   "execution_count": null,
   "id": "58f2414a",
   "metadata": {
    "scrolled": false
   },
   "outputs": [],
   "source": [
    "y_pred = m.predict(X_test)"
   ]
  },
  {
   "cell_type": "markdown",
   "id": "da4915b3",
   "metadata": {},
   "source": [
    "***"
   ]
  },
  {
   "cell_type": "markdown",
   "id": "448444cc",
   "metadata": {},
   "source": [
    "*Metrics scores*"
   ]
  },
  {
   "cell_type": "code",
   "execution_count": null,
   "id": "48195cae",
   "metadata": {},
   "outputs": [],
   "source": [
    "#accuracy\n",
    "round(metrics.accuracy_score(y_test, y_pred),2)"
   ]
  },
  {
   "cell_type": "code",
   "execution_count": null,
   "id": "9269017c",
   "metadata": {},
   "outputs": [],
   "source": [
    "#precision\n",
    "round(metrics.precision_score(y_test, y_pred, pos_label='macmiller'), 2)"
   ]
  },
  {
   "cell_type": "code",
   "execution_count": null,
   "id": "d53652c1",
   "metadata": {},
   "outputs": [],
   "source": [
    "#recall\n",
    "round(metrics.recall_score(y_test, y_pred, pos_label='macmiller'), 2)"
   ]
  },
  {
   "cell_type": "code",
   "execution_count": null,
   "id": "d1bcbcab",
   "metadata": {},
   "outputs": [],
   "source": [
    "#f1\n",
    "round(metrics.f1_score(y_test, y_pred, pos_label='macmiller'), 2)"
   ]
  },
  {
   "cell_type": "code",
   "execution_count": null,
   "id": "2ef6bd99",
   "metadata": {
    "scrolled": false
   },
   "outputs": [],
   "source": [
    "#applying a confusion matrix \n",
    "metrics.confusion_matrix(y_test, y_pred)\n",
    "metrics.plot_confusion_matrix(m, X_test, y_test, cmap='Blues')"
   ]
  },
  {
   "cell_type": "markdown",
   "id": "8d75a76c",
   "metadata": {},
   "source": [
    "***"
   ]
  },
  {
   "cell_type": "markdown",
   "id": "0b5fee50",
   "metadata": {},
   "source": [
    "## VIII. Calculating the probability of unseen lyrics"
   ]
  },
  {
   "cell_type": "code",
   "execution_count": null,
   "id": "22747130",
   "metadata": {},
   "outputs": [],
   "source": [
    "\n",
    "#X_unseen = vectorizer.fit_transform(X_unseen)"
   ]
  },
  {
   "cell_type": "code",
   "execution_count": null,
   "id": "3593f071",
   "metadata": {},
   "outputs": [],
   "source": [
    "\n",
    "#m.predict(X_unseen)\n",
    "#m.predict_proba([\"yellow submarine\"])"
   ]
  },
  {
   "cell_type": "code",
   "execution_count": null,
   "id": "8752b4ab",
   "metadata": {},
   "outputs": [],
   "source": []
  }
 ],
 "metadata": {
  "kernelspec": {
   "display_name": "Python 3",
   "language": "python",
   "name": "python3"
  },
  "language_info": {
   "codemirror_mode": {
    "name": "ipython",
    "version": 3
   },
   "file_extension": ".py",
   "mimetype": "text/x-python",
   "name": "python",
   "nbconvert_exporter": "python",
   "pygments_lexer": "ipython3",
   "version": "3.8.8"
  }
 },
 "nbformat": 4,
 "nbformat_minor": 5
}
